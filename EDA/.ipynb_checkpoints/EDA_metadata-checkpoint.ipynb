{
 "cells": [
  {
   "cell_type": "code",
   "execution_count": 23,
   "metadata": {},
   "outputs": [
    {
     "name": "stdout",
     "output_type": "stream",
     "text": [
      "['../dummy_data/amazon_metadata\\\\partition_1\\\\part-00000-tid-3344574289433532396-3f817a27-d835-4855-8b64-d13674426898-1-1-c000.json.gz', '../dummy_data/amazon_metadata\\\\partition_10\\\\part-00000-tid-3586618811572798000-3a13c9a6-f909-458f-b4eb-ebf099618d77-19-1-c000.json.gz', '../dummy_data/amazon_metadata\\\\partition_2\\\\part-00000-tid-8978780751579607489-aba02252-7972-4373-937c-7a5d28908d8f-3-1-c000.json.gz', '../dummy_data/amazon_metadata\\\\partition_3\\\\part-00000-tid-932313985200962490-d6dad39f-baac-41e4-9b5a-621f854958f3-5-1-c000.json.gz', '../dummy_data/amazon_metadata\\\\partition_4\\\\part-00000-tid-3023792298953549582-89bb2dce-50a0-4630-9750-df595bc9a5ef-7-1-c000.json.gz', '../dummy_data/amazon_metadata\\\\partition_5\\\\part-00000-tid-2223343285848443161-33252f7f-2f07-41e3-972d-bd4736ba4558-9-1-c000.json.gz', '../dummy_data/amazon_metadata\\\\partition_6\\\\part-00000-tid-8626711031518839734-e26f1836-4d6c-45ac-a69e-4601ab79bc55-11-1-c000.json.gz', '../dummy_data/amazon_metadata\\\\partition_7\\\\part-00000-tid-4527115473208151694-2396b562-4281-4ec7-acf4-a8bf4115f9ff-13-1-c000.json.gz', '../dummy_data/amazon_metadata\\\\partition_8\\\\part-00000-tid-2447242272459639721-0e855902-3d32-4367-b12c-42988740b3c4-15-1-c000.json.gz', '../dummy_data/amazon_metadata\\\\partition_9\\\\part-00000-tid-6261978258898740711-b488894a-4dff-44a9-93a3-3127d179458f-17-1-c000.json.gz']\n"
     ]
    }
   ],
   "source": [
    "#Read all the json files paths under the folder dummy_data/amazon_metadata, glob finds files in a folder\n",
    "from glob2 import glob\n",
    "jsonFiles = glob('../dummy_data/amazon_metadata/**/*.json.gz')\n",
    "print(jsonFiles)"
   ]
  },
  {
   "cell_type": "code",
   "execution_count": 24,
   "metadata": {},
   "outputs": [],
   "source": [
    "#Create a single dataframe from all the json files\n",
    "import pandas as pd\n",
    "dfList = []\n",
    "for jsonFile in jsonFiles:\n",
    "    df = pd.read_json(jsonFile, lines=True,compression='gzip')\n",
    "    dfList.append(df)\n",
    "    \n",
    "df_metadata = pd.concat(dfList, axis=0)"
   ]
  },
  {
   "cell_type": "code",
   "execution_count": 25,
   "metadata": {},
   "outputs": [
    {
     "data": {
      "text/plain": [
       "(100000, 18)"
      ]
     },
     "execution_count": 25,
     "metadata": {},
     "output_type": "execute_result"
    }
   ],
   "source": [
    "df_metadata.shape"
   ]
  },
  {
   "cell_type": "code",
   "execution_count": 26,
   "metadata": {},
   "outputs": [
    {
     "data": {
      "text/html": [
       "<div>\n",
       "<style scoped>\n",
       "    .dataframe tbody tr th:only-of-type {\n",
       "        vertical-align: middle;\n",
       "    }\n",
       "\n",
       "    .dataframe tbody tr th {\n",
       "        vertical-align: top;\n",
       "    }\n",
       "\n",
       "    .dataframe thead th {\n",
       "        text-align: right;\n",
       "    }\n",
       "</style>\n",
       "<table border=\"1\" class=\"dataframe\">\n",
       "  <thead>\n",
       "    <tr style=\"text-align: right;\">\n",
       "      <th></th>\n",
       "      <th>also_buy</th>\n",
       "      <th>also_view</th>\n",
       "      <th>asin</th>\n",
       "      <th>brand</th>\n",
       "      <th>category</th>\n",
       "      <th>date</th>\n",
       "      <th>description</th>\n",
       "      <th>details</th>\n",
       "      <th>feature</th>\n",
       "      <th>fit</th>\n",
       "      <th>image</th>\n",
       "      <th>main_cat</th>\n",
       "      <th>price</th>\n",
       "      <th>rank</th>\n",
       "      <th>similar_item</th>\n",
       "      <th>tech1</th>\n",
       "      <th>tech2</th>\n",
       "      <th>title</th>\n",
       "    </tr>\n",
       "  </thead>\n",
       "  <tbody>\n",
       "    <tr>\n",
       "      <th>0</th>\n",
       "      <td>[]</td>\n",
       "      <td>[]</td>\n",
       "      <td>6305121869</td>\n",
       "      <td>Ninasill_Blouse</td>\n",
       "      <td>[Clothing, Shoes &amp; Jewelry, Women, Clothing, T...</td>\n",
       "      <td>&lt;div class=\"a-fixed-left-grid a-spacing-none\"&gt;...</td>\n",
       "      <td>[(=^ ^=) 1.It is made of high quality material...</td>\n",
       "      <td>{}</td>\n",
       "      <td>[Import, Versatile Occasions - Great for Daily...</td>\n",
       "      <td></td>\n",
       "      <td>[https://images-na.ssl-images-amazon.com/image...</td>\n",
       "      <td>Movies &amp; TV</td>\n",
       "      <td>$9.99 - $12.50</td>\n",
       "      <td>[]</td>\n",
       "      <td></td>\n",
       "      <td></td>\n",
       "      <td></td>\n",
       "      <td>Women Blouse, Ninasill Hooded Sweatshirt Coat ...</td>\n",
       "    </tr>\n",
       "    <tr>\n",
       "      <th>1</th>\n",
       "      <td>[]</td>\n",
       "      <td>[]</td>\n",
       "      <td>6318708057</td>\n",
       "      <td>Coolred-Women</td>\n",
       "      <td>[Clothing, Shoes &amp; Jewelry, Traditional &amp; Cult...</td>\n",
       "      <td>&lt;div class=\"a-fixed-left-grid a-spacing-none\"&gt;...</td>\n",
       "      <td>[&lt;b&gt;&lt;br&gt;Hi friend, welcome to our store. Befor...</td>\n",
       "      <td>{}</td>\n",
       "      <td>[100% Spandex, Order Larger If You are Between...</td>\n",
       "      <td></td>\n",
       "      <td>[https://images-na.ssl-images-amazon.com/image...</td>\n",
       "      <td>&lt;img src=\"https://images-na.ssl-images-amazon....</td>\n",
       "      <td>$16.08 - $18.36</td>\n",
       "      <td>14,082,777 in Clothing, Shoes &amp; Jewelry (</td>\n",
       "      <td></td>\n",
       "      <td></td>\n",
       "      <td></td>\n",
       "      <td>Coolred-Women Retro Split Sexy Skinny Premium ...</td>\n",
       "    </tr>\n",
       "    <tr>\n",
       "      <th>2</th>\n",
       "      <td>[]</td>\n",
       "      <td>[B07CRJ95M7, B008AHISU4, B07B8F98W2, B07DD98Q7...</td>\n",
       "      <td>6342506256</td>\n",
       "      <td>Gaok</td>\n",
       "      <td>[Clothing, Shoes &amp; Jewelry, Men, Clothing, Sho...</td>\n",
       "      <td>&lt;div class=\"a-fixed-left-grid a-spacing-none\"&gt;...</td>\n",
       "      <td>[Gaok men's pants are all made from cotton mat...</td>\n",
       "      <td>{}</td>\n",
       "      <td>[Cotton, Zipper closure, Material:100% cotton,...</td>\n",
       "      <td>class=\"a-normal a-align-center a-spacing-smal...</td>\n",
       "      <td>[https://images-na.ssl-images-amazon.com/image...</td>\n",
       "      <td>&lt;img src=\"https://images-na.ssl-images-amazon....</td>\n",
       "      <td>$26.99</td>\n",
       "      <td>2,877,972 in Clothing, Shoes &amp; Jewelry (</td>\n",
       "      <td></td>\n",
       "      <td></td>\n",
       "      <td></td>\n",
       "      <td>Gaok Men's Retro Cotton Multi-Pocket Camo Carg...</td>\n",
       "    </tr>\n",
       "    <tr>\n",
       "      <th>3</th>\n",
       "      <td>[B077GQQKRV, B07CBJQTF6, B07H2Z6S9J, B06Y26PZ5...</td>\n",
       "      <td>[B07H2Z6S9J, B077GQQKRV, B072XTTTK9, B002DMJOC...</td>\n",
       "      <td>6342509379</td>\n",
       "      <td>QIBOE</td>\n",
       "      <td>[Clothing, Shoes &amp; Jewelry, Men, Clothing, Jea...</td>\n",
       "      <td>&lt;div class=\"a-fixed-left-grid a-spacing-none\"&gt;...</td>\n",
       "      <td>[&lt;b&gt;pant size(Unit:inch)&lt;/b&gt;&lt;br&gt; W30(tag30) Wa...</td>\n",
       "      <td>{}</td>\n",
       "      <td>[Denim, Zipper closure, Material: cotton, Styl...</td>\n",
       "      <td>class=\"a-normal a-align-center a-spacing-smal...</td>\n",
       "      <td>[https://images-na.ssl-images-amazon.com/image...</td>\n",
       "      <td>&lt;img src=\"https://images-na.ssl-images-amazon....</td>\n",
       "      <td>$38.99</td>\n",
       "      <td>1,506,383 in Clothing, Shoes &amp; Jewelry (</td>\n",
       "      <td></td>\n",
       "      <td></td>\n",
       "      <td></td>\n",
       "      <td>QIBOE Men's Baggy Jeans Denim Sweatpants Loose...</td>\n",
       "    </tr>\n",
       "    <tr>\n",
       "      <th>4</th>\n",
       "      <td>[]</td>\n",
       "      <td>[B00V6F372G]</td>\n",
       "      <td>6342522081</td>\n",
       "      <td>OLO</td>\n",
       "      <td>[Clothing, Shoes &amp; Jewelry, Women, Accessories...</td>\n",
       "      <td></td>\n",
       "      <td>[All of our sunglasses offer protection agains...</td>\n",
       "      <td>{'ASIN: ': '6342522081'}</td>\n",
       "      <td>[Material: Polycarbonate, Main features: Windp...</td>\n",
       "      <td></td>\n",
       "      <td>[https://images-na.ssl-images-amazon.com/image...</td>\n",
       "      <td>Sports &amp; Outdoors</td>\n",
       "      <td>$3.29</td>\n",
       "      <td>936,295 in Sports &amp; Outdoors (</td>\n",
       "      <td></td>\n",
       "      <td></td>\n",
       "      <td></td>\n",
       "      <td>Crazy Explosion-proof Lens Polarized Sunglasse...</td>\n",
       "    </tr>\n",
       "  </tbody>\n",
       "</table>\n",
       "</div>"
      ],
      "text/plain": [
       "                                            also_buy  \\\n",
       "0                                                 []   \n",
       "1                                                 []   \n",
       "2                                                 []   \n",
       "3  [B077GQQKRV, B07CBJQTF6, B07H2Z6S9J, B06Y26PZ5...   \n",
       "4                                                 []   \n",
       "\n",
       "                                           also_view        asin  \\\n",
       "0                                                 []  6305121869   \n",
       "1                                                 []  6318708057   \n",
       "2  [B07CRJ95M7, B008AHISU4, B07B8F98W2, B07DD98Q7...  6342506256   \n",
       "3  [B07H2Z6S9J, B077GQQKRV, B072XTTTK9, B002DMJOC...  6342509379   \n",
       "4                                       [B00V6F372G]  6342522081   \n",
       "\n",
       "             brand                                           category  \\\n",
       "0  Ninasill_Blouse  [Clothing, Shoes & Jewelry, Women, Clothing, T...   \n",
       "1    Coolred-Women  [Clothing, Shoes & Jewelry, Traditional & Cult...   \n",
       "2             Gaok  [Clothing, Shoes & Jewelry, Men, Clothing, Sho...   \n",
       "3            QIBOE  [Clothing, Shoes & Jewelry, Men, Clothing, Jea...   \n",
       "4              OLO  [Clothing, Shoes & Jewelry, Women, Accessories...   \n",
       "\n",
       "                                                date  \\\n",
       "0  <div class=\"a-fixed-left-grid a-spacing-none\">...   \n",
       "1  <div class=\"a-fixed-left-grid a-spacing-none\">...   \n",
       "2  <div class=\"a-fixed-left-grid a-spacing-none\">...   \n",
       "3  <div class=\"a-fixed-left-grid a-spacing-none\">...   \n",
       "4                                                      \n",
       "\n",
       "                                         description  \\\n",
       "0  [(=^ ^=) 1.It is made of high quality material...   \n",
       "1  [<b><br>Hi friend, welcome to our store. Befor...   \n",
       "2  [Gaok men's pants are all made from cotton mat...   \n",
       "3  [<b>pant size(Unit:inch)</b><br> W30(tag30) Wa...   \n",
       "4  [All of our sunglasses offer protection agains...   \n",
       "\n",
       "                    details  \\\n",
       "0                        {}   \n",
       "1                        {}   \n",
       "2                        {}   \n",
       "3                        {}   \n",
       "4  {'ASIN: ': '6342522081'}   \n",
       "\n",
       "                                             feature  \\\n",
       "0  [Import, Versatile Occasions - Great for Daily...   \n",
       "1  [100% Spandex, Order Larger If You are Between...   \n",
       "2  [Cotton, Zipper closure, Material:100% cotton,...   \n",
       "3  [Denim, Zipper closure, Material: cotton, Styl...   \n",
       "4  [Material: Polycarbonate, Main features: Windp...   \n",
       "\n",
       "                                                 fit  \\\n",
       "0                                                      \n",
       "1                                                      \n",
       "2   class=\"a-normal a-align-center a-spacing-smal...   \n",
       "3   class=\"a-normal a-align-center a-spacing-smal...   \n",
       "4                                                      \n",
       "\n",
       "                                               image  \\\n",
       "0  [https://images-na.ssl-images-amazon.com/image...   \n",
       "1  [https://images-na.ssl-images-amazon.com/image...   \n",
       "2  [https://images-na.ssl-images-amazon.com/image...   \n",
       "3  [https://images-na.ssl-images-amazon.com/image...   \n",
       "4  [https://images-na.ssl-images-amazon.com/image...   \n",
       "\n",
       "                                            main_cat            price  \\\n",
       "0                                        Movies & TV   $9.99 - $12.50   \n",
       "1  <img src=\"https://images-na.ssl-images-amazon....  $16.08 - $18.36   \n",
       "2  <img src=\"https://images-na.ssl-images-amazon....           $26.99   \n",
       "3  <img src=\"https://images-na.ssl-images-amazon....           $38.99   \n",
       "4                                  Sports & Outdoors            $3.29   \n",
       "\n",
       "                                        rank similar_item tech1 tech2  \\\n",
       "0                                         []                            \n",
       "1  14,082,777 in Clothing, Shoes & Jewelry (                            \n",
       "2   2,877,972 in Clothing, Shoes & Jewelry (                            \n",
       "3   1,506,383 in Clothing, Shoes & Jewelry (                            \n",
       "4             936,295 in Sports & Outdoors (                            \n",
       "\n",
       "                                               title  \n",
       "0  Women Blouse, Ninasill Hooded Sweatshirt Coat ...  \n",
       "1  Coolred-Women Retro Split Sexy Skinny Premium ...  \n",
       "2  Gaok Men's Retro Cotton Multi-Pocket Camo Carg...  \n",
       "3  QIBOE Men's Baggy Jeans Denim Sweatpants Loose...  \n",
       "4  Crazy Explosion-proof Lens Polarized Sunglasse...  "
      ]
     },
     "execution_count": 26,
     "metadata": {},
     "output_type": "execute_result"
    }
   ],
   "source": [
    "df_metadata.head()"
   ]
  },
  {
   "cell_type": "code",
   "execution_count": 27,
   "metadata": {},
   "outputs": [
    {
     "data": {
      "text/plain": [
       "also_buy        [B077GQQKRV, B07CBJQTF6, B07H2Z6S9J, B06Y26PZ5...\n",
       "also_view       [B07H2Z6S9J, B077GQQKRV, B072XTTTK9, B002DMJOC...\n",
       "asin                                                   6342509379\n",
       "brand                                                       QIBOE\n",
       "category        [Clothing, Shoes & Jewelry, Men, Clothing, Jea...\n",
       "date            <div class=\"a-fixed-left-grid a-spacing-none\">...\n",
       "description     [<b>pant size(Unit:inch)</b><br> W30(tag30) Wa...\n",
       "details                                                        {}\n",
       "feature         [Denim, Zipper closure, Material: cotton, Styl...\n",
       "fit              class=\"a-normal a-align-center a-spacing-smal...\n",
       "image           [https://images-na.ssl-images-amazon.com/image...\n",
       "main_cat        <img src=\"https://images-na.ssl-images-amazon....\n",
       "price                                                      $38.99\n",
       "rank                     1,506,383 in Clothing, Shoes & Jewelry (\n",
       "similar_item                                                     \n",
       "tech1                                                            \n",
       "tech2                                                            \n",
       "title           QIBOE Men's Baggy Jeans Denim Sweatpants Loose...\n",
       "Name: 3, dtype: object"
      ]
     },
     "execution_count": 27,
     "metadata": {},
     "output_type": "execute_result"
    }
   ],
   "source": [
    "df_metadata.iloc[3]"
   ]
  },
  {
   "cell_type": "code",
   "execution_count": 29,
   "metadata": {},
   "outputs": [
    {
     "data": {
      "text/plain": [
       "['Clothing, Shoes & Jewelry',\n",
       " 'Men',\n",
       " 'Clothing',\n",
       " 'Jeans',\n",
       " 'Denim',\n",
       " 'Zipper closure',\n",
       " 'Material: cotton',\n",
       " 'Style: hip pop',\n",
       " 'Two side slant pockets and two back pockets',\n",
       " 'Straight fit long pants']"
      ]
     },
     "execution_count": 29,
     "metadata": {},
     "output_type": "execute_result"
    }
   ],
   "source": [
    "df_metadata.iloc[3].loc[\"category\"]"
   ]
  },
  {
   "cell_type": "code",
   "execution_count": null,
   "metadata": {},
   "outputs": [
    {
     "data": {
      "text/plain": [
       "'<img src=\"https://images-na.ssl-images-amazon.com/images/G/01/nav2/images/gui/amazon-fashion-store-new._CB520838675_.png\" class=\"nav-categ-image\" alt=\"AMAZON FASHION\"/>'"
      ]
     },
     "execution_count": 13,
     "metadata": {},
     "output_type": "execute_result"
    }
   ],
   "source": [
    "df_metadata.iloc[3].loc[\"main_cat\"]"
   ]
  },
  {
   "cell_type": "code",
   "execution_count": null,
   "metadata": {},
   "outputs": [
    {
     "data": {
      "text/plain": [
       "['Clothing, Shoes & Jewelry',\n",
       " 'Men',\n",
       " 'Clothing',\n",
       " 'Jeans',\n",
       " 'Denim',\n",
       " 'Zipper closure',\n",
       " 'Material: cotton',\n",
       " 'Style: hip pop',\n",
       " 'Two side slant pockets and two back pockets',\n",
       " 'Straight fit long pants']"
      ]
     },
     "execution_count": 14,
     "metadata": {},
     "output_type": "execute_result"
    }
   ],
   "source": [
    "df_metadata.iloc[3].loc[\"category\"]"
   ]
  },
  {
   "cell_type": "code",
   "execution_count": null,
   "metadata": {},
   "outputs": [
    {
     "data": {
      "text/plain": [
       "also_buy         2644\n",
       "also_view        4984\n",
       "asin            16296\n",
       "brand            1901\n",
       "category         8617\n",
       "date             7654\n",
       "description     10925\n",
       "details           951\n",
       "feature         14223\n",
       "fit              2165\n",
       "image            8413\n",
       "main_cat           27\n",
       "price            3209\n",
       "rank            14972\n",
       "similar_item      269\n",
       "tech1             135\n",
       "tech2               1\n",
       "title           15388\n",
       "dtype: int64"
      ]
     },
     "execution_count": 22,
     "metadata": {},
     "output_type": "execute_result"
    }
   ],
   "source": [
    "#Check the number of unique values in each column\n",
    "df_metadata.astype(str).nunique()"
   ]
  },
  {
   "cell_type": "code",
   "execution_count": null,
   "metadata": {},
   "outputs": [
    {
     "data": {
      "text/plain": [
       "also_buy        15992\n",
       "also_view       13284\n",
       "asin                0\n",
       "brand            5970\n",
       "category            0\n",
       "date             1839\n",
       "description      2860\n",
       "details         18727\n",
       "feature           613\n",
       "fit             16466\n",
       "image            7731\n",
       "main_cat            0\n",
       "price           12403\n",
       "rank                0\n",
       "similar_item    19693\n",
       "tech1           19842\n",
       "tech2           20000\n",
       "title               0\n",
       "dtype: int64"
      ]
     },
     "execution_count": 40,
     "metadata": {},
     "output_type": "execute_result"
    }
   ],
   "source": [
    "#Check for number of missing values in columns\n",
    "import numpy as np\n",
    "df_metadata_nan=df_metadata.applymap(lambda y: np.nan if len(y)==0 else y) # Changing empty lists to NaN\n",
    "df_metadata_nan.isna().sum()"
   ]
  },
  {
   "cell_type": "code",
   "execution_count": null,
   "metadata": {},
   "outputs": [
    {
     "data": {
      "text/plain": [
       "<Axes: >"
      ]
     },
     "execution_count": 17,
     "metadata": {},
     "output_type": "execute_result"
    },
    {
     "data": {
      "image/png": "[encoded data removed]",
      "text/plain": [
       "<Figure size 640x480 with 1 Axes>"
      ]
     },
     "metadata": {},
     "output_type": "display_data"
    }
   ],
   "source": [
    "# Exploring description list\n",
    "df_metadata[\"description\"].apply(len).hist(bins=100)"
   ]
  },
  {
   "cell_type": "code",
   "execution_count": 30,
   "metadata": {},
   "outputs": [
    {
     "data": {
      "text/plain": [
       "<Axes: >"
      ]
     },
     "execution_count": 30,
     "metadata": {},
     "output_type": "execute_result"
    },
    {
     "data": {
      "image/png": "[encoded data removed]",
      "text/plain": [
       "<Figure size 640x480 with 1 Axes>"
      ]
     },
     "metadata": {},
     "output_type": "display_data"
    }
   ],
   "source": [
    "#Exploring description number of words\n",
    "df_description_len_words=df['description'].apply(lambda x: len(str(x).split()))\n",
    "df_description_len_words.hist(bins=100)"
   ]
  },
  {
   "cell_type": "code",
   "execution_count": 31,
   "metadata": {},
   "outputs": [
    {
     "data": {
      "text/plain": [
       "count    10000.000000\n",
       "mean        94.753800\n",
       "std        161.472217\n",
       "min          1.000000\n",
       "25%         20.000000\n",
       "50%         55.000000\n",
       "75%         98.000000\n",
       "max       1955.000000\n",
       "Name: description, dtype: float64"
      ]
     },
     "execution_count": 31,
     "metadata": {},
     "output_type": "execute_result"
    }
   ],
   "source": [
    "df_description_len_words.describe()"
   ]
  }
 ],
 "metadata": {
  "kernelspec": {
   "display_name": "datathon",
   "language": "python",
   "name": "python3"
  },
  "language_info": {
   "codemirror_mode": {
    "name": "ipython",
    "version": 3
   },
   "file_extension": ".py",
   "mimetype": "text/x-python",
   "name": "python",
   "nbconvert_exporter": "python",
   "pygments_lexer": "ipython3",
   "version": "3.11.2"
  },
  "orig_nbformat": 4
 },
 "nbformat": 4,
 "nbformat_minor": 2
}

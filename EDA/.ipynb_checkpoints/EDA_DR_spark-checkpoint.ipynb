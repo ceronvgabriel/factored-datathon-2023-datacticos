{
 "cells": [
  {
   "cell_type": "markdown",
   "id": "d66d2d82-6ec0-4e65-b2f5-f6dc28483173",
   "metadata": {},
   "source": [
    "# Generating useful Insights on Amazon Reviews"
   ]
  },
  {
   "cell_type": "markdown",
   "id": "b85daecf-fed0-4ec8-9a00-6fa312046323",
   "metadata": {},
   "source": [
    "**Analytical Context:** This notebook shows the analysis prior to model building using a large dataset stored in batch about customer reviews on Amazon. We will find some useful features to address an outlook about what kind of brands and products are prone to get good or bad reviews, so to give an insight we are going to develop certain methods to determine in which cases some product is filling up expectations or not.\n",
    "\n",
    "**Business Problem:** Our main task with this exercise will be to answer the following questions. What has the most impact on customer satisfaction? Can we infer customer segment based on their review patterns?. According to our analysis and the available data: It's possible to build a recommendation system based on historical reviews about some product/brand? "
   ]
  },
  {
   "cell_type": "markdown",
   "id": "f3dc0a9a-a6c2-4aef-b43a-f5d8b130493a",
   "metadata": {},
   "source": [
    "## Import Libraries and Create Spark Session"
   ]
  },
  {
   "cell_type": "code",
   "execution_count": 1,
   "id": "c1bddf91-dae1-4e84-b87d-c64f8da0e7b9",
   "metadata": {},
   "outputs": [
    {
     "name": "stdout",
     "output_type": "stream",
     "text": [
      "Collecting glob2 (from -r requirements.txt (line 1))\n",
      "  Downloading glob2-0.7.tar.gz (10 kB)\n",
      "  Preparing metadata (setup.py) ... \u001b[?25ldone\n",
      "\u001b[?25hCollecting azure-eventhub (from -r requirements.txt (line 2))\n",
      "  Obtaining dependency information for azure-eventhub from https://files.pythonhosted.org/packages/66/b2/89671d93ba3c5af4a776350378765582490c3748eef3aa3a4582c3e87488/azure_eventhub-5.11.3-py3-none-any.whl.metadata\n",
      "  Downloading azure_eventhub-5.11.3-py3-none-any.whl.metadata (65 kB)\n",
      "\u001b[2K     \u001b[90m━━━━━━━━━━━━━━━━━━━━━━━━━━━━━━━━━━━━━━━━\u001b[0m \u001b[32m65.3/65.3 kB\u001b[0m \u001b[31m5.3 MB/s\u001b[0m eta \u001b[36m0:00:00\u001b[0m\n",
      "\u001b[?25hCollecting findspark (from -r requirements.txt (line 3))\n",
      "  Downloading findspark-2.0.1-py2.py3-none-any.whl (4.4 kB)\n",
      "Collecting azure-core<2.0.0,>=1.14.0 (from azure-eventhub->-r requirements.txt (line 2))\n",
      "  Obtaining dependency information for azure-core<2.0.0,>=1.14.0 from https://files.pythonhosted.org/packages/c3/0a/32b17d776a6bf5ddaa9dbad0e88de9d28a55bec1d37b8d408cc7d2e5e28d/azure_core-1.28.0-py3-none-any.whl.metadata\n",
      "  Downloading azure_core-1.28.0-py3-none-any.whl.metadata (34 kB)\n",
      "Requirement already satisfied: typing-extensions>=4.0.1 in /opt/conda/lib/python3.11/site-packages (from azure-eventhub->-r requirements.txt (line 2)) (4.7.1)\n",
      "Requirement already satisfied: requests>=2.18.4 in /opt/conda/lib/python3.11/site-packages (from azure-core<2.0.0,>=1.14.0->azure-eventhub->-r requirements.txt (line 2)) (2.31.0)\n",
      "Requirement already satisfied: six>=1.11.0 in /opt/conda/lib/python3.11/site-packages (from azure-core<2.0.0,>=1.14.0->azure-eventhub->-r requirements.txt (line 2)) (1.16.0)\n",
      "Requirement already satisfied: charset-normalizer<4,>=2 in /opt/conda/lib/python3.11/site-packages (from requests>=2.18.4->azure-core<2.0.0,>=1.14.0->azure-eventhub->-r requirements.txt (line 2)) (3.2.0)\n",
      "Requirement already satisfied: idna<4,>=2.5 in /opt/conda/lib/python3.11/site-packages (from requests>=2.18.4->azure-core<2.0.0,>=1.14.0->azure-eventhub->-r requirements.txt (line 2)) (3.4)\n",
      "Requirement already satisfied: urllib3<3,>=1.21.1 in /opt/conda/lib/python3.11/site-packages (from requests>=2.18.4->azure-core<2.0.0,>=1.14.0->azure-eventhub->-r requirements.txt (line 2)) (2.0.4)\n",
      "Requirement already satisfied: certifi>=2017.4.17 in /opt/conda/lib/python3.11/site-packages (from requests>=2.18.4->azure-core<2.0.0,>=1.14.0->azure-eventhub->-r requirements.txt (line 2)) (2023.7.22)\n",
      "Downloading azure_eventhub-5.11.3-py3-none-any.whl (308 kB)\n",
      "\u001b[2K   \u001b[90m━━━━━━━━━━━━━━━━━━━━━━━━━━━━━━━━━━━━━━━━\u001b[0m \u001b[32m308.9/308.9 kB\u001b[0m \u001b[31m5.9 MB/s\u001b[0m eta \u001b[36m0:00:00\u001b[0ma \u001b[36m0:00:01\u001b[0m\n",
      "\u001b[?25hDownloading azure_core-1.28.0-py3-none-any.whl (185 kB)\n",
      "\u001b[2K   \u001b[90m━━━━━━━━━━━━━━━━━━━━━━━━━━━━━━━━━━━━━━━━\u001b[0m \u001b[32m185.4/185.4 kB\u001b[0m \u001b[31m5.0 MB/s\u001b[0m eta \u001b[36m0:00:00\u001b[0m00:01\u001b[0m\n",
      "\u001b[?25hBuilding wheels for collected packages: glob2\n",
      "  Building wheel for glob2 (setup.py) ... \u001b[?25ldone\n",
      "\u001b[?25h  Created wheel for glob2: filename=glob2-0.7-py2.py3-none-any.whl size=9299 sha256=01d5b795de1018c44633fad5cf7784286a460c13c503d65c87390f8ec510f478\n",
      "  Stored in directory: /home/jovyan/.cache/pip/wheels/96/41/06/9f8fddc6eb1d75bde63db7f491311a4ae26905212617e06eb2\n",
      "Successfully built glob2\n",
      "Installing collected packages: glob2, findspark, azure-core, azure-eventhub\n",
      "Successfully installed azure-core-1.28.0 azure-eventhub-5.11.3 findspark-2.0.1 glob2-0.7\n"
     ]
    }
   ],
   "source": [
    "!pip install -r requirements.txt"
   ]
  },
  {
   "cell_type": "code",
   "execution_count": 2,
   "id": "5d802c53-4f16-455b-864a-3771687a1e9e",
   "metadata": {},
   "outputs": [],
   "source": [
    "import findspark\n",
    "import pyspark\n",
    "\n",
    "from pyspark.sql import SparkSession\n",
    "from pyspark.sql.functions import *\n",
    "\n",
    "import pandas as pd"
   ]
  },
  {
   "cell_type": "code",
   "execution_count": 3,
   "id": "01260292-e34d-4327-8f16-fa13749d703e",
   "metadata": {},
   "outputs": [],
   "source": [
    "# Create Session\n",
    "findspark.init()\n",
    "\n",
    "spark = SparkSession.builder.appName(\"AmazonReviewsDatathon\").getOrCreate()"
   ]
  },
  {
   "cell_type": "code",
   "execution_count": 4,
   "id": "b2ef4deb-04c1-4c95-a347-7c20b5277009",
   "metadata": {},
   "outputs": [
    {
     "data": {
      "text/html": [
       "\n",
       "            <div>\n",
       "                <p><b>SparkSession - in-memory</b></p>\n",
       "                \n",
       "        <div>\n",
       "            <p><b>SparkContext</b></p>\n",
       "\n",
       "            <p><a href=\"http://c7acb41f92bd:4040\">Spark UI</a></p>\n",
       "\n",
       "            <dl>\n",
       "              <dt>Version</dt>\n",
       "                <dd><code>v3.4.1</code></dd>\n",
       "              <dt>Master</dt>\n",
       "                <dd><code>local[*]</code></dd>\n",
       "              <dt>AppName</dt>\n",
       "                <dd><code>AmazonReviewsDatathon</code></dd>\n",
       "            </dl>\n",
       "        </div>\n",
       "        \n",
       "            </div>\n",
       "        "
      ],
      "text/plain": [
       "<pyspark.sql.session.SparkSession at 0x7f50bfac58d0>"
      ]
     },
     "execution_count": 4,
     "metadata": {},
     "output_type": "execute_result"
    }
   ],
   "source": [
    "spark"
   ]
  },
  {
   "cell_type": "markdown",
   "id": "c0132eb5-5ac0-4474-9f22-d962522489a0",
   "metadata": {},
   "source": [
    "## Loading Amazon Reviews and Metadata"
   ]
  },
  {
   "cell_type": "markdown",
   "id": "ab990e95-c02e-4dcb-b099-a1dc9478bff7",
   "metadata": {},
   "source": [
    "#### *General Note*: \n",
    "*We get the Batch Data stored in Azure Data Lake Storage (ADLS), download and store every json gzip file in a local path. Then, we use a docker image https://hub.docker.com/r/jupyter/pyspark-notebook* *to read all data using spark within a container. Datacticos Team decided to choose this additional step in order to reduce costs in this initial phase*"
   ]
  },
  {
   "cell_type": "code",
   "execution_count": null,
   "id": "8374a535-d22c-4b38-bb8f-3afbc380936f",
   "metadata": {},
   "outputs": [],
   "source": [
    "from glob2 import glob\n",
    "#Read all the json files from both sources of data\n",
    "jsonFiles_reviews = glob('amazon_reviews/source-files/amazon_reviews/**/**/*.json.gz')\n",
    "jsonFiles_meta = glob('amazon_reviews/source-files/amazon_metadata/**/*.json.gz')"
   ]
  },
  {
   "cell_type": "code",
   "execution_count": 6,
   "id": "0ab5acd6-7ee4-4d71-801e-1095e447defb",
   "metadata": {},
   "outputs": [
    {
     "name": "stdout",
     "output_type": "stream",
     "text": [
      "jsonFiles_reviews: \n",
      "['amazon_reviews/source-files/amazon_reviews/partition_1/part-00000-tid-9136122565017344171-3f98196e-e0c5-4bb5-90cc-d523170ef713-86080-1-c000.json.gz', 'amazon_reviews/source-files/amazon_reviews/partition_10/part-00000-tid-698064602200227711-29b88890-b701-4ddb-82cf-535e4b44c9cf-89301-1-c000.json.gz', 'amazon_reviews/source-files/amazon_reviews/partition_10/part-00001-tid-698064602200227711-29b88890-b701-4ddb-82cf-535e4b44c9cf-89302-1-c000.json.gz', 'amazon_reviews/source-files/amazon_reviews/partition_100/part-00000-tid-6076830777214137320-043be143-2d8f-4c2a-a619-bb4ab95fa4bb-121464-1-c000.json.gz', 'amazon_reviews/source-files/amazon_reviews/partition_100/part-00011-tid-6076830777214137320-043be143-2d8f-4c2a-a619-bb4ab95fa4bb-121475-1-c000.json.gz']\n",
      "---------------\n",
      "jsonFiles_meta: \n",
      "['amazon_reviews/source-files/amazon_metadata/json_files/part-00000-tid-1001410877349735942-21bdbaae-698f-415f-9a21-69d6c2866481-1675-1-c000.json.gz', 'amazon_reviews/source-files/amazon_metadata/json_files/part-00000-tid-1002626896584644251-74e4b005-c695-4dd8-91a9-144ad6cb0984-1297-1-c000.json.gz', 'amazon_reviews/source-files/amazon_metadata/json_files/part-00000-tid-1010368383141697086-7d789d7d-88e0-480d-8f3d-c5787eeaa7e6-1985-1-c000.json.gz', 'amazon_reviews/source-files/amazon_metadata/json_files/part-00000-tid-1020888417771452694-2db2ed96-b04d-48b8-8295-4607819e25e5-257-1-c000.json.gz', 'amazon_reviews/source-files/amazon_metadata/json_files/part-00000-tid-1029877596195051816-05a06542-f16c-433b-acab-5a2cbb650eab-1439-1-c000.json.gz']\n"
     ]
    }
   ],
   "source": [
    "#Check the lists of partitioned json files \n",
    "print(\"jsonFiles_reviews: \")\n",
    "print(jsonFiles_reviews[0:5])\n",
    "print(\"---------------\")\n",
    "print(\"jsonFiles_meta: \")\n",
    "print(jsonFiles_meta[0:5])"
   ]
  },
  {
   "cell_type": "code",
   "execution_count": null,
   "id": "065d53e7-2f24-4895-97f3-f42d9df2b3d4",
   "metadata": {},
   "outputs": [],
   "source": [
    "#Load the data from Amazon reviews using spark\n",
    "df_reviews = spark.read.option(\"multiline\",\"false\").option(\"compression\", \"gzip\").json(jsonFiles_reviews[1:1000])"
   ]
  },
  {
   "cell_type": "code",
   "execution_count": null,
   "id": "ed4cedc3-c44d-47d4-a2a0-d203e4000a96",
   "metadata": {},
   "outputs": [],
   "source": [
    "#Load the metadata using spark\n",
    "df_meta = spark.read.option(\"multiline\",\"false\").option(\"compression\", \"gzip\").json(jsonFiles_meta[1:1000])"
   ]
  },
  {
   "cell_type": "markdown",
   "id": "2d2dfb47-35bc-42b1-9312-b377e6ffe46b",
   "metadata": {},
   "source": [
    "## Examining the Data "
   ]
  },
  {
   "cell_type": "markdown",
   "id": "5bad2973-f286-4594-af6e-cdf388f21b71",
   "metadata": {},
   "source": [
    "In the following steps, we are going to get closer to the data, this will help us to understand what we can use, see some properties and discard some aspects that we might consider not necessary to fulfill our main business target."
   ]
  },
  {
   "cell_type": "markdown",
   "id": "6177504e-0a5e-46f0-afea-4a617ff2b3aa",
   "metadata": {},
   "source": [
    "### Amazon Reviews"
   ]
  },
  {
   "cell_type": "markdown",
   "id": "41ca0e78-f359-41ec-8c28-a30c3dde7bb8",
   "metadata": {},
   "source": [
    "#### **Get Familiar with the Data**"
   ]
  },
  {
   "cell_type": "code",
   "execution_count": 9,
   "id": "7276beaa-71fc-43e2-a751-c03ba40222a8",
   "metadata": {},
   "outputs": [
    {
     "name": "stdout",
     "output_type": "stream",
     "text": [
      "root\n",
      " |-- asin: string (nullable = true)\n",
      " |-- image: string (nullable = true)\n",
      " |-- overall: string (nullable = true)\n",
      " |-- reviewText: string (nullable = true)\n",
      " |-- reviewerID: string (nullable = true)\n",
      " |-- reviewerName: string (nullable = true)\n",
      " |-- style: string (nullable = true)\n",
      " |-- summary: string (nullable = true)\n",
      " |-- unixReviewTime: string (nullable = true)\n",
      " |-- verified: string (nullable = true)\n",
      " |-- vote: string (nullable = true)\n",
      "\n"
     ]
    }
   ],
   "source": [
    "# Print df_reviews Schema to see what attributes we have and what data type they belong\n",
    "df_reviews.printSchema()"
   ]
  },
  {
   "cell_type": "code",
   "execution_count": 10,
   "id": "06bb37cb-f1d4-4859-b567-5e5bc1cb17f5",
   "metadata": {},
   "outputs": [
    {
     "name": "stdout",
     "output_type": "stream",
     "text": [
      "+----------+-----+-------+--------------------+--------------+---------------+--------------------+--------------------+--------------+--------+----+\n",
      "|      asin|image|overall|          reviewText|    reviewerID|   reviewerName|               style|             summary|unixReviewTime|verified|vote|\n",
      "+----------+-----+-------+--------------------+--------------+---------------+--------------------+--------------------+--------------+--------+----+\n",
      "|B00005QDPX| null|    5.0|Crazy Taxi is by ...|A36TDX8DY2XK5Q|       Some Kid|                null|It's Party Time! ...|    1054252800|   false|null|\n",
      "|B000MXIMKK| null|    4.0|I love these pant...| AZZ1YPRM2FAUH| David Colgrove|{\"Size:\":\" 33W x ...|Durable, good loo...|    1459900800|    true|   6|\n",
      "|B00005QDPX| null|    2.0|Anyone who hasn't...|A3PASG15BRR40D|       SleepyJD|                null|A fun game that g...|    1049414400|   false|null|\n",
      "|B000MXIMKK| null|    5.0|Great pants and n...|A388UHKJN07JJT|            TJK|{\"Size:\":\" 42W x ...|       Great Product|    1459900800|    true|null|\n",
      "|B00005QDPX| null|    4.0|In this game you ...|A29YLR71A42A3N|Amazon Customer|                null|Fun and Entertaining|    1040860800|   false|   3|\n",
      "+----------+-----+-------+--------------------+--------------+---------------+--------------------+--------------------+--------------+--------+----+\n",
      "only showing top 5 rows\n",
      "\n"
     ]
    }
   ],
   "source": [
    "# Check raw data\n",
    "df_reviews.show(5)"
   ]
  },
  {
   "cell_type": "code",
   "execution_count": 10,
   "id": "af7e32ef-46be-48b0-b107-26310f3bf481",
   "metadata": {},
   "outputs": [
    {
     "data": {
      "text/plain": [
       "279665000"
      ]
     },
     "execution_count": 10,
     "metadata": {},
     "output_type": "execute_result"
    }
   ],
   "source": [
    "# Count records number \n",
    "df_reviews.count()"
   ]
  },
  {
   "cell_type": "markdown",
   "id": "73687586-949b-48e0-8ac7-dd9a9a9a04b9",
   "metadata": {},
   "source": [
    "We notice that `df_reviews` is a huge dataset with over 270MM records. We note that some features are categorical so we consider important to make a brief exploration to get the distribution of them (*overall* and *verified*). After that, we consider to drop some columns in order to shorten the shape of data and make our analysis more efficient. "
   ]
  },
  {
   "cell_type": "code",
   "execution_count": 11,
   "id": "20400867-2d44-47ad-883d-46d12e1b234f",
   "metadata": {},
   "outputs": [],
   "source": [
    "# Register df as Temp table\n",
    "temp_view_name = \"tempvw_reviews\"\n",
    "df_reviews.createOrReplaceTempView(temp_view_name)"
   ]
  },
  {
   "cell_type": "code",
   "execution_count": 12,
   "id": "c5432b58-4d3a-4c1c-9c15-f8cf2c220db6",
   "metadata": {},
   "outputs": [
    {
     "name": "stdout",
     "output_type": "stream",
     "text": [
      "+-------+---------+\n",
      "|overall|    count|\n",
      "+-------+---------+\n",
      "|    5.0|179369728|\n",
      "|    4.0| 46643396|\n",
      "|    3.0| 21573678|\n",
      "|    2.0| 12577806|\n",
      "|    1.0| 19500378|\n",
      "|    0.0|       14|\n",
      "+-------+---------+\n",
      "\n"
     ]
    }
   ],
   "source": [
    "# Check the total rating levels ordered \n",
    "spark.sql(\"\"\"\n",
    "SELECT overall, COUNT(*) as count \n",
    "FROM tempvw_reviews \n",
    "GROUP BY overall \n",
    "ORDER BY overall DESC\n",
    "\"\"\").show()"
   ]
  },
  {
   "cell_type": "markdown",
   "id": "63774d7f-6901-4bd3-8712-6ca98d098e6d",
   "metadata": {},
   "source": [
    "We note that more than half of the reviews are good, so for our analysis we get that most of the products are well reviewed."
   ]
  },
  {
   "cell_type": "code",
   "execution_count": 13,
   "id": "e97be2e6-e6f1-4531-9f29-d30d6ecb3e05",
   "metadata": {},
   "outputs": [],
   "source": [
    "# Check how many reviewers the dataset has\n",
    "result_query_total_reviewers = spark.sql(\"\"\"\n",
    "SELECT COUNT(DISTINCT reviewerID) as total_reviewers\n",
    "FROM tempvw_reviews \n",
    "\"\"\")"
   ]
  },
  {
   "cell_type": "code",
   "execution_count": 14,
   "id": "ecf8cd1c-ecba-4dc1-9e28-046ba47d7615",
   "metadata": {},
   "outputs": [
    {
     "name": "stdout",
     "output_type": "stream",
     "text": [
      "+---------------+\n",
      "|total_reviewers|\n",
      "+---------------+\n",
      "|       34105431|\n",
      "+---------------+\n",
      "\n"
     ]
    }
   ],
   "source": [
    "result_query_total_reviewers.show()"
   ]
  },
  {
   "cell_type": "code",
   "execution_count": 15,
   "id": "9b02a7aa-4537-49b2-9341-ccd17a28676b",
   "metadata": {},
   "outputs": [
    {
     "name": "stdout",
     "output_type": "stream",
     "text": [
      "+---------------+--------+\n",
      "|total_reviewers|verified|\n",
      "+---------------+--------+\n",
      "|       10954035|   false|\n",
      "|       28705780|    true|\n",
      "+---------------+--------+\n",
      "\n"
     ]
    }
   ],
   "source": [
    "# Check how many verified and not verified reviewers the dataset has\n",
    "spark.sql(\"\"\"\n",
    "SELECT COUNT(DISTINCT reviewerID) as total_reviewers, verified\n",
    "FROM tempvw_reviews \n",
    "GROUP BY verified\n",
    "\"\"\").show()"
   ]
  },
  {
   "cell_type": "markdown",
   "id": "a0974d05-f888-4af6-9ae1-88644201d769",
   "metadata": {},
   "source": [
    "We see that most of the reviewers are true, so we focus our analysis only with verified due to the fact that they represent effective orders and an opinion more sensible. (e.g. customer used the product)"
   ]
  },
  {
   "cell_type": "markdown",
   "id": "aa517fab-da4e-4763-a036-869b944c928d",
   "metadata": {},
   "source": [
    "#### **Data Cleaning**"
   ]
  },
  {
   "cell_type": "markdown",
   "id": "f14d8349-3d70-4327-957d-259aeccb0b80",
   "metadata": {},
   "source": [
    "#### Selecting, Filtering and Casting"
   ]
  },
  {
   "cell_type": "code",
   "execution_count": 16,
   "id": "ce21c1a3-ca0f-4cce-98d5-fd11e88a414b",
   "metadata": {},
   "outputs": [],
   "source": [
    "# Get only verified reviews\n",
    "new_df_reviews_filtered = df_reviews.filter(df_reviews[\"verified\"] == \"true\")"
   ]
  },
  {
   "cell_type": "code",
   "execution_count": 17,
   "id": "31783f53-8f7f-46e8-9f65-217818683f1e",
   "metadata": {},
   "outputs": [],
   "source": [
    "# Get the reviewTime converting from unixtime to datetime \n",
    "new_df_reviews = new_df_reviews_filtered.withColumn(\"reviewTime\", from_unixtime(\"unixReviewTime\", \"yyyy-MM-dd\"))"
   ]
  },
  {
   "cell_type": "code",
   "execution_count": 20,
   "id": "6b15197d-1069-4606-8e1f-9f77a10eca9c",
   "metadata": {},
   "outputs": [
    {
     "name": "stdout",
     "output_type": "stream",
     "text": [
      "+----------+-----+-------+--------------------+--------------+--------------+--------------------+--------------------+--------------+--------+----+----------+\n",
      "|      asin|image|overall|          reviewText|    reviewerID|  reviewerName|               style|             summary|unixReviewTime|verified|vote|reviewTime|\n",
      "+----------+-----+-------+--------------------+--------------+--------------+--------------------+--------------------+--------------+--------+----+----------+\n",
      "|B000MXIMKK| null|    4.0|I love these pant...| AZZ1YPRM2FAUH|David Colgrove|{\"Size:\":\" 33W x ...|Durable, good loo...|    1459900800|    true|   6|2016-04-06|\n",
      "|B000MXIMKK| null|    5.0|Great pants and n...|A388UHKJN07JJT|           TJK|{\"Size:\":\" 42W x ...|       Great Product|    1459900800|    true|null|2016-04-06|\n",
      "|B000MXIMKK| null|    4.0|These are pretty ...|A1361PH7D34W8R|          Kyle|{\"Size:\":\" 36W x ...|  Good Overall Value|    1459900800|    true|null|2016-04-06|\n",
      "|B000MXIMKK| null|    1.0|I purchased two p...| ALBKZQ7DWPMC6|       cecray3|{\"Size:\":\" 36W x ...|but I'm definitel...|    1459900800|    true|null|2016-04-06|\n",
      "|B000MXIMKK| null|    4.0|       great product|A3GBAA7OEESH78|    David Rose|{\"Size:\":\" 40W x ...|          Four Stars|    1459814400|    true|null|2016-04-05|\n",
      "+----------+-----+-------+--------------------+--------------+--------------+--------------------+--------------------+--------------+--------+----+----------+\n",
      "only showing top 5 rows\n",
      "\n"
     ]
    }
   ],
   "source": [
    "new_df_reviews.show(5)"
   ]
  },
  {
   "cell_type": "code",
   "execution_count": 18,
   "id": "0c5a729b-a77d-484c-b5b0-5d2a00798a1a",
   "metadata": {},
   "outputs": [],
   "source": [
    "# Drop the attributes that we consider least relevant\n",
    "new_df_reviews_2 = new_df_reviews.drop(\"image\", \"style\", \"unixReviewTime\", \"reviewerName\", \"verified\")"
   ]
  },
  {
   "cell_type": "code",
   "execution_count": 22,
   "id": "735520ab-b95c-4090-bdff-e732ccf3e956",
   "metadata": {},
   "outputs": [
    {
     "name": "stdout",
     "output_type": "stream",
     "text": [
      "+----------+-------+--------------------+--------------+--------------------+----+----------+\n",
      "|      asin|overall|          reviewText|    reviewerID|             summary|vote|reviewTime|\n",
      "+----------+-------+--------------------+--------------+--------------------+----+----------+\n",
      "|B000MXIMKK|    4.0|I love these pant...| AZZ1YPRM2FAUH|Durable, good loo...|   6|2016-04-06|\n",
      "|B000MXIMKK|    5.0|Great pants and n...|A388UHKJN07JJT|       Great Product|null|2016-04-06|\n",
      "|B000MXIMKK|    4.0|These are pretty ...|A1361PH7D34W8R|  Good Overall Value|null|2016-04-06|\n",
      "|B000MXIMKK|    1.0|I purchased two p...| ALBKZQ7DWPMC6|but I'm definitel...|null|2016-04-06|\n",
      "|B000MXIMKK|    4.0|       great product|A3GBAA7OEESH78|          Four Stars|null|2016-04-05|\n",
      "+----------+-------+--------------------+--------------+--------------------+----+----------+\n",
      "only showing top 5 rows\n",
      "\n"
     ]
    }
   ],
   "source": [
    "new_df_reviews_2.show(5)"
   ]
  },
  {
   "cell_type": "code",
   "execution_count": 19,
   "id": "a3523074-abc0-4801-a983-84de13212152",
   "metadata": {},
   "outputs": [],
   "source": [
    "# Convert overall and vote fields to integer and reviewTime to date format\n",
    "new_df_reviews_cast = new_df_reviews_2.withColumn(\"overall\", col(\"overall\").cast(\"integer\"))\\\n",
    ".withColumn(\"vote\", col(\"vote\").cast(\"integer\")).withColumn(\"reviewTime\", to_date(col(\"reviewTime\"), \"yyyy-MM-dd\"))"
   ]
  },
  {
   "cell_type": "code",
   "execution_count": 24,
   "id": "ade9a2b8-7903-436e-9d11-52a2d112a55f",
   "metadata": {},
   "outputs": [
    {
     "name": "stdout",
     "output_type": "stream",
     "text": [
      "+----------+-------+--------------------+--------------+--------------------+----+----------+\n",
      "|      asin|overall|          reviewText|    reviewerID|             summary|vote|reviewTime|\n",
      "+----------+-------+--------------------+--------------+--------------------+----+----------+\n",
      "|B000MXIMKK|      4|I love these pant...| AZZ1YPRM2FAUH|Durable, good loo...|   6|2016-04-06|\n",
      "|B000MXIMKK|      5|Great pants and n...|A388UHKJN07JJT|       Great Product|null|2016-04-06|\n",
      "|B000MXIMKK|      4|These are pretty ...|A1361PH7D34W8R|  Good Overall Value|null|2016-04-06|\n",
      "|B000MXIMKK|      1|I purchased two p...| ALBKZQ7DWPMC6|but I'm definitel...|null|2016-04-06|\n",
      "|B000MXIMKK|      4|       great product|A3GBAA7OEESH78|          Four Stars|null|2016-04-05|\n",
      "+----------+-------+--------------------+--------------+--------------------+----+----------+\n",
      "only showing top 5 rows\n",
      "\n"
     ]
    }
   ],
   "source": [
    "new_df_reviews_cast.show(5)"
   ]
  },
  {
   "cell_type": "code",
   "execution_count": 25,
   "id": "43f8bf0c-7dc5-40b3-8d09-c679b110f933",
   "metadata": {},
   "outputs": [
    {
     "name": "stdout",
     "output_type": "stream",
     "text": [
      "root\n",
      " |-- asin: string (nullable = true)\n",
      " |-- overall: integer (nullable = true)\n",
      " |-- reviewText: string (nullable = true)\n",
      " |-- reviewerID: string (nullable = true)\n",
      " |-- summary: string (nullable = true)\n",
      " |-- vote: integer (nullable = true)\n",
      " |-- reviewTime: date (nullable = true)\n",
      "\n"
     ]
    }
   ],
   "source": [
    "new_df_reviews_cast.printSchema()"
   ]
  },
  {
   "cell_type": "code",
   "execution_count": 20,
   "id": "165c774e-7f2b-4268-8af5-21ba7f86814f",
   "metadata": {},
   "outputs": [],
   "source": [
    "# Drop duplicates from our df_reviews \n",
    "new_df_reviews_cast_unique = new_df_reviews_cast.dropDuplicates()"
   ]
  },
  {
   "cell_type": "code",
   "execution_count": 21,
   "id": "626346ea-2827-47f8-a5e9-397b6dda237d",
   "metadata": {},
   "outputs": [],
   "source": [
    "# Register df as Temp table\n",
    "temp_view_name = \"tempvw_df_reviews\"\n",
    "new_df_reviews_cast_unique.createOrReplaceTempView(temp_view_name)"
   ]
  },
  {
   "cell_type": "markdown",
   "id": "4db541a5-c717-441b-8b04-7cafc875ae6e",
   "metadata": {},
   "source": [
    "Given the huge amount of reviews available, we determine to shorten the size of data without losing some relevant aspects of data, we pick out one random case with a product to see how many reviews, overall and votes it has to be able to determine if could be better get a mean of the overall rating. "
   ]
  },
  {
   "cell_type": "code",
   "execution_count": 59,
   "id": "69903c47-9679-46bf-9e75-1619bfa31046",
   "metadata": {},
   "outputs": [],
   "source": [
    "condition_1 = col(\"asin\") == \"0007232535\"\n",
    "new_df_reviews_filtered = new_df_reviews_cast_unique.filter(condition_1)"
   ]
  },
  {
   "cell_type": "code",
   "execution_count": 60,
   "id": "007a79e0-06f5-4b0c-a054-28a7fa2e378b",
   "metadata": {},
   "outputs": [
    {
     "name": "stdout",
     "output_type": "stream",
     "text": [
      "+----------+-------+--------------------+--------------+--------------------+----+----------+\n",
      "|      asin|overall|          reviewText|    reviewerID|             summary|vote|reviewTime|\n",
      "+----------+-------+--------------------+--------------+--------------------+----+----------+\n",
      "|0007232535|      1|Just want to issu...|A12JDACBRFSWJ6|Buyer Beware -- T...|  10|2007-04-17|\n",
      "+----------+-------+--------------------+--------------+--------------------+----+----------+\n",
      "\n"
     ]
    }
   ],
   "source": [
    "new_df_reviews_filtered.show()"
   ]
  },
  {
   "cell_type": "markdown",
   "id": "07ce4ec6-b87a-4c6d-a968-347c36236d3c",
   "metadata": {},
   "source": [
    "As we get deeper in data we note that some products has many reviews nonetheless some reviews are not popular, so in order to get most relevant without losing overall score from reviews that do not have any votes, we decide to make an average per asin and drop reviews that were not voted to keep the most popular ones. Furthermore, we consider they might cause noise to our analysis."
   ]
  },
  {
   "cell_type": "code",
   "execution_count": 22,
   "id": "396c13b8-dd40-4a7f-a583-dc60610647f7",
   "metadata": {},
   "outputs": [],
   "source": [
    "# We get the average overall score before filtering only the most relevant reviews in order to reduce the possible noise in data\n",
    "average_scores_df = new_df_reviews_cast_unique.groupBy(\"asin\").agg(round(avg(col(\"overall\")),3).alias(\"avg_overall\"))"
   ]
  },
  {
   "cell_type": "code",
   "execution_count": 23,
   "id": "42b9127b-3d2e-4826-acd0-ead14ae667a7",
   "metadata": {},
   "outputs": [],
   "source": [
    "# Filtered only reviews with more than two votes\n",
    "df_filtered_relevant_reviews = spark.sql(\"\"\"\n",
    "SELECT asin, reviewText, reviewerID, summary, vote, reviewTime\n",
    "FROM tempvw_df_reviews \n",
    "WHERE vote > 2\n",
    "\"\"\")"
   ]
  },
  {
   "cell_type": "code",
   "execution_count": 24,
   "id": "1427e6d6-4ca7-45da-85b6-c40f36d26525",
   "metadata": {},
   "outputs": [],
   "source": [
    "# Inner Join to combine average overall scores and relevant reviews \n",
    "df_reviews_final = df_filtered_relevant_reviews.join(average_scores_df, on=[\"asin\"], how=\"inner\")"
   ]
  },
  {
   "cell_type": "code",
   "execution_count": 58,
   "id": "6f88f50f-e9a7-4d0f-ba9b-2b3a64a9fe27",
   "metadata": {},
   "outputs": [
    {
     "name": "stdout",
     "output_type": "stream",
     "text": [
      "+----------+--------------------+--------------+--------------------+----+----------+-----------------+\n",
      "|      asin|          reviewText|    reviewerID|             summary|vote|reviewTime|      avg_overall|\n",
      "+----------+--------------------+--------------+--------------------+----+----------+-----------------+\n",
      "|0007148941|This book is goin...|A21YH1OMDSPASA|A pleasing end to...|   8|2008-09-21|4.148148148148148|\n",
      "|0007148941|Kim, another disa...| AZ9N3928BGQ0E|\"Not with A Bang,...|   3|2007-08-31|4.148148148148148|\n",
      "|0007148941|I have been ticki...| AC31II9459P5G|     All About Frank|   4|2008-01-06|4.148148148148148|\n",
      "|0007148941|Robinson's books ...|A2MAB5Q4XA209W|Sixty Days to Now...|  18|2007-08-07|4.148148148148148|\n",
      "|0007148941|I liked this book...|A3LGFJUC82N8TZ|Better than its p...|   9|2007-03-30|4.148148148148148|\n",
      "|0007148941|For Kim Stanley R...|A20U46SJZNTVYP|Disappointing Fin...|  71|2007-03-11|4.148148148148148|\n",
      "|0007232535|Just want to issu...|A12JDACBRFSWJ6|Buyer Beware -- T...|  10|2007-04-17|              1.0|\n",
      "|0007260962|This is my favour...|A1K873JI1GKD8S|              Hidden|   5|2011-04-11|4.795180722891566|\n",
      "|0007260962|Not only is this ...|A1RZK2GAB7Q0Q4|     Excellent read!|   6|2012-02-13|4.795180722891566|\n",
      "|0007260962|\"Cathy Glass\" nev...|A1E5DMJ3DQVLE5|              Awsome|   6|2012-07-10|4.795180722891566|\n",
      "|0007260962|Cathy glass books...|A2SM9DQBSRKLTT|    Intresting read.|   3|2011-08-10|4.795180722891566|\n",
      "|0007260962|Cathy Glass is my...| AVVBMT3XVMWIA|              Hidden|  13|2011-02-28|4.795180722891566|\n",
      "|0007260962|Excellent book by...|A1QWZI0ZB4935J|                Book|   3|2010-12-29|4.795180722891566|\n",
      "|0007260962|This book has led...|A1T7X69HOG05JP|Prepare Yourself ...|   6|2011-06-17|4.795180722891566|\n",
      "|0007354282|I met the author ...|A1U7D3F7D26Y1G|In My Dreams is a...|   5|2011-01-13|              5.0|\n",
      "|0007556527|I had one of Coll...|A3KA6BTE097QJ3|The best English-...|   3|2017-05-10|              5.0|\n",
      "|0008127603|don't bother, wou...|A3PLLGQAGWOAV3|would love my mon...|   3|2016-12-12|              3.0|\n",
      "|0050025392|Luther is a great...|A2Z2VUFWT34SEN|         Great stuff|   3|2009-02-16|              5.0|\n",
      "|0060100168|I love the photos...|A2Q6VBGNIZ79MU|          Nostalgic!|   3|2011-10-17|              5.0|\n",
      "|0060100168|If you are a Slim...|A2H0896TRID395|Another stellar S...|   3|2013-01-03|              5.0|\n",
      "+----------+--------------------+--------------+--------------------+----+----------+-----------------+\n",
      "only showing top 20 rows\n",
      "\n"
     ]
    }
   ],
   "source": [
    "df_reviews_final.show()"
   ]
  },
  {
   "cell_type": "markdown",
   "id": "3784a68c-9c32-413e-99be-92474e64e94f",
   "metadata": {},
   "source": [
    "### Amazon Meta"
   ]
  },
  {
   "cell_type": "markdown",
   "id": "492c84ba-0667-4965-b4a4-8d648dad82be",
   "metadata": {},
   "source": [
    "#### **Get Familiar with the Data**"
   ]
  },
  {
   "cell_type": "code",
   "execution_count": 25,
   "id": "cd8be724-44f8-4988-99d5-c74a51e15053",
   "metadata": {},
   "outputs": [
    {
     "name": "stdout",
     "output_type": "stream",
     "text": [
      "root\n",
      " |-- also_buy: array (nullable = true)\n",
      " |    |-- element: string (containsNull = true)\n",
      " |-- also_view: array (nullable = true)\n",
      " |    |-- element: string (containsNull = true)\n",
      " |-- asin: string (nullable = true)\n",
      " |-- brand: string (nullable = true)\n",
      " |-- category: array (nullable = true)\n",
      " |    |-- element: string (containsNull = true)\n",
      " |-- date: string (nullable = true)\n",
      " |-- description: array (nullable = true)\n",
      " |    |-- element: string (containsNull = true)\n",
      " |-- details: struct (nullable = true)\n",
      " |    |-- \\n    Item Weight: \\n    : string (nullable = true)\n",
      " |    |-- \\n    Package Dimensions: \\n    : string (nullable = true)\n",
      " |    |-- \\n    Product Dimensions: \\n    : string (nullable = true)\n",
      " |    |--  Date first listed on Amazon:: string (nullable = true)\n",
      " |    |--  UNSPSC Code:: string (nullable = true)\n",
      " |    |-- 3.5\" and 5.25\" disks:: string (nullable = true)\n",
      " |    |-- 3.5\" disk:: string (nullable = true)\n",
      " |    |-- 5.25\" disk:: string (nullable = true)\n",
      " |    |-- ASIN:: string (nullable = true)\n",
      " |    |-- ASIN: : string (nullable = true)\n",
      " |    |-- Accessory:: string (nullable = true)\n",
      " |    |-- Age Range:: string (nullable = true)\n",
      " |    |-- Album:: string (nullable = true)\n",
      " |    |-- Apparel: string (nullable = true)\n",
      " |    |-- Audible.com Release Date:: string (nullable = true)\n",
      " |    |-- Audio CD: string (nullable = true)\n",
      " |    |-- Audio CD Library Binding:: string (nullable = true)\n",
      " |    |-- Audio CD:: string (nullable = true)\n",
      " |    |-- Audio Cassette: string (nullable = true)\n",
      " |    |-- Audio Cassette:: string (nullable = true)\n",
      " |    |-- Audio Description:: string (nullable = true)\n",
      " |    |-- Audio-Video: string (nullable = true)\n",
      " |    |-- Automotive:: string (nullable = true)\n",
      " |    |-- Baby Product:: string (nullable = true)\n",
      " |    |-- Bargain Book:: string (nullable = true)\n",
      " |    |-- Bath Book:: string (nullable = true)\n",
      " |    |-- Batteries: string (nullable = true)\n",
      " |    |-- Blu-ray: string (nullable = true)\n",
      " |    |-- Blu-ray Audio: string (nullable = true)\n",
      " |    |-- Board book:: string (nullable = true)\n",
      " |    |-- Bonded Leather:: string (nullable = true)\n",
      " |    |-- Bookmark:: string (nullable = true)\n",
      " |    |-- CD-R: string (nullable = true)\n",
      " |    |-- CD-ROM: string (nullable = true)\n",
      " |    |-- CD-ROM:: string (nullable = true)\n",
      " |    |-- Calendar: string (nullable = true)\n",
      " |    |-- Calendar:: string (nullable = true)\n",
      " |    |-- Card Book:: string (nullable = true)\n",
      " |    |-- Cards:: string (nullable = true)\n",
      " |    |-- Comic:: string (nullable = true)\n",
      " |    |-- DCC (Digital Compact Cassette):: string (nullable = true)\n",
      " |    |-- DVD: string (nullable = true)\n",
      " |    |-- DVD Audio: string (nullable = true)\n",
      " |    |-- DVD Audio:: string (nullable = true)\n",
      " |    |-- DVD-R:: string (nullable = true)\n",
      " |    |-- DVD-ROM:: string (nullable = true)\n",
      " |    |-- DVD:: string (nullable = true)\n",
      " |    |-- Diary:: string (nullable = true)\n",
      " |    |-- Digital Copy Expiration Date:: string (nullable = true)\n",
      " |    |-- Discontinued by manufacturer:: string (nullable = true)\n",
      " |    |-- Diskette:: string (nullable = true)\n",
      " |    |-- Domestic Shipping: : string (nullable = true)\n",
      " |    |-- Downloading:: string (nullable = true)\n",
      " |    |-- Dubbed:: string (nullable = true)\n",
      " |    |-- Electronics: string (nullable = true)\n",
      " |    |-- Electronics:: string (nullable = true)\n",
      " |    |-- File Size:: string (nullable = true)\n",
      " |    |-- Flexibound:: string (nullable = true)\n",
      " |    |-- Foam Book:: string (nullable = true)\n",
      " |    |-- Format:: string (nullable = true)\n",
      " |    |-- Game:: string (nullable = true)\n",
      " |    |-- Gift:: string (nullable = true)\n",
      " |    |-- Grade Level:: string (nullable = true)\n",
      " |    |-- Hardcover: string (nullable = true)\n",
      " |    |-- Hardcover Comic:: string (nullable = true)\n",
      " |    |-- Hardcover-spiral:: string (nullable = true)\n",
      " |    |-- Hardcover:: string (nullable = true)\n",
      " |    |-- Health and Beauty: string (nullable = true)\n",
      " |    |-- Health and Beauty:: string (nullable = true)\n",
      " |    |-- ISBN-10:: string (nullable = true)\n",
      " |    |-- ISBN-13:: string (nullable = true)\n",
      " |    |-- Imitation Leather:: string (nullable = true)\n",
      " |    |-- International Shipping: : string (nullable = true)\n",
      " |    |-- Item model number:: string (nullable = true)\n",
      " |    |-- JP Oversized:: string (nullable = true)\n",
      " |    |-- Journal:: string (nullable = true)\n",
      " |    |-- Kindle Edition:: string (nullable = true)\n",
      " |    |-- Kitchen:: string (nullable = true)\n",
      " |    |-- Label:: string (nullable = true)\n",
      " |    |-- Language:: string (nullable = true)\n",
      " |    |-- Lawn & Patio:: string (nullable = true)\n",
      " |    |-- Leather Bound:: string (nullable = true)\n",
      " |    |-- Lending:: string (nullable = true)\n",
      " |    |-- Lexile Measure:: string (nullable = true)\n",
      " |    |-- Library Binding:: string (nullable = true)\n",
      " |    |-- Listening Length:: string (nullable = true)\n",
      " |    |-- Loose Leaf:: string (nullable = true)\n",
      " |    |-- MP3 CD:: string (nullable = true)\n",
      " |    |-- MP3 Music: string (nullable = true)\n",
      " |    |-- Map:: string (nullable = true)\n",
      " |    |-- Mass Market Paperback:: string (nullable = true)\n",
      " |    |-- Microfilm:: string (nullable = true)\n",
      " |    |-- Misc. Supplies:: string (nullable = true)\n",
      " |    |-- Misc.:: string (nullable = true)\n",
      " |    |-- Mook:: string (nullable = true)\n",
      " |    |-- Note on Boxed Sets:: string (nullable = true)\n",
      " |    |-- Note:: string (nullable = true)\n",
      " |    |-- Number of Discs:: string (nullable = true)\n",
      " |    |-- Office Product:: string (nullable = true)\n",
      " |    |-- Online Code:: string (nullable = true)\n",
      " |    |-- Online Game Code:: string (nullable = true)\n",
      " |    |-- Online Map Code:: string (nullable = true)\n",
      " |    |-- Original Release Date:: string (nullable = true)\n",
      " |    |-- Page Numbers Source ISBN:: string (nullable = true)\n",
      " |    |-- Pamphlet:: string (nullable = true)\n",
      " |    |-- Paperback: string (nullable = true)\n",
      " |    |-- Paperback Bunko:: string (nullable = true)\n",
      " |    |-- Paperback Shinsho:: string (nullable = true)\n",
      " |    |-- Paperback:: string (nullable = true)\n",
      " |    |-- Perfect Paperback:: string (nullable = true)\n",
      " |    |-- Personal Computers:: string (nullable = true)\n",
      " |    |-- Plastic Comb:: string (nullable = true)\n",
      " |    |-- Please Note:: string (nullable = true)\n",
      " |    |-- Pocket Book:: string (nullable = true)\n",
      " |    |-- Poster:: string (nullable = true)\n",
      " |    |-- Print Length:: string (nullable = true)\n",
      " |    |-- Print Magazine:: string (nullable = true)\n",
      " |    |-- Print on Demand (Paperback):: string (nullable = true)\n",
      " |    |-- Printed Access Code:: string (nullable = true)\n",
      " |    |-- Program Type:: string (nullable = true)\n",
      " |    |-- Publication Date:: string (nullable = true)\n",
      " |    |-- Publisher:: string (nullable = true)\n",
      " |    |-- Rag Book:: string (nullable = true)\n",
      " |    |-- Release Date:: string (nullable = true)\n",
      " |    |-- Ring-bound:: string (nullable = true)\n",
      " |    |-- Run Time:: string (nullable = true)\n",
      " |    |-- SPARS Code:: string (nullable = true)\n",
      " |    |-- School & Library Binding:: string (nullable = true)\n",
      " |    |-- Series:: string (nullable = true)\n",
      " |    |-- Sheet music:: string (nullable = true)\n",
      " |    |-- Shipping Advisory:: string (nullable = true)\n",
      " |    |-- Shipping Weight:: string (nullable = true)\n",
      " |    |-- Shipping: : string (nullable = true)\n",
      " |    |-- Simultaneous Device Usage:: string (nullable = true)\n",
      " |    |-- Single Issue Magazine:: string (nullable = true)\n",
      " |    |-- Slide:: string (nullable = true)\n",
      " |    |-- Spiral-bound:: string (nullable = true)\n",
      " |    |-- Sports: string (nullable = true)\n",
      " |    |-- Sports:: string (nullable = true)\n",
      " |    |-- Staple Bound:: string (nullable = true)\n",
      " |    |-- Stationery:: string (nullable = true)\n",
      " |    |-- Subtitles for the Hearing Impaired:: string (nullable = true)\n",
      " |    |-- Subtitles:: string (nullable = true)\n",
      " |    |-- Tankobon Hardcover:: string (nullable = true)\n",
      " |    |-- Tankobon Softcover:: string (nullable = true)\n",
      " |    |-- Textbook Binding:: string (nullable = true)\n",
      " |    |-- Toy:: string (nullable = true)\n",
      " |    |-- Transparency:: string (nullable = true)\n",
      " |    |-- Turtleback:: string (nullable = true)\n",
      " |    |-- UPC:: string (nullable = true)\n",
      " |    |-- USB Memory Stick: string (nullable = true)\n",
      " |    |-- Unbound:: string (nullable = true)\n",
      " |    |-- Unknown Binding: string (nullable = true)\n",
      " |    |-- Unknown Binding:: string (nullable = true)\n",
      " |    |-- VHS Tape: string (nullable = true)\n",
      " |    |-- VHS Tape:: string (nullable = true)\n",
      " |    |-- Version:: string (nullable = true)\n",
      " |    |-- Video Game:: string (nullable = true)\n",
      " |    |-- Vinyl: string (nullable = true)\n",
      " |    |-- Vinyl Bound: string (nullable = true)\n",
      " |    |-- Vinyl Bound:: string (nullable = true)\n",
      " |    |-- Wall Chart:: string (nullable = true)\n",
      " |    |-- Watch: string (nullable = true)\n",
      " |    |-- Whispersync for Voice:: string (nullable = true)\n",
      " |    |-- Word Wise:: string (nullable = true)\n",
      " |    |-- Workbook:: string (nullable = true)\n",
      " |-- feature: array (nullable = true)\n",
      " |    |-- element: string (containsNull = true)\n",
      " |-- fit: string (nullable = true)\n",
      " |-- image: array (nullable = true)\n",
      " |    |-- element: string (containsNull = true)\n",
      " |-- main_cat: string (nullable = true)\n",
      " |-- price: string (nullable = true)\n",
      " |-- rank: string (nullable = true)\n",
      " |-- similar_item: string (nullable = true)\n",
      " |-- tech1: string (nullable = true)\n",
      " |-- tech2: string (nullable = true)\n",
      " |-- title: string (nullable = true)\n",
      "\n"
     ]
    }
   ],
   "source": [
    "# Print df_meta Schema to see what attributes we have and what data type they belong\n",
    "df_meta.printSchema()"
   ]
  },
  {
   "cell_type": "markdown",
   "id": "cfdaf6ad-70b7-4e4c-8fe8-15082d13a233",
   "metadata": {},
   "source": [
    "We see `df_meta` offers some relevant description about the products and categories such that we can summarize our data in a structured way, so we need to drop the fields that are unnecessary to our analysis "
   ]
  },
  {
   "cell_type": "code",
   "execution_count": 62,
   "id": "b53ac1ae-ecc1-44ad-8e2b-68897bd2d3c4",
   "metadata": {},
   "outputs": [
    {
     "name": "stdout",
     "output_type": "stream",
     "text": [
      "+--------------------+---------+----------+------------+--------------------+------------+--------------------+--------------------+--------------------+---+--------------------+--------------------+-------+--------------------+--------------------+--------------------+-----+--------------------+\n",
      "|            also_buy|also_view|      asin|       brand|            category|        date|         description|             details|             feature|fit|               image|            main_cat|  price|                rank|        similar_item|               tech1|tech2|               title|\n",
      "+--------------------+---------+----------+------------+--------------------+------------+--------------------+--------------------+--------------------+---+--------------------+--------------------+-------+--------------------+--------------------+--------------------+-----+--------------------+\n",
      "|                  []|       []|B01FVYVI00|NAUTICALMART|[Tools & Home Imp...|May 19, 2016|[NAUTICALMART CHR...|{null, null, null...|[DECORATIVE FLOOR...|   |                  []|Tools & Home Impr...|$195.00|[\">#3,449,141 in ...| class=\"a-bordere...| class=\"a-keyvalu...|     |NAUTICALMART CHRO...|\n",
      "|[B00TV26C0U, B075...|       []|B01FVZHGB4|     Daixers|[Tools & Home Imp...|            |[<b>Carrys up to ...|{null, null, null...|[Premium quality:...|   |[https://images-n...|         Amazon Home|  $6.99|[\">#750,363 in Ho...| class=\"a-bordere...|                    |     |Daixers Stainless...|\n",
      "|                  []|       []|B01FVZQZVG|  Rocky Mars|[Tools & Home Imp...|May 19, 2016|[<b>Overview</b><...|{null, null, null...|[Auto-Range digit...|   |[https://images-n...|Tools & Home Impr...| $18.99|[\">#2,323,519 in ...| class=\"a-bordere...| class=\"a-keyvalu...|     |Aimometer Digital...|\n",
      "|                  []|       []|B01FVZHEPM|       DNVEN|[Tools & Home Imp...|            |[<b>IMPORTANT to ...|{null, null, null...|[This wall decal ...|   |[https://images-n...|         Amazon Home|  $7.99|[\">#2,125,215 in ...|                    |                    |     |DNVEN Flower Girl...|\n",
      "|                  []|       []|B01FVZJGN0| World Pride|[Tools & Home Imp...|May 20, 2016|[Durable construc...|{null, null, null...|[Durable construc...|   |[https://images-n...|Tools & Home Impr...|       |[\">#1,440,754 in ...|                    | class=\"a-keyvalu...|     |World Pride Wall-...|\n",
      "+--------------------+---------+----------+------------+--------------------+------------+--------------------+--------------------+--------------------+---+--------------------+--------------------+-------+--------------------+--------------------+--------------------+-----+--------------------+\n",
      "only showing top 5 rows\n",
      "\n"
     ]
    }
   ],
   "source": [
    "# Check the content within df_meta\n",
    "df_meta.show(5)"
   ]
  },
  {
   "cell_type": "markdown",
   "id": "7732f996-4d49-4d50-9b64-7cd24581803e",
   "metadata": {},
   "source": [
    "#### **Data Cleaning**"
   ]
  },
  {
   "cell_type": "markdown",
   "id": "892b2159-b87c-488c-8a1d-440d18fa79af",
   "metadata": {},
   "source": [
    "#### Selecting, Filtering and Casting"
   ]
  },
  {
   "cell_type": "code",
   "execution_count": 26,
   "id": "b35e3cfd-f5f9-4229-b22a-55cea0533123",
   "metadata": {},
   "outputs": [],
   "source": [
    "# Create temp view to query data\n",
    "temp_view_name = \"tempvw_meta\"\n",
    "df_meta.createOrReplaceTempView(temp_view_name)"
   ]
  },
  {
   "cell_type": "code",
   "execution_count": 27,
   "id": "b5ed3ed8-6921-4c10-b0a9-f64a68a4bd5c",
   "metadata": {},
   "outputs": [],
   "source": [
    "# Filter data to avoid urls and empty records (without category)\n",
    "filtered_df_meta = spark.sql(\"\"\"\n",
    "SELECT DISTINCT asin, brand, main_cat, price, rank, description, category, title\n",
    "FROM tempvw_meta \n",
    "WHERE main_cat NOT LIKE '%https%' AND main_cat NOT LIKE ''\n",
    "\"\"\")"
   ]
  },
  {
   "cell_type": "code",
   "execution_count": 28,
   "id": "0479bdbb-8c2f-40ea-aef0-9eb8e8d9d455",
   "metadata": {},
   "outputs": [],
   "source": [
    "filtered_temp_view_name = \"filtered_tempvw_meta\"\n",
    "filtered_df_meta.createOrReplaceTempView(filtered_temp_view_name)"
   ]
  },
  {
   "cell_type": "code",
   "execution_count": 66,
   "id": "1ba10b02-6f08-47f5-8f31-69ca6226bf79",
   "metadata": {},
   "outputs": [],
   "source": [
    "# We query data to get the distribution of reviews per main category\n",
    "query_main_cat = spark.sql(\"\"\"\n",
    "SELECT main_cat, COUNT(*) as count \n",
    "FROM filtered_tempvw_meta \n",
    "GROUP BY main_cat\n",
    "ORDER BY COUNT(*) DESC\n",
    "\"\"\")"
   ]
  },
  {
   "cell_type": "code",
   "execution_count": 67,
   "id": "e0c65ea6-5150-45ed-8927-59d96c16bfec",
   "metadata": {},
   "outputs": [
    {
     "name": "stdout",
     "output_type": "stream",
     "text": [
      "+--------------------+----------------+\n",
      "|            main_cat|conteo_registros|\n",
      "+--------------------+----------------+\n",
      "|               Books|         1258544|\n",
      "|         Amazon Home|          807383|\n",
      "|   Sports & Outdoors|          424575|\n",
      "|          Automotive|          392778|\n",
      "|        Toys & Games|          357354|\n",
      "|Cell Phones & Acc...|          303785|\n",
      "|        Buy a Kindle|          266455|\n",
      "|Tools & Home Impr...|          201019|\n",
      "|             Grocery|          153057|\n",
      "|           Computers|          141038|\n",
      "|     Office Products|          114194|\n",
      "|         Movies & TV|          112838|\n",
      "|Arts, Crafts & Se...|          107778|\n",
      "|     All Electronics|           97700|\n",
      "|Industrial & Scie...|           70171|\n",
      "| Musical Instruments|           70085|\n",
      "|        Pet Supplies|           68867|\n",
      "|      Camera & Photo|           64581|\n",
      "|Home Audio & Theater|           54908|\n",
      "|         Video Games|           46302|\n",
      "+--------------------+----------------+\n",
      "only showing top 20 rows\n",
      "\n"
     ]
    }
   ],
   "source": [
    "query_main_cat.show()"
   ]
  },
  {
   "cell_type": "code",
   "execution_count": 29,
   "id": "538b995a-e2dd-4400-b000-347f5c6196f8",
   "metadata": {},
   "outputs": [],
   "source": [
    "# Replace money sign to cast price to float\n",
    "value_to_replace = \"\\\\$\"\n",
    "replacement_value = \"\"\n",
    "df_meta_clean = filtered_df_meta.withColumn(\"price\", regexp_replace(col(\"price\"), value_to_replace, replacement_value).cast(\"float\"))"
   ]
  },
  {
   "cell_type": "code",
   "execution_count": 74,
   "id": "2d9f2b7d-5721-4732-9659-49d461fb1e76",
   "metadata": {},
   "outputs": [
    {
     "name": "stdout",
     "output_type": "stream",
     "text": [
      "+----------+--------------------+----------+-----+--------------------+--------------------+--------------------+--------------------+\n",
      "|      asin|               brand|  main_cat|price|                rank|         description|            category|               title|\n",
      "+----------+--------------------+----------+-----+--------------------+--------------------+--------------------+--------------------+\n",
      "|B000C2E6HE|             Fel-Pro|Automotive| 6.29|[\">#804,748 in Au...|[Fel-Pro gaskets ...|[Automotive, Repl...|Fel-Pro 61093 Thr...|\n",
      "|B000C2EAZW|             Fel-Pro|Automotive|58.99|[\">#743,066 in Au...|[This Fel-Pro hea...|[Automotive, Repl...|Fel-Pro HS9170PT1...|\n",
      "|B000C2GI52|             Fel-Pro|Automotive|14.73|[\">#150,455 in Au...|[Fel-Pro gaskets ...|[Automotive, Repl...|Fel-Pro VS50500R ...|\n",
      "|B000C2M8LA|        Four Seasons|Automotive| 9.06|[\">#397,901 in Au...|[Air Conditioning...|[Automotive, Repl...|Four Seasons 2670...|\n",
      "|B000C2M8VA|Four Seasons/Trumark|Automotive|35.88|[\">#443,626 in Au...|[This product mee...|[Automotive, Repl...|Four Seasons/Trum...|\n",
      "|B000C2MANG|        Four Seasons|Automotive|20.17|[\">#1,175,134 in ...|   [Expansion Valve]|[Automotive, Repl...|Four Seasons 3884...|\n",
      "|B000C2NWS8|              Bendix|Automotive|53.41|[\">#2,274,552 in ...|[Bendix TitaniuMe...|[Automotive, Repl...|Bendix MKD781 Sem...|\n",
      "|B000C2STCM|        Four Seasons|Automotive| 8.18|[\">#1,421,543 in ...|[Suction And Disc...|[Automotive, Repl...|Four Seasons 5643...|\n",
      "|B000C2UJY8|               Gates|Automotive|16.15|[\">#232,054 in Au...|   [Serpentine Belt]|[Automotive, Repl...|Gates K040372 Mul...|\n",
      "|B000C2WEEG|               Gates|Automotive|12.96|[\">#492,052 in Au...|       [Heater Hose]|[Automotive, Repl...|Gates 28472 Heate...|\n",
      "|B000C2WIYW|               Gates|Automotive| 11.8|[\">#154,672 in Au...|[Accessory Drive ...|[Automotive, Repl...|   Gates 7420 V-Belt|\n",
      "|B000C2WLZS|               Gates|Automotive|19.58|[\">#1,565,889 in ...|       [Timing Belt]|[Automotive, Repl...|Gates T303 Timing...|\n",
      "|B000C2YA7K|               Gates|Automotive|30.32|[\">#6,237,811 in ...|[Power Steering P...|[Automotive, Repl...|Gates 369300 Pres...|\n",
      "|B000C34JUM|   Continental Elite|Automotive| null|[\">#2,682,914 in ...|[Continental Elit...|[Automotive, Repl...|Continental Elite...|\n",
      "|B000C36CFC|   Continental Elite|Automotive|14.31|[\">#1,980,516 in ...|[Continental Elit...|[Automotive, Repl...|Continental Elite...|\n",
      "|B000C3PY9M|NuGeon Auto Compo...|Automotive| null|[\">#3,472,619 in ...|[BRAKE CALIPER - ...|[Automotive, Repl...|NuGeon 22-01624L ...|\n",
      "|B000C3ZC8U|                 KYB|Automotive| 8.18|[\">#1,224,737 in ...|[Ride Comfort may...|[Automotive, Repl...|KYB 234024 Excel-...|\n",
      "|B000C3ZDV6|                 KYB|Automotive|37.68|[\">#119,423 in Au...|[The KYB Gas-a-Ju...|[Automotive, Repl...|KYB KG5562 Gas-a-...|\n",
      "|B000C41HJC|          A1 Cardone|Automotive| null|[\">#4,223,933 in ...|[A1 CARDONE Reman...|[Automotive, Repl...|Cardone 21-5887 R...|\n",
      "|B000C42QS8|                 KYB|Automotive| 8.18|[\">#81,540 in Aut...|[Ride Comfort may...|[Automotive, Repl...|KYB 235629 Excel-...|\n",
      "+----------+--------------------+----------+-----+--------------------+--------------------+--------------------+--------------------+\n",
      "only showing top 20 rows\n",
      "\n"
     ]
    }
   ],
   "source": [
    "df_meta_clean.show(5)"
   ]
  },
  {
   "cell_type": "code",
   "execution_count": 30,
   "id": "a4f86292-c64e-4ead-ad1b-1846233fd9ef",
   "metadata": {},
   "outputs": [
    {
     "name": "stdout",
     "output_type": "stream",
     "text": [
      "root\n",
      " |-- asin: string (nullable = true)\n",
      " |-- brand: string (nullable = true)\n",
      " |-- main_cat: string (nullable = true)\n",
      " |-- price: float (nullable = true)\n",
      " |-- rank: string (nullable = true)\n",
      " |-- description: array (nullable = true)\n",
      " |    |-- element: string (containsNull = true)\n",
      " |-- category: array (nullable = true)\n",
      " |    |-- element: string (containsNull = true)\n",
      " |-- title: string (nullable = true)\n",
      "\n"
     ]
    }
   ],
   "source": [
    "# Print df_meta_clean Schema to see what attributes we have and what data type they belong\n",
    "df_meta_clean.printSchema()"
   ]
  },
  {
   "cell_type": "markdown",
   "id": "b70f7f18-d40a-4285-a2a6-19c09af0b988",
   "metadata": {},
   "source": [
    "## Combine both Amazon Sources (Batch)"
   ]
  },
  {
   "cell_type": "code",
   "execution_count": 31,
   "id": "92c5cfeb-6cce-4209-acf1-a38d11c316de",
   "metadata": {},
   "outputs": [],
   "source": [
    "# Inner Join to combine Reviews with Meta (Get our master table)\n",
    "df_reviews_master_table = df_reviews_final.join(df_meta_clean, on=[\"asin\"], how=\"inner\")"
   ]
  },
  {
   "cell_type": "code",
   "execution_count": 33,
   "id": "ac70480a-96fb-467c-aaff-f9e5fa89ea97",
   "metadata": {},
   "outputs": [
    {
     "name": "stderr",
     "output_type": "stream",
     "text": [
      "ERROR:root:Exception while sending command.\n",
      "Traceback (most recent call last):\n",
      "  File \"/usr/local/spark/python/lib/py4j-0.10.9.7-src.zip/py4j/clientserver.py\", line 516, in send_command\n",
      "    raise Py4JNetworkError(\"Answer from Java side is empty\")\n",
      "py4j.protocol.Py4JNetworkError: Answer from Java side is empty\n",
      "\n",
      "During handling of the above exception, another exception occurred:\n",
      "\n",
      "Traceback (most recent call last):\n",
      "  File \"/usr/local/spark/python/lib/py4j-0.10.9.7-src.zip/py4j/java_gateway.py\", line 1038, in send_command\n",
      "    response = connection.send_command(command)\n",
      "               ^^^^^^^^^^^^^^^^^^^^^^^^^^^^^^^^\n",
      "  File \"/usr/local/spark/python/lib/py4j-0.10.9.7-src.zip/py4j/clientserver.py\", line 539, in send_command\n",
      "    raise Py4JNetworkError(\n",
      "py4j.protocol.Py4JNetworkError: Error while sending or receiving\n"
     ]
    },
    {
     "ename": "Py4JError",
     "evalue": "An error occurred while calling o94.schema",
     "output_type": "error",
     "traceback": [
      "\u001b[0;31m---------------------------------------------------------------------------\u001b[0m",
      "\u001b[0;31mPy4JError\u001b[0m                                 Traceback (most recent call last)",
      "Cell \u001b[0;32mIn[33], line 1\u001b[0m\n\u001b[0;32m----> 1\u001b[0m \u001b[43mdf_reviews_master_table\u001b[49m\u001b[38;5;241;43m.\u001b[39;49m\u001b[43mprintSchema\u001b[49m\u001b[43m(\u001b[49m\u001b[43m)\u001b[49m\n",
      "File \u001b[0;32m/usr/local/spark/python/pyspark/sql/dataframe.py:593\u001b[0m, in \u001b[0;36mDataFrame.printSchema\u001b[0;34m(self)\u001b[0m\n\u001b[1;32m    576\u001b[0m \u001b[38;5;28;01mdef\u001b[39;00m \u001b[38;5;21mprintSchema\u001b[39m(\u001b[38;5;28mself\u001b[39m) \u001b[38;5;241m-\u001b[39m\u001b[38;5;241m>\u001b[39m \u001b[38;5;28;01mNone\u001b[39;00m:\n\u001b[1;32m    577\u001b[0m \u001b[38;5;250m    \u001b[39m\u001b[38;5;124;03m\"\"\"Prints out the schema in the tree format.\u001b[39;00m\n\u001b[1;32m    578\u001b[0m \n\u001b[1;32m    579\u001b[0m \u001b[38;5;124;03m    .. versionadded:: 1.3.0\u001b[39;00m\n\u001b[0;32m   (...)\u001b[0m\n\u001b[1;32m    591\u001b[0m \u001b[38;5;124;03m     |-- name: string (nullable = true)\u001b[39;00m\n\u001b[1;32m    592\u001b[0m \u001b[38;5;124;03m    \"\"\"\u001b[39;00m\n\u001b[0;32m--> 593\u001b[0m     \u001b[38;5;28mprint\u001b[39m(\u001b[38;5;28;43mself\u001b[39;49m\u001b[38;5;241;43m.\u001b[39;49m\u001b[43m_jdf\u001b[49m\u001b[38;5;241;43m.\u001b[39;49m\u001b[43mschema\u001b[49m\u001b[43m(\u001b[49m\u001b[43m)\u001b[49m\u001b[38;5;241m.\u001b[39mtreeString())\n",
      "File \u001b[0;32m/usr/local/spark/python/lib/py4j-0.10.9.7-src.zip/py4j/java_gateway.py:1322\u001b[0m, in \u001b[0;36mJavaMember.__call__\u001b[0;34m(self, *args)\u001b[0m\n\u001b[1;32m   1316\u001b[0m command \u001b[38;5;241m=\u001b[39m proto\u001b[38;5;241m.\u001b[39mCALL_COMMAND_NAME \u001b[38;5;241m+\u001b[39m\\\n\u001b[1;32m   1317\u001b[0m     \u001b[38;5;28mself\u001b[39m\u001b[38;5;241m.\u001b[39mcommand_header \u001b[38;5;241m+\u001b[39m\\\n\u001b[1;32m   1318\u001b[0m     args_command \u001b[38;5;241m+\u001b[39m\\\n\u001b[1;32m   1319\u001b[0m     proto\u001b[38;5;241m.\u001b[39mEND_COMMAND_PART\n\u001b[1;32m   1321\u001b[0m answer \u001b[38;5;241m=\u001b[39m \u001b[38;5;28mself\u001b[39m\u001b[38;5;241m.\u001b[39mgateway_client\u001b[38;5;241m.\u001b[39msend_command(command)\n\u001b[0;32m-> 1322\u001b[0m return_value \u001b[38;5;241m=\u001b[39m \u001b[43mget_return_value\u001b[49m\u001b[43m(\u001b[49m\n\u001b[1;32m   1323\u001b[0m \u001b[43m    \u001b[49m\u001b[43manswer\u001b[49m\u001b[43m,\u001b[49m\u001b[43m \u001b[49m\u001b[38;5;28;43mself\u001b[39;49m\u001b[38;5;241;43m.\u001b[39;49m\u001b[43mgateway_client\u001b[49m\u001b[43m,\u001b[49m\u001b[43m \u001b[49m\u001b[38;5;28;43mself\u001b[39;49m\u001b[38;5;241;43m.\u001b[39;49m\u001b[43mtarget_id\u001b[49m\u001b[43m,\u001b[49m\u001b[43m \u001b[49m\u001b[38;5;28;43mself\u001b[39;49m\u001b[38;5;241;43m.\u001b[39;49m\u001b[43mname\u001b[49m\u001b[43m)\u001b[49m\n\u001b[1;32m   1325\u001b[0m \u001b[38;5;28;01mfor\u001b[39;00m temp_arg \u001b[38;5;129;01min\u001b[39;00m temp_args:\n\u001b[1;32m   1326\u001b[0m     \u001b[38;5;28;01mif\u001b[39;00m \u001b[38;5;28mhasattr\u001b[39m(temp_arg, \u001b[38;5;124m\"\u001b[39m\u001b[38;5;124m_detach\u001b[39m\u001b[38;5;124m\"\u001b[39m):\n",
      "File \u001b[0;32m/usr/local/spark/python/pyspark/errors/exceptions/captured.py:169\u001b[0m, in \u001b[0;36mcapture_sql_exception.<locals>.deco\u001b[0;34m(*a, **kw)\u001b[0m\n\u001b[1;32m    167\u001b[0m \u001b[38;5;28;01mdef\u001b[39;00m \u001b[38;5;21mdeco\u001b[39m(\u001b[38;5;241m*\u001b[39ma: Any, \u001b[38;5;241m*\u001b[39m\u001b[38;5;241m*\u001b[39mkw: Any) \u001b[38;5;241m-\u001b[39m\u001b[38;5;241m>\u001b[39m Any:\n\u001b[1;32m    168\u001b[0m     \u001b[38;5;28;01mtry\u001b[39;00m:\n\u001b[0;32m--> 169\u001b[0m         \u001b[38;5;28;01mreturn\u001b[39;00m \u001b[43mf\u001b[49m\u001b[43m(\u001b[49m\u001b[38;5;241;43m*\u001b[39;49m\u001b[43ma\u001b[49m\u001b[43m,\u001b[49m\u001b[43m \u001b[49m\u001b[38;5;241;43m*\u001b[39;49m\u001b[38;5;241;43m*\u001b[39;49m\u001b[43mkw\u001b[49m\u001b[43m)\u001b[49m\n\u001b[1;32m    170\u001b[0m     \u001b[38;5;28;01mexcept\u001b[39;00m Py4JJavaError \u001b[38;5;28;01mas\u001b[39;00m e:\n\u001b[1;32m    171\u001b[0m         converted \u001b[38;5;241m=\u001b[39m convert_exception(e\u001b[38;5;241m.\u001b[39mjava_exception)\n",
      "File \u001b[0;32m/usr/local/spark/python/lib/py4j-0.10.9.7-src.zip/py4j/protocol.py:334\u001b[0m, in \u001b[0;36mget_return_value\u001b[0;34m(answer, gateway_client, target_id, name)\u001b[0m\n\u001b[1;32m    330\u001b[0m             \u001b[38;5;28;01mraise\u001b[39;00m Py4JError(\n\u001b[1;32m    331\u001b[0m                 \u001b[38;5;124m\"\u001b[39m\u001b[38;5;124mAn error occurred while calling \u001b[39m\u001b[38;5;132;01m{0}\u001b[39;00m\u001b[38;5;132;01m{1}\u001b[39;00m\u001b[38;5;132;01m{2}\u001b[39;00m\u001b[38;5;124m. Trace:\u001b[39m\u001b[38;5;130;01m\\n\u001b[39;00m\u001b[38;5;132;01m{3}\u001b[39;00m\u001b[38;5;130;01m\\n\u001b[39;00m\u001b[38;5;124m\"\u001b[39m\u001b[38;5;241m.\u001b[39m\n\u001b[1;32m    332\u001b[0m                 \u001b[38;5;28mformat\u001b[39m(target_id, \u001b[38;5;124m\"\u001b[39m\u001b[38;5;124m.\u001b[39m\u001b[38;5;124m\"\u001b[39m, name, value))\n\u001b[1;32m    333\u001b[0m     \u001b[38;5;28;01melse\u001b[39;00m:\n\u001b[0;32m--> 334\u001b[0m         \u001b[38;5;28;01mraise\u001b[39;00m Py4JError(\n\u001b[1;32m    335\u001b[0m             \u001b[38;5;124m\"\u001b[39m\u001b[38;5;124mAn error occurred while calling \u001b[39m\u001b[38;5;132;01m{0}\u001b[39;00m\u001b[38;5;132;01m{1}\u001b[39;00m\u001b[38;5;132;01m{2}\u001b[39;00m\u001b[38;5;124m\"\u001b[39m\u001b[38;5;241m.\u001b[39m\n\u001b[1;32m    336\u001b[0m             \u001b[38;5;28mformat\u001b[39m(target_id, \u001b[38;5;124m\"\u001b[39m\u001b[38;5;124m.\u001b[39m\u001b[38;5;124m\"\u001b[39m, name))\n\u001b[1;32m    337\u001b[0m \u001b[38;5;28;01melse\u001b[39;00m:\n\u001b[1;32m    338\u001b[0m     \u001b[38;5;28mtype\u001b[39m \u001b[38;5;241m=\u001b[39m answer[\u001b[38;5;241m1\u001b[39m]\n",
      "\u001b[0;31mPy4JError\u001b[0m: An error occurred while calling o94.schema"
     ]
    }
   ],
   "source": [
    "df_reviews_master_table.printSchema()"
   ]
  },
  {
   "cell_type": "code",
   "execution_count": 80,
   "id": "5358a452-45c1-4ba2-938b-b7a81e998141",
   "metadata": {},
   "outputs": [
    {
     "name": "stdout",
     "output_type": "stream",
     "text": [
      "+----------+--------------------+--------------+--------------------+----+----------+-----------------+--------------------+--------+-----+--------------------+--------------------+--------------------+--------------------+\n",
      "|      asin|          reviewText|    reviewerID|             summary|vote|reviewTime|      avg_overall|               brand|main_cat|price|                rank|         description|            category|               title|\n",
      "+----------+--------------------+--------------+--------------------+----+----------+-----------------+--------------------+--------+-----+--------------------+--------------------+--------------------+--------------------+\n",
      "|0143142291|I don't often wri...|A3VF02EFNIMFCX|Not my favourite,...|   3|2012-11-28|4.208333333333333|Visit Amazon's De...|   Books|16.66|3,402,820 in Books (|[Golden Voice Geo...|[Books, Literatur...|The Door to December|\n",
      "|0143142690|I would recommend...|A3NSJ94VPH2XYG|If applied, this ...|   3|2015-09-21|4.497287522603978|Visit Amazon's Wa...|   Books|19.95|1,434,674 in Books (|[Born in 1860 in ...|[Books, Business ...|The Science of Ge...|\n",
      "|0143142690|Dr. Wattles takes...|A2L1KD4GMI4RB9|          Not For Me|   5|2015-01-22|4.497287522603978|Visit Amazon's Wa...|   Books|19.95|1,434,674 in Books (|[Born in 1860 in ...|[Books, Business ...|The Science of Ge...|\n",
      "|0143142690|If you are going ...|A2ZZHMT58ZMVCZ|The wisdom of gre...| 166|2007-03-15|4.497287522603978|Visit Amazon's Wa...|   Books|19.95|1,434,674 in Books (|[Born in 1860 in ...|[Books, Business ...|The Science of Ge...|\n",
      "|0143142690|This book is inte...| AAJHY9UR22GD6|I hope you enjoy ...|   4|2015-06-18|4.497287522603978|Visit Amazon's Wa...|   Books|19.95|1,434,674 in Books (|[Born in 1860 in ...|[Books, Business ...|The Science of Ge...|\n",
      "+----------+--------------------+--------------+--------------------+----+----------+-----------------+--------------------+--------+-----+--------------------+--------------------+--------------------+--------------------+\n",
      "only showing top 5 rows\n",
      "\n"
     ]
    }
   ],
   "source": [
    "# Check the results \n",
    "df_reviews_master_table.show(5)"
   ]
  },
  {
   "cell_type": "markdown",
   "id": "f4ee143e-e97b-430c-ac34-7734e3292c8b",
   "metadata": {},
   "source": [
    "## Export master table to Parquet "
   ]
  },
  {
   "cell_type": "code",
   "execution_count": 32,
   "id": "ff26c6ce-5fd2-4573-9de5-84563db69a97",
   "metadata": {},
   "outputs": [
    {
     "ename": "Py4JJavaError",
     "evalue": "An error occurred while calling o99.parquet.\n: org.apache.spark.SparkException: Job aborted due to stage failure: Task 6 in stage 28.0 failed 1 times, most recent failure: Lost task 6.0 in stage 28.0 (TID 28294) (d2f0c56165a8 executor driver): java.lang.OutOfMemoryError: Java heap space\n\tat org.apache.spark.sql.catalyst.expressions.UnsafeRow.copy(UnsafeRow.java:493)\n\tat org.apache.spark.sql.execution.aggregate.HashAggregateExec$$anon$1.next(HashAggregateExec.scala:243)\n\tat org.apache.spark.sql.catalyst.expressions.GeneratedClass$GeneratedIteratorForCodegenStage4.processNext(Unknown Source)\n\tat org.apache.spark.sql.execution.BufferedRowIterator.hasNext(BufferedRowIterator.java:43)\n\tat org.apache.spark.sql.execution.WholeStageCodegenExec$$anon$1.hasNext(WholeStageCodegenExec.scala:760)\n\tat scala.collection.Iterator$$anon$10.hasNext(Iterator.scala:460)\n\tat org.apache.spark.shuffle.sort.BypassMergeSortShuffleWriter.write(BypassMergeSortShuffleWriter.java:168)\n\tat org.apache.spark.shuffle.ShuffleWriteProcessor.write(ShuffleWriteProcessor.scala:59)\n\tat org.apache.spark.scheduler.ShuffleMapTask.runTask(ShuffleMapTask.scala:101)\n\tat org.apache.spark.scheduler.ShuffleMapTask.runTask(ShuffleMapTask.scala:53)\n\tat org.apache.spark.TaskContext.runTaskWithListeners(TaskContext.scala:161)\n\tat org.apache.spark.scheduler.Task.run(Task.scala:139)\n\tat org.apache.spark.executor.Executor$TaskRunner.$anonfun$run$3(Executor.scala:554)\n\tat org.apache.spark.executor.Executor$TaskRunner$$Lambda$1585/0x00000008019238c8.apply(Unknown Source)\n\tat org.apache.spark.util.Utils$.tryWithSafeFinally(Utils.scala:1529)\n\tat org.apache.spark.executor.Executor$TaskRunner.run(Executor.scala:557)\n\tat java.base/java.util.concurrent.ThreadPoolExecutor.runWorker(ThreadPoolExecutor.java:1136)\n\tat java.base/java.util.concurrent.ThreadPoolExecutor$Worker.run(ThreadPoolExecutor.java:635)\n\tat java.base/java.lang.Thread.run(Thread.java:833)\n\nDriver stacktrace:\n\tat org.apache.spark.scheduler.DAGScheduler.failJobAndIndependentStages(DAGScheduler.scala:2785)\n\tat org.apache.spark.scheduler.DAGScheduler.$anonfun$abortStage$2(DAGScheduler.scala:2721)\n\tat org.apache.spark.scheduler.DAGScheduler.$anonfun$abortStage$2$adapted(DAGScheduler.scala:2720)\n\tat scala.collection.mutable.ResizableArray.foreach(ResizableArray.scala:62)\n\tat scala.collection.mutable.ResizableArray.foreach$(ResizableArray.scala:55)\n\tat scala.collection.mutable.ArrayBuffer.foreach(ArrayBuffer.scala:49)\n\tat org.apache.spark.scheduler.DAGScheduler.abortStage(DAGScheduler.scala:2720)\n\tat org.apache.spark.scheduler.DAGScheduler.$anonfun$handleTaskSetFailed$1(DAGScheduler.scala:1206)\n\tat org.apache.spark.scheduler.DAGScheduler.$anonfun$handleTaskSetFailed$1$adapted(DAGScheduler.scala:1206)\n\tat scala.Option.foreach(Option.scala:407)\n\tat org.apache.spark.scheduler.DAGScheduler.handleTaskSetFailed(DAGScheduler.scala:1206)\n\tat org.apache.spark.scheduler.DAGSchedulerEventProcessLoop.doOnReceive(DAGScheduler.scala:2984)\n\tat org.apache.spark.scheduler.DAGSchedulerEventProcessLoop.onReceive(DAGScheduler.scala:2923)\n\tat org.apache.spark.scheduler.DAGSchedulerEventProcessLoop.onReceive(DAGScheduler.scala:2912)\n\tat org.apache.spark.util.EventLoop$$anon$1.run(EventLoop.scala:49)\nCaused by: java.lang.OutOfMemoryError: Java heap space\n\tat org.apache.spark.sql.catalyst.expressions.UnsafeRow.copy(UnsafeRow.java:493)\n\tat org.apache.spark.sql.execution.aggregate.HashAggregateExec$$anon$1.next(HashAggregateExec.scala:243)\n\tat org.apache.spark.sql.catalyst.expressions.GeneratedClass$GeneratedIteratorForCodegenStage4.processNext(Unknown Source)\n\tat org.apache.spark.sql.execution.BufferedRowIterator.hasNext(BufferedRowIterator.java:43)\n\tat org.apache.spark.sql.execution.WholeStageCodegenExec$$anon$1.hasNext(WholeStageCodegenExec.scala:760)\n\tat scala.collection.Iterator$$anon$10.hasNext(Iterator.scala:460)\n\tat org.apache.spark.shuffle.sort.BypassMergeSortShuffleWriter.write(BypassMergeSortShuffleWriter.java:168)\n\tat org.apache.spark.shuffle.ShuffleWriteProcessor.write(ShuffleWriteProcessor.scala:59)\n\tat org.apache.spark.scheduler.ShuffleMapTask.runTask(ShuffleMapTask.scala:101)\n\tat org.apache.spark.scheduler.ShuffleMapTask.runTask(ShuffleMapTask.scala:53)\n\tat org.apache.spark.TaskContext.runTaskWithListeners(TaskContext.scala:161)\n\tat org.apache.spark.scheduler.Task.run(Task.scala:139)\n\tat org.apache.spark.executor.Executor$TaskRunner.$anonfun$run$3(Executor.scala:554)\n\tat org.apache.spark.executor.Executor$TaskRunner$$Lambda$1585/0x00000008019238c8.apply(Unknown Source)\n\tat org.apache.spark.util.Utils$.tryWithSafeFinally(Utils.scala:1529)\n\tat org.apache.spark.executor.Executor$TaskRunner.run(Executor.scala:557)\n\tat java.base/java.util.concurrent.ThreadPoolExecutor.runWorker(ThreadPoolExecutor.java:1136)\n\tat java.base/java.util.concurrent.ThreadPoolExecutor$Worker.run(ThreadPoolExecutor.java:635)\n\tat java.base/java.lang.Thread.run(Thread.java:833)\n",
     "output_type": "error",
     "traceback": [
      "\u001b[0;31m---------------------------------------------------------------------------\u001b[0m",
      "\u001b[0;31mPy4JJavaError\u001b[0m                             Traceback (most recent call last)",
      "Cell \u001b[0;32mIn[32], line 3\u001b[0m\n\u001b[1;32m      1\u001b[0m path_parquet \u001b[38;5;241m=\u001b[39m \u001b[38;5;124m'\u001b[39m\u001b[38;5;124mreviews_master_parquet\u001b[39m\u001b[38;5;124m'\u001b[39m\n\u001b[1;32m      2\u001b[0m partition_column \u001b[38;5;241m=\u001b[39m \u001b[38;5;124m'\u001b[39m\u001b[38;5;124mmain_cat\u001b[39m\u001b[38;5;124m'\u001b[39m\n\u001b[0;32m----> 3\u001b[0m \u001b[43mdf_reviews_master_table\u001b[49m\u001b[38;5;241;43m.\u001b[39;49m\u001b[43mwrite\u001b[49m\u001b[38;5;241;43m.\u001b[39;49m\u001b[43mpartitionBy\u001b[49m\u001b[43m(\u001b[49m\u001b[43mpartition_column\u001b[49m\u001b[43m)\u001b[49m\u001b[38;5;241;43m.\u001b[39;49m\u001b[43moption\u001b[49m\u001b[43m(\u001b[49m\u001b[38;5;124;43m\"\u001b[39;49m\u001b[38;5;124;43mcompression\u001b[39;49m\u001b[38;5;124;43m\"\u001b[39;49m\u001b[43m,\u001b[49m\u001b[43m \u001b[49m\u001b[38;5;124;43m\"\u001b[39;49m\u001b[38;5;124;43mgzip\u001b[39;49m\u001b[38;5;124;43m\"\u001b[39;49m\u001b[43m)\u001b[49m\u001b[38;5;241;43m.\u001b[39;49m\u001b[43mparquet\u001b[49m\u001b[43m(\u001b[49m\u001b[43mpath_parquet\u001b[49m\u001b[43m)\u001b[49m\n",
      "File \u001b[0;32m/usr/local/spark/python/pyspark/sql/readwriter.py:1656\u001b[0m, in \u001b[0;36mDataFrameWriter.parquet\u001b[0;34m(self, path, mode, partitionBy, compression)\u001b[0m\n\u001b[1;32m   1654\u001b[0m     \u001b[38;5;28mself\u001b[39m\u001b[38;5;241m.\u001b[39mpartitionBy(partitionBy)\n\u001b[1;32m   1655\u001b[0m \u001b[38;5;28mself\u001b[39m\u001b[38;5;241m.\u001b[39m_set_opts(compression\u001b[38;5;241m=\u001b[39mcompression)\n\u001b[0;32m-> 1656\u001b[0m \u001b[38;5;28;43mself\u001b[39;49m\u001b[38;5;241;43m.\u001b[39;49m\u001b[43m_jwrite\u001b[49m\u001b[38;5;241;43m.\u001b[39;49m\u001b[43mparquet\u001b[49m\u001b[43m(\u001b[49m\u001b[43mpath\u001b[49m\u001b[43m)\u001b[49m\n",
      "File \u001b[0;32m/usr/local/spark/python/lib/py4j-0.10.9.7-src.zip/py4j/java_gateway.py:1322\u001b[0m, in \u001b[0;36mJavaMember.__call__\u001b[0;34m(self, *args)\u001b[0m\n\u001b[1;32m   1316\u001b[0m command \u001b[38;5;241m=\u001b[39m proto\u001b[38;5;241m.\u001b[39mCALL_COMMAND_NAME \u001b[38;5;241m+\u001b[39m\\\n\u001b[1;32m   1317\u001b[0m     \u001b[38;5;28mself\u001b[39m\u001b[38;5;241m.\u001b[39mcommand_header \u001b[38;5;241m+\u001b[39m\\\n\u001b[1;32m   1318\u001b[0m     args_command \u001b[38;5;241m+\u001b[39m\\\n\u001b[1;32m   1319\u001b[0m     proto\u001b[38;5;241m.\u001b[39mEND_COMMAND_PART\n\u001b[1;32m   1321\u001b[0m answer \u001b[38;5;241m=\u001b[39m \u001b[38;5;28mself\u001b[39m\u001b[38;5;241m.\u001b[39mgateway_client\u001b[38;5;241m.\u001b[39msend_command(command)\n\u001b[0;32m-> 1322\u001b[0m return_value \u001b[38;5;241m=\u001b[39m \u001b[43mget_return_value\u001b[49m\u001b[43m(\u001b[49m\n\u001b[1;32m   1323\u001b[0m \u001b[43m    \u001b[49m\u001b[43manswer\u001b[49m\u001b[43m,\u001b[49m\u001b[43m \u001b[49m\u001b[38;5;28;43mself\u001b[39;49m\u001b[38;5;241;43m.\u001b[39;49m\u001b[43mgateway_client\u001b[49m\u001b[43m,\u001b[49m\u001b[43m \u001b[49m\u001b[38;5;28;43mself\u001b[39;49m\u001b[38;5;241;43m.\u001b[39;49m\u001b[43mtarget_id\u001b[49m\u001b[43m,\u001b[49m\u001b[43m \u001b[49m\u001b[38;5;28;43mself\u001b[39;49m\u001b[38;5;241;43m.\u001b[39;49m\u001b[43mname\u001b[49m\u001b[43m)\u001b[49m\n\u001b[1;32m   1325\u001b[0m \u001b[38;5;28;01mfor\u001b[39;00m temp_arg \u001b[38;5;129;01min\u001b[39;00m temp_args:\n\u001b[1;32m   1326\u001b[0m     \u001b[38;5;28;01mif\u001b[39;00m \u001b[38;5;28mhasattr\u001b[39m(temp_arg, \u001b[38;5;124m\"\u001b[39m\u001b[38;5;124m_detach\u001b[39m\u001b[38;5;124m\"\u001b[39m):\n",
      "File \u001b[0;32m/usr/local/spark/python/pyspark/errors/exceptions/captured.py:169\u001b[0m, in \u001b[0;36mcapture_sql_exception.<locals>.deco\u001b[0;34m(*a, **kw)\u001b[0m\n\u001b[1;32m    167\u001b[0m \u001b[38;5;28;01mdef\u001b[39;00m \u001b[38;5;21mdeco\u001b[39m(\u001b[38;5;241m*\u001b[39ma: Any, \u001b[38;5;241m*\u001b[39m\u001b[38;5;241m*\u001b[39mkw: Any) \u001b[38;5;241m-\u001b[39m\u001b[38;5;241m>\u001b[39m Any:\n\u001b[1;32m    168\u001b[0m     \u001b[38;5;28;01mtry\u001b[39;00m:\n\u001b[0;32m--> 169\u001b[0m         \u001b[38;5;28;01mreturn\u001b[39;00m \u001b[43mf\u001b[49m\u001b[43m(\u001b[49m\u001b[38;5;241;43m*\u001b[39;49m\u001b[43ma\u001b[49m\u001b[43m,\u001b[49m\u001b[43m \u001b[49m\u001b[38;5;241;43m*\u001b[39;49m\u001b[38;5;241;43m*\u001b[39;49m\u001b[43mkw\u001b[49m\u001b[43m)\u001b[49m\n\u001b[1;32m    170\u001b[0m     \u001b[38;5;28;01mexcept\u001b[39;00m Py4JJavaError \u001b[38;5;28;01mas\u001b[39;00m e:\n\u001b[1;32m    171\u001b[0m         converted \u001b[38;5;241m=\u001b[39m convert_exception(e\u001b[38;5;241m.\u001b[39mjava_exception)\n",
      "File \u001b[0;32m/usr/local/spark/python/lib/py4j-0.10.9.7-src.zip/py4j/protocol.py:326\u001b[0m, in \u001b[0;36mget_return_value\u001b[0;34m(answer, gateway_client, target_id, name)\u001b[0m\n\u001b[1;32m    324\u001b[0m value \u001b[38;5;241m=\u001b[39m OUTPUT_CONVERTER[\u001b[38;5;28mtype\u001b[39m](answer[\u001b[38;5;241m2\u001b[39m:], gateway_client)\n\u001b[1;32m    325\u001b[0m \u001b[38;5;28;01mif\u001b[39;00m answer[\u001b[38;5;241m1\u001b[39m] \u001b[38;5;241m==\u001b[39m REFERENCE_TYPE:\n\u001b[0;32m--> 326\u001b[0m     \u001b[38;5;28;01mraise\u001b[39;00m Py4JJavaError(\n\u001b[1;32m    327\u001b[0m         \u001b[38;5;124m\"\u001b[39m\u001b[38;5;124mAn error occurred while calling \u001b[39m\u001b[38;5;132;01m{0}\u001b[39;00m\u001b[38;5;132;01m{1}\u001b[39;00m\u001b[38;5;132;01m{2}\u001b[39;00m\u001b[38;5;124m.\u001b[39m\u001b[38;5;130;01m\\n\u001b[39;00m\u001b[38;5;124m\"\u001b[39m\u001b[38;5;241m.\u001b[39m\n\u001b[1;32m    328\u001b[0m         \u001b[38;5;28mformat\u001b[39m(target_id, \u001b[38;5;124m\"\u001b[39m\u001b[38;5;124m.\u001b[39m\u001b[38;5;124m\"\u001b[39m, name), value)\n\u001b[1;32m    329\u001b[0m \u001b[38;5;28;01melse\u001b[39;00m:\n\u001b[1;32m    330\u001b[0m     \u001b[38;5;28;01mraise\u001b[39;00m Py4JError(\n\u001b[1;32m    331\u001b[0m         \u001b[38;5;124m\"\u001b[39m\u001b[38;5;124mAn error occurred while calling \u001b[39m\u001b[38;5;132;01m{0}\u001b[39;00m\u001b[38;5;132;01m{1}\u001b[39;00m\u001b[38;5;132;01m{2}\u001b[39;00m\u001b[38;5;124m. Trace:\u001b[39m\u001b[38;5;130;01m\\n\u001b[39;00m\u001b[38;5;132;01m{3}\u001b[39;00m\u001b[38;5;130;01m\\n\u001b[39;00m\u001b[38;5;124m\"\u001b[39m\u001b[38;5;241m.\u001b[39m\n\u001b[1;32m    332\u001b[0m         \u001b[38;5;28mformat\u001b[39m(target_id, \u001b[38;5;124m\"\u001b[39m\u001b[38;5;124m.\u001b[39m\u001b[38;5;124m\"\u001b[39m, name, value))\n",
      "\u001b[0;31mPy4JJavaError\u001b[0m: An error occurred while calling o99.parquet.\n: org.apache.spark.SparkException: Job aborted due to stage failure: Task 6 in stage 28.0 failed 1 times, most recent failure: Lost task 6.0 in stage 28.0 (TID 28294) (d2f0c56165a8 executor driver): java.lang.OutOfMemoryError: Java heap space\n\tat org.apache.spark.sql.catalyst.expressions.UnsafeRow.copy(UnsafeRow.java:493)\n\tat org.apache.spark.sql.execution.aggregate.HashAggregateExec$$anon$1.next(HashAggregateExec.scala:243)\n\tat org.apache.spark.sql.catalyst.expressions.GeneratedClass$GeneratedIteratorForCodegenStage4.processNext(Unknown Source)\n\tat org.apache.spark.sql.execution.BufferedRowIterator.hasNext(BufferedRowIterator.java:43)\n\tat org.apache.spark.sql.execution.WholeStageCodegenExec$$anon$1.hasNext(WholeStageCodegenExec.scala:760)\n\tat scala.collection.Iterator$$anon$10.hasNext(Iterator.scala:460)\n\tat org.apache.spark.shuffle.sort.BypassMergeSortShuffleWriter.write(BypassMergeSortShuffleWriter.java:168)\n\tat org.apache.spark.shuffle.ShuffleWriteProcessor.write(ShuffleWriteProcessor.scala:59)\n\tat org.apache.spark.scheduler.ShuffleMapTask.runTask(ShuffleMapTask.scala:101)\n\tat org.apache.spark.scheduler.ShuffleMapTask.runTask(ShuffleMapTask.scala:53)\n\tat org.apache.spark.TaskContext.runTaskWithListeners(TaskContext.scala:161)\n\tat org.apache.spark.scheduler.Task.run(Task.scala:139)\n\tat org.apache.spark.executor.Executor$TaskRunner.$anonfun$run$3(Executor.scala:554)\n\tat org.apache.spark.executor.Executor$TaskRunner$$Lambda$1585/0x00000008019238c8.apply(Unknown Source)\n\tat org.apache.spark.util.Utils$.tryWithSafeFinally(Utils.scala:1529)\n\tat org.apache.spark.executor.Executor$TaskRunner.run(Executor.scala:557)\n\tat java.base/java.util.concurrent.ThreadPoolExecutor.runWorker(ThreadPoolExecutor.java:1136)\n\tat java.base/java.util.concurrent.ThreadPoolExecutor$Worker.run(ThreadPoolExecutor.java:635)\n\tat java.base/java.lang.Thread.run(Thread.java:833)\n\nDriver stacktrace:\n\tat org.apache.spark.scheduler.DAGScheduler.failJobAndIndependentStages(DAGScheduler.scala:2785)\n\tat org.apache.spark.scheduler.DAGScheduler.$anonfun$abortStage$2(DAGScheduler.scala:2721)\n\tat org.apache.spark.scheduler.DAGScheduler.$anonfun$abortStage$2$adapted(DAGScheduler.scala:2720)\n\tat scala.collection.mutable.ResizableArray.foreach(ResizableArray.scala:62)\n\tat scala.collection.mutable.ResizableArray.foreach$(ResizableArray.scala:55)\n\tat scala.collection.mutable.ArrayBuffer.foreach(ArrayBuffer.scala:49)\n\tat org.apache.spark.scheduler.DAGScheduler.abortStage(DAGScheduler.scala:2720)\n\tat org.apache.spark.scheduler.DAGScheduler.$anonfun$handleTaskSetFailed$1(DAGScheduler.scala:1206)\n\tat org.apache.spark.scheduler.DAGScheduler.$anonfun$handleTaskSetFailed$1$adapted(DAGScheduler.scala:1206)\n\tat scala.Option.foreach(Option.scala:407)\n\tat org.apache.spark.scheduler.DAGScheduler.handleTaskSetFailed(DAGScheduler.scala:1206)\n\tat org.apache.spark.scheduler.DAGSchedulerEventProcessLoop.doOnReceive(DAGScheduler.scala:2984)\n\tat org.apache.spark.scheduler.DAGSchedulerEventProcessLoop.onReceive(DAGScheduler.scala:2923)\n\tat org.apache.spark.scheduler.DAGSchedulerEventProcessLoop.onReceive(DAGScheduler.scala:2912)\n\tat org.apache.spark.util.EventLoop$$anon$1.run(EventLoop.scala:49)\nCaused by: java.lang.OutOfMemoryError: Java heap space\n\tat org.apache.spark.sql.catalyst.expressions.UnsafeRow.copy(UnsafeRow.java:493)\n\tat org.apache.spark.sql.execution.aggregate.HashAggregateExec$$anon$1.next(HashAggregateExec.scala:243)\n\tat org.apache.spark.sql.catalyst.expressions.GeneratedClass$GeneratedIteratorForCodegenStage4.processNext(Unknown Source)\n\tat org.apache.spark.sql.execution.BufferedRowIterator.hasNext(BufferedRowIterator.java:43)\n\tat org.apache.spark.sql.execution.WholeStageCodegenExec$$anon$1.hasNext(WholeStageCodegenExec.scala:760)\n\tat scala.collection.Iterator$$anon$10.hasNext(Iterator.scala:460)\n\tat org.apache.spark.shuffle.sort.BypassMergeSortShuffleWriter.write(BypassMergeSortShuffleWriter.java:168)\n\tat org.apache.spark.shuffle.ShuffleWriteProcessor.write(ShuffleWriteProcessor.scala:59)\n\tat org.apache.spark.scheduler.ShuffleMapTask.runTask(ShuffleMapTask.scala:101)\n\tat org.apache.spark.scheduler.ShuffleMapTask.runTask(ShuffleMapTask.scala:53)\n\tat org.apache.spark.TaskContext.runTaskWithListeners(TaskContext.scala:161)\n\tat org.apache.spark.scheduler.Task.run(Task.scala:139)\n\tat org.apache.spark.executor.Executor$TaskRunner.$anonfun$run$3(Executor.scala:554)\n\tat org.apache.spark.executor.Executor$TaskRunner$$Lambda$1585/0x00000008019238c8.apply(Unknown Source)\n\tat org.apache.spark.util.Utils$.tryWithSafeFinally(Utils.scala:1529)\n\tat org.apache.spark.executor.Executor$TaskRunner.run(Executor.scala:557)\n\tat java.base/java.util.concurrent.ThreadPoolExecutor.runWorker(ThreadPoolExecutor.java:1136)\n\tat java.base/java.util.concurrent.ThreadPoolExecutor$Worker.run(ThreadPoolExecutor.java:635)\n\tat java.base/java.lang.Thread.run(Thread.java:833)\n"
     ]
    }
   ],
   "source": [
    "path_parquet = 'reviews_master_parquet'\n",
    "partition_column = 'main_cat'\n",
    "df_reviews_master_table.write.partitionBy(partition_column).option(\"compression\", \"gzip\").parquet(path_parquet)"
   ]
  },
  {
   "cell_type": "markdown",
   "id": "015a9455-7790-49dd-a4e7-d77ddb8e2e09",
   "metadata": {},
   "source": [
    "## Read clean master table data with Pandas"
   ]
  },
  {
   "cell_type": "code",
   "execution_count": null,
   "id": "f5cc88da-7d85-41af-9884-16c740fb97c0",
   "metadata": {},
   "outputs": [],
   "source": [
    "# Use pyarrow engine to get data from master table \n",
    "df_test = pd.read_parquet('parquet', engine=\"pyarrow\")"
   ]
  },
  {
   "cell_type": "code",
   "execution_count": null,
   "id": "b7a9bfe7-6917-42be-a782-15089204a5a5",
   "metadata": {
    "scrolled": true
   },
   "outputs": [],
   "source": [
    "df_test.shape"
   ]
  },
  {
   "cell_type": "code",
   "execution_count": 121,
   "id": "fca3a92f-acb4-4fb7-a2aa-da5faa9b495a",
   "metadata": {},
   "outputs": [],
   "source": [
    "df_test['vote'] = df_test['vote'].str.replace(',', '')"
   ]
  },
  {
   "cell_type": "code",
   "execution_count": 139,
   "id": "e7492e89-d3ca-4376-85b8-939957caac34",
   "metadata": {},
   "outputs": [
    {
     "data": {
      "text/html": [
       "<div>\n",
       "<style scoped>\n",
       "    .dataframe tbody tr th:only-of-type {\n",
       "        vertical-align: middle;\n",
       "    }\n",
       "\n",
       "    .dataframe tbody tr th {\n",
       "        vertical-align: top;\n",
       "    }\n",
       "\n",
       "    .dataframe thead th {\n",
       "        text-align: right;\n",
       "    }\n",
       "</style>\n",
       "<table border=\"1\" class=\"dataframe\">\n",
       "  <thead>\n",
       "    <tr style=\"text-align: right;\">\n",
       "      <th></th>\n",
       "      <th>asin</th>\n",
       "      <th>overall</th>\n",
       "      <th>reviewText</th>\n",
       "      <th>reviewerID</th>\n",
       "      <th>summary</th>\n",
       "      <th>verified</th>\n",
       "      <th>vote</th>\n",
       "      <th>reviewTime</th>\n",
       "      <th>brand</th>\n",
       "      <th>price</th>\n",
       "      <th>rank</th>\n",
       "      <th>description</th>\n",
       "      <th>category</th>\n",
       "      <th>title</th>\n",
       "      <th>main_cat</th>\n",
       "    </tr>\n",
       "  </thead>\n",
       "  <tbody>\n",
       "    <tr>\n",
       "      <th>27588</th>\n",
       "      <td>B00BZFGNPU</td>\n",
       "      <td>5.0</td>\n",
       "      <td>Received my case and it fits perfectly. The ki...</td>\n",
       "      <td>A31N5BEI8WO2U1</td>\n",
       "      <td>Perfect fit!</td>\n",
       "      <td>true</td>\n",
       "      <td>None</td>\n",
       "      <td>2013-09-04 00:00:00</td>\n",
       "      <td>EMPIRE</td>\n",
       "      <td></td>\n",
       "      <td>[\"&gt;#680,526 in Cell Phones &amp; Accessories (See ...</td>\n",
       "      <td>[]</td>\n",
       "      <td>[Cell Phones &amp; Accessories, Cases, Holsters &amp; ...</td>\n",
       "      <td>MPERO IMPACT X Series Kickstand Case for Motor...</td>\n",
       "      <td>All Electronics</td>\n",
       "    </tr>\n",
       "    <tr>\n",
       "      <th>27590</th>\n",
       "      <td>B00BZFGNPU</td>\n",
       "      <td>5.0</td>\n",
       "      <td>I ordered this case for my Mom since her last ...</td>\n",
       "      <td>ADNPA1CQTBJIL</td>\n",
       "      <td>Awesome Case!</td>\n",
       "      <td>true</td>\n",
       "      <td>None</td>\n",
       "      <td>2014-06-16 00:00:00</td>\n",
       "      <td>EMPIRE</td>\n",
       "      <td></td>\n",
       "      <td>[\"&gt;#680,526 in Cell Phones &amp; Accessories (See ...</td>\n",
       "      <td>[]</td>\n",
       "      <td>[Cell Phones &amp; Accessories, Cases, Holsters &amp; ...</td>\n",
       "      <td>MPERO IMPACT X Series Kickstand Case for Motor...</td>\n",
       "      <td>All Electronics</td>\n",
       "    </tr>\n",
       "    <tr>\n",
       "      <th>27592</th>\n",
       "      <td>B00BZFGNPU</td>\n",
       "      <td>5.0</td>\n",
       "      <td>Great case!</td>\n",
       "      <td>A2UHBES37HEWD8</td>\n",
       "      <td>Five Stars</td>\n",
       "      <td>true</td>\n",
       "      <td>None</td>\n",
       "      <td>2014-10-13 00:00:00</td>\n",
       "      <td>EMPIRE</td>\n",
       "      <td></td>\n",
       "      <td>[\"&gt;#680,526 in Cell Phones &amp; Accessories (See ...</td>\n",
       "      <td>[]</td>\n",
       "      <td>[Cell Phones &amp; Accessories, Cases, Holsters &amp; ...</td>\n",
       "      <td>MPERO IMPACT X Series Kickstand Case for Motor...</td>\n",
       "      <td>All Electronics</td>\n",
       "    </tr>\n",
       "    <tr>\n",
       "      <th>27596</th>\n",
       "      <td>B00BZFGNPU</td>\n",
       "      <td>5.0</td>\n",
       "      <td>perfect</td>\n",
       "      <td>A3VU0JMBMMLNLS</td>\n",
       "      <td>Five Stars</td>\n",
       "      <td>true</td>\n",
       "      <td>None</td>\n",
       "      <td>2014-11-22 00:00:00</td>\n",
       "      <td>EMPIRE</td>\n",
       "      <td></td>\n",
       "      <td>[\"&gt;#680,526 in Cell Phones &amp; Accessories (See ...</td>\n",
       "      <td>[]</td>\n",
       "      <td>[Cell Phones &amp; Accessories, Cases, Holsters &amp; ...</td>\n",
       "      <td>MPERO IMPACT X Series Kickstand Case for Motor...</td>\n",
       "      <td>All Electronics</td>\n",
       "    </tr>\n",
       "    <tr>\n",
       "      <th>27598</th>\n",
       "      <td>B00BZFGNPU</td>\n",
       "      <td>5.0</td>\n",
       "      <td>Great product for the money. I love having a k...</td>\n",
       "      <td>A1IUM56J26HM5J</td>\n",
       "      <td>Awesome</td>\n",
       "      <td>true</td>\n",
       "      <td>None</td>\n",
       "      <td>2013-07-11 00:00:00</td>\n",
       "      <td>EMPIRE</td>\n",
       "      <td></td>\n",
       "      <td>[\"&gt;#680,526 in Cell Phones &amp; Accessories (See ...</td>\n",
       "      <td>[]</td>\n",
       "      <td>[Cell Phones &amp; Accessories, Cases, Holsters &amp; ...</td>\n",
       "      <td>MPERO IMPACT X Series Kickstand Case for Motor...</td>\n",
       "      <td>All Electronics</td>\n",
       "    </tr>\n",
       "  </tbody>\n",
       "</table>\n",
       "</div>"
      ],
      "text/plain": [
       "             asin overall                                         reviewText  \\\n",
       "27588  B00BZFGNPU     5.0  Received my case and it fits perfectly. The ki...   \n",
       "27590  B00BZFGNPU     5.0  I ordered this case for my Mom since her last ...   \n",
       "27592  B00BZFGNPU     5.0                                        Great case!   \n",
       "27596  B00BZFGNPU     5.0                                            perfect   \n",
       "27598  B00BZFGNPU     5.0  Great product for the money. I love having a k...   \n",
       "\n",
       "           reviewerID        summary verified  vote           reviewTime  \\\n",
       "27588  A31N5BEI8WO2U1   Perfect fit!     true  None  2013-09-04 00:00:00   \n",
       "27590   ADNPA1CQTBJIL  Awesome Case!     true  None  2014-06-16 00:00:00   \n",
       "27592  A2UHBES37HEWD8     Five Stars     true  None  2014-10-13 00:00:00   \n",
       "27596  A3VU0JMBMMLNLS     Five Stars     true  None  2014-11-22 00:00:00   \n",
       "27598  A1IUM56J26HM5J        Awesome     true  None  2013-07-11 00:00:00   \n",
       "\n",
       "        brand price                                               rank  \\\n",
       "27588  EMPIRE        [\">#680,526 in Cell Phones & Accessories (See ...   \n",
       "27590  EMPIRE        [\">#680,526 in Cell Phones & Accessories (See ...   \n",
       "27592  EMPIRE        [\">#680,526 in Cell Phones & Accessories (See ...   \n",
       "27596  EMPIRE        [\">#680,526 in Cell Phones & Accessories (See ...   \n",
       "27598  EMPIRE        [\">#680,526 in Cell Phones & Accessories (See ...   \n",
       "\n",
       "      description                                           category  \\\n",
       "27588          []  [Cell Phones & Accessories, Cases, Holsters & ...   \n",
       "27590          []  [Cell Phones & Accessories, Cases, Holsters & ...   \n",
       "27592          []  [Cell Phones & Accessories, Cases, Holsters & ...   \n",
       "27596          []  [Cell Phones & Accessories, Cases, Holsters & ...   \n",
       "27598          []  [Cell Phones & Accessories, Cases, Holsters & ...   \n",
       "\n",
       "                                                   title         main_cat  \n",
       "27588  MPERO IMPACT X Series Kickstand Case for Motor...  All Electronics  \n",
       "27590  MPERO IMPACT X Series Kickstand Case for Motor...  All Electronics  \n",
       "27592  MPERO IMPACT X Series Kickstand Case for Motor...  All Electronics  \n",
       "27596  MPERO IMPACT X Series Kickstand Case for Motor...  All Electronics  \n",
       "27598  MPERO IMPACT X Series Kickstand Case for Motor...  All Electronics  "
      ]
     },
     "execution_count": 139,
     "metadata": {},
     "output_type": "execute_result"
    }
   ],
   "source": [
    "df_test[(df_test['main_cat']=='All Electronics')&(df_test['verified']=='true')].head()"
   ]
  },
  {
   "cell_type": "code",
   "execution_count": 140,
   "id": "c89b3882-c29e-4701-988c-7471027a6cae",
   "metadata": {},
   "outputs": [
    {
     "name": "stdout",
     "output_type": "stream",
     "text": [
      "(36786, 15)\n"
     ]
    }
   ],
   "source": [
    "print(df_test[(df_test['main_cat']=='All Electronics')&(df_test['verified']=='true')].shape)"
   ]
  },
  {
   "cell_type": "code",
   "execution_count": 147,
   "id": "dd50783f-a29f-4bea-9952-da9905cf8faf",
   "metadata": {},
   "outputs": [],
   "source": [
    "conteo_reviews = df_test.groupby('vote').count()['asin']"
   ]
  },
  {
   "cell_type": "code",
   "execution_count": 174,
   "id": "6452c2f4-9fd9-4f08-845c-ba083ac554e7",
   "metadata": {},
   "outputs": [],
   "source": [
    "df_votes_count = conteo_reviews.reset_index(name='count').sort_values(by='count', ascending=False).head(25).reset_index()"
   ]
  },
  {
   "cell_type": "code",
   "execution_count": 177,
   "id": "a47e4a44-031a-464c-b185-3f11cb9dbde9",
   "metadata": {},
   "outputs": [
    {
     "data": {
      "image/png": "[encoded data removed]",
      "text/plain": [
       "<Figure size 640x480 with 1 Axes>"
      ]
     },
     "metadata": {},
     "output_type": "display_data"
    }
   ],
   "source": [
    "# Check how is the distribution of relevant reviews (based on the total votes per review)\n",
    "import matplotlib.pyplot as plt\n",
    "df_votes_count.plot.scatter(x='vote', y='count')\n",
    "plt.show()"
   ]
  },
  {
   "cell_type": "code",
   "execution_count": 176,
   "id": "b5ad0715-4a3f-43f5-a3af-25f4eeda3ba3",
   "metadata": {},
   "outputs": [
    {
     "data": {
      "text/html": [
       "<div>\n",
       "<style scoped>\n",
       "    .dataframe tbody tr th:only-of-type {\n",
       "        vertical-align: middle;\n",
       "    }\n",
       "\n",
       "    .dataframe tbody tr th {\n",
       "        vertical-align: top;\n",
       "    }\n",
       "\n",
       "    .dataframe thead th {\n",
       "        text-align: right;\n",
       "    }\n",
       "</style>\n",
       "<table border=\"1\" class=\"dataframe\">\n",
       "  <thead>\n",
       "    <tr style=\"text-align: right;\">\n",
       "      <th></th>\n",
       "      <th>main_cat</th>\n",
       "      <th>count</th>\n",
       "    </tr>\n",
       "  </thead>\n",
       "  <tbody>\n",
       "    <tr>\n",
       "      <th>11</th>\n",
       "      <td>Books</td>\n",
       "      <td>1511927</td>\n",
       "    </tr>\n",
       "    <tr>\n",
       "      <th>4</th>\n",
       "      <td>Amazon Home</td>\n",
       "      <td>485546</td>\n",
       "    </tr>\n",
       "    <tr>\n",
       "      <th>37</th>\n",
       "      <td>Sports &amp; Outdoors</td>\n",
       "      <td>404794</td>\n",
       "    </tr>\n",
       "    <tr>\n",
       "      <th>30</th>\n",
       "      <td>Movies &amp; TV</td>\n",
       "      <td>252303</td>\n",
       "    </tr>\n",
       "    <tr>\n",
       "      <th>16</th>\n",
       "      <td>Cell Phones &amp; Accessories</td>\n",
       "      <td>245203</td>\n",
       "    </tr>\n",
       "    <tr>\n",
       "      <th>34</th>\n",
       "      <td>Pet Supplies</td>\n",
       "      <td>216963</td>\n",
       "    </tr>\n",
       "    <tr>\n",
       "      <th>6</th>\n",
       "      <td>Arts, Crafts &amp; Sewing</td>\n",
       "      <td>91769</td>\n",
       "    </tr>\n",
       "    <tr>\n",
       "      <th>18</th>\n",
       "      <td>Computers</td>\n",
       "      <td>76135</td>\n",
       "    </tr>\n",
       "    <tr>\n",
       "      <th>40</th>\n",
       "      <td>Tools &amp; Home Improvement</td>\n",
       "      <td>63153</td>\n",
       "    </tr>\n",
       "    <tr>\n",
       "      <th>22</th>\n",
       "      <td>Grocery</td>\n",
       "      <td>47445</td>\n",
       "    </tr>\n",
       "    <tr>\n",
       "      <th>9</th>\n",
       "      <td>Automotive</td>\n",
       "      <td>43435</td>\n",
       "    </tr>\n",
       "    <tr>\n",
       "      <th>2</th>\n",
       "      <td>All Electronics</td>\n",
       "      <td>41111</td>\n",
       "    </tr>\n",
       "    <tr>\n",
       "      <th>33</th>\n",
       "      <td>Office Products</td>\n",
       "      <td>35324</td>\n",
       "    </tr>\n",
       "    <tr>\n",
       "      <th>42</th>\n",
       "      <td>Toys &amp; Games</td>\n",
       "      <td>29875</td>\n",
       "    </tr>\n",
       "    <tr>\n",
       "      <th>36</th>\n",
       "      <td>Software</td>\n",
       "      <td>27978</td>\n",
       "    </tr>\n",
       "    <tr>\n",
       "      <th>44</th>\n",
       "      <td>Video Games</td>\n",
       "      <td>27361</td>\n",
       "    </tr>\n",
       "    <tr>\n",
       "      <th>23</th>\n",
       "      <td>Health &amp; Personal Care</td>\n",
       "      <td>24183</td>\n",
       "    </tr>\n",
       "    <tr>\n",
       "      <th>13</th>\n",
       "      <td>Camera &amp; Photo</td>\n",
       "      <td>23057</td>\n",
       "    </tr>\n",
       "    <tr>\n",
       "      <th>0</th>\n",
       "      <td>Alexa Skills</td>\n",
       "      <td>23021</td>\n",
       "    </tr>\n",
       "    <tr>\n",
       "      <th>25</th>\n",
       "      <td>Home Audio &amp; Theater</td>\n",
       "      <td>21199</td>\n",
       "    </tr>\n",
       "    <tr>\n",
       "      <th>27</th>\n",
       "      <td>Industrial &amp; Scientific</td>\n",
       "      <td>13704</td>\n",
       "    </tr>\n",
       "    <tr>\n",
       "      <th>32</th>\n",
       "      <td>Musical Instruments</td>\n",
       "      <td>8027</td>\n",
       "    </tr>\n",
       "    <tr>\n",
       "      <th>10</th>\n",
       "      <td>Baby</td>\n",
       "      <td>7878</td>\n",
       "    </tr>\n",
       "    <tr>\n",
       "      <th>12</th>\n",
       "      <td>Buy a Kindle</td>\n",
       "      <td>5173</td>\n",
       "    </tr>\n",
       "    <tr>\n",
       "      <th>29</th>\n",
       "      <td>Luxury Beauty</td>\n",
       "      <td>5026</td>\n",
       "    </tr>\n",
       "    <tr>\n",
       "      <th>1</th>\n",
       "      <td>All Beauty</td>\n",
       "      <td>4566</td>\n",
       "    </tr>\n",
       "    <tr>\n",
       "      <th>15</th>\n",
       "      <td>Car Electronics</td>\n",
       "      <td>2876</td>\n",
       "    </tr>\n",
       "    <tr>\n",
       "      <th>35</th>\n",
       "      <td>Portable Audio &amp; Accessories</td>\n",
       "      <td>1352</td>\n",
       "    </tr>\n",
       "    <tr>\n",
       "      <th>3</th>\n",
       "      <td>Amazon Devices</td>\n",
       "      <td>863</td>\n",
       "    </tr>\n",
       "    <tr>\n",
       "      <th>5</th>\n",
       "      <td>Appliances</td>\n",
       "      <td>664</td>\n",
       "    </tr>\n",
       "    <tr>\n",
       "      <th>21</th>\n",
       "      <td>GPS &amp; Navigation</td>\n",
       "      <td>294</td>\n",
       "    </tr>\n",
       "    <tr>\n",
       "      <th>43</th>\n",
       "      <td>Toys &amp;amp; Games</td>\n",
       "      <td>112</td>\n",
       "    </tr>\n",
       "    <tr>\n",
       "      <th>26</th>\n",
       "      <td>Home Audio &amp;amp; Theater</td>\n",
       "      <td>87</td>\n",
       "    </tr>\n",
       "    <tr>\n",
       "      <th>8</th>\n",
       "      <td>Audible Audiobooks</td>\n",
       "      <td>76</td>\n",
       "    </tr>\n",
       "    <tr>\n",
       "      <th>28</th>\n",
       "      <td>Industrial &amp;amp; Scientific</td>\n",
       "      <td>50</td>\n",
       "    </tr>\n",
       "    <tr>\n",
       "      <th>41</th>\n",
       "      <td>Tools &amp;amp; Home Improvement</td>\n",
       "      <td>37</td>\n",
       "    </tr>\n",
       "    <tr>\n",
       "      <th>24</th>\n",
       "      <td>Health &amp;amp; Personal Care</td>\n",
       "      <td>37</td>\n",
       "    </tr>\n",
       "    <tr>\n",
       "      <th>7</th>\n",
       "      <td>Arts, Crafts &amp;amp; Sewing</td>\n",
       "      <td>29</td>\n",
       "    </tr>\n",
       "    <tr>\n",
       "      <th>19</th>\n",
       "      <td>Entertainment</td>\n",
       "      <td>28</td>\n",
       "    </tr>\n",
       "    <tr>\n",
       "      <th>20</th>\n",
       "      <td>Fire Phone</td>\n",
       "      <td>24</td>\n",
       "    </tr>\n",
       "    <tr>\n",
       "      <th>38</th>\n",
       "      <td>Sports &amp;amp; Outdoors</td>\n",
       "      <td>24</td>\n",
       "    </tr>\n",
       "    <tr>\n",
       "      <th>39</th>\n",
       "      <td>Sports Collectibles</td>\n",
       "      <td>19</td>\n",
       "    </tr>\n",
       "    <tr>\n",
       "      <th>17</th>\n",
       "      <td>Cell Phones &amp;amp; Accessories</td>\n",
       "      <td>14</td>\n",
       "    </tr>\n",
       "    <tr>\n",
       "      <th>14</th>\n",
       "      <td>Camera &amp;amp; Photo</td>\n",
       "      <td>2</td>\n",
       "    </tr>\n",
       "    <tr>\n",
       "      <th>31</th>\n",
       "      <td>Movies &amp;amp; TV</td>\n",
       "      <td>2</td>\n",
       "    </tr>\n",
       "  </tbody>\n",
       "</table>\n",
       "</div>"
      ],
      "text/plain": [
       "                         main_cat    count\n",
       "11                          Books  1511927\n",
       "4                     Amazon Home   485546\n",
       "37              Sports & Outdoors   404794\n",
       "30                    Movies & TV   252303\n",
       "16      Cell Phones & Accessories   245203\n",
       "34                   Pet Supplies   216963\n",
       "6           Arts, Crafts & Sewing    91769\n",
       "18                      Computers    76135\n",
       "40       Tools & Home Improvement    63153\n",
       "22                        Grocery    47445\n",
       "9                      Automotive    43435\n",
       "2                 All Electronics    41111\n",
       "33                Office Products    35324\n",
       "42                   Toys & Games    29875\n",
       "36                       Software    27978\n",
       "44                    Video Games    27361\n",
       "23         Health & Personal Care    24183\n",
       "13                 Camera & Photo    23057\n",
       "0                    Alexa Skills    23021\n",
       "25           Home Audio & Theater    21199\n",
       "27        Industrial & Scientific    13704\n",
       "32            Musical Instruments     8027\n",
       "10                           Baby     7878\n",
       "12                   Buy a Kindle     5173\n",
       "29                  Luxury Beauty     5026\n",
       "1                      All Beauty     4566\n",
       "15                Car Electronics     2876\n",
       "35   Portable Audio & Accessories     1352\n",
       "3                  Amazon Devices      863\n",
       "5                      Appliances      664\n",
       "21               GPS & Navigation      294\n",
       "43               Toys &amp; Games      112\n",
       "26       Home Audio &amp; Theater       87\n",
       "8              Audible Audiobooks       76\n",
       "28    Industrial &amp; Scientific       50\n",
       "41   Tools &amp; Home Improvement       37\n",
       "24     Health &amp; Personal Care       37\n",
       "7       Arts, Crafts &amp; Sewing       29\n",
       "19                  Entertainment       28\n",
       "20                     Fire Phone       24\n",
       "38          Sports &amp; Outdoors       24\n",
       "39            Sports Collectibles       19\n",
       "17  Cell Phones &amp; Accessories       14\n",
       "14             Camera &amp; Photo        2\n",
       "31                Movies &amp; TV        2"
      ]
     },
     "execution_count": 176,
     "metadata": {},
     "output_type": "execute_result"
    }
   ],
   "source": [
    "df_test.groupby('main_cat').count()['asin'].reset_index(name='count').sort_values(by='count', ascending=False)"
   ]
  }
 ],
 "metadata": {
  "kernelspec": {
   "display_name": "Python 3 (ipykernel)",
   "language": "python",
   "name": "python3"
  },
  "language_info": {
   "codemirror_mode": {
    "name": "ipython",
    "version": 3
   },
   "file_extension": ".py",
   "mimetype": "text/x-python",
   "name": "python",
   "nbconvert_exporter": "python",
   "pygments_lexer": "ipython3",
   "version": "3.11.4"
  }
 },
 "nbformat": 4,
 "nbformat_minor": 5
}

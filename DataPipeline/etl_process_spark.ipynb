{
 "cells": [
  {
   "cell_type": "markdown",
   "id": "d66d2d82-6ec0-4e65-b2f5-f6dc28483173",
   "metadata": {},
   "source": [
    "# Generating useful Insights on Amazon Reviews"
   ]
  },
  {
   "cell_type": "markdown",
   "id": "b85daecf-fed0-4ec8-9a00-6fa312046323",
   "metadata": {},
   "source": [
    "**Analytical Context:** This notebook shows the preprocessing stage prior to model building and EDA using a large dataset stored in batch and streaming about customer reviews on Amazon. We will find some useful features to address an outlook about what kind of brands and products are prone to get good or bad reviews, so to give an insight we are going to develop certain methods to determine in which cases some product fulfills expectations or not.\n",
    "\n",
    "**Business Problem:** Our main task with this exercise will be to answer the following questions. What has the most impact on customer satisfaction? Can we infer customer segment based on their review patterns?"
   ]
  },
  {
   "cell_type": "markdown",
   "id": "f3dc0a9a-a6c2-4aef-b43a-f5d8b130493a",
   "metadata": {},
   "source": [
    "## Import Libraries and Create Spark Session"
   ]
  },
  {
   "cell_type": "code",
   "execution_count": 1,
   "id": "c1bddf91-dae1-4e84-b87d-c64f8da0e7b9",
   "metadata": {},
   "outputs": [
    {
     "name": "stdout",
     "output_type": "stream",
     "text": [
      "Collecting glob2 (from -r requirements.txt (line 1))\n",
      "  Downloading glob2-0.7.tar.gz (10 kB)\n",
      "  Preparing metadata (setup.py) ... \u001b[?25ldone\n",
      "\u001b[?25hCollecting azure-eventhub (from -r requirements.txt (line 2))\n",
      "  Obtaining dependency information for azure-eventhub from https://files.pythonhosted.org/packages/66/b2/89671d93ba3c5af4a776350378765582490c3748eef3aa3a4582c3e87488/azure_eventhub-5.11.3-py3-none-any.whl.metadata\n",
      "  Downloading azure_eventhub-5.11.3-py3-none-any.whl.metadata (65 kB)\n",
      "\u001b[2K     \u001b[90m━━━━━━━━━━━━━━━━━━━━━━━━━━━━━━━━━━━━━━━━\u001b[0m \u001b[32m65.3/65.3 kB\u001b[0m \u001b[31m5.3 MB/s\u001b[0m eta \u001b[36m0:00:00\u001b[0m\n",
      "\u001b[?25hCollecting findspark (from -r requirements.txt (line 3))\n",
      "  Downloading findspark-2.0.1-py2.py3-none-any.whl (4.4 kB)\n",
      "Collecting azure-core<2.0.0,>=1.14.0 (from azure-eventhub->-r requirements.txt (line 2))\n",
      "  Obtaining dependency information for azure-core<2.0.0,>=1.14.0 from https://files.pythonhosted.org/packages/c3/0a/32b17d776a6bf5ddaa9dbad0e88de9d28a55bec1d37b8d408cc7d2e5e28d/azure_core-1.28.0-py3-none-any.whl.metadata\n",
      "  Downloading azure_core-1.28.0-py3-none-any.whl.metadata (34 kB)\n",
      "Requirement already satisfied: typing-extensions>=4.0.1 in /opt/conda/lib/python3.11/site-packages (from azure-eventhub->-r requirements.txt (line 2)) (4.7.1)\n",
      "Requirement already satisfied: requests>=2.18.4 in /opt/conda/lib/python3.11/site-packages (from azure-core<2.0.0,>=1.14.0->azure-eventhub->-r requirements.txt (line 2)) (2.31.0)\n",
      "Requirement already satisfied: six>=1.11.0 in /opt/conda/lib/python3.11/site-packages (from azure-core<2.0.0,>=1.14.0->azure-eventhub->-r requirements.txt (line 2)) (1.16.0)\n",
      "Requirement already satisfied: charset-normalizer<4,>=2 in /opt/conda/lib/python3.11/site-packages (from requests>=2.18.4->azure-core<2.0.0,>=1.14.0->azure-eventhub->-r requirements.txt (line 2)) (3.2.0)\n",
      "Requirement already satisfied: idna<4,>=2.5 in /opt/conda/lib/python3.11/site-packages (from requests>=2.18.4->azure-core<2.0.0,>=1.14.0->azure-eventhub->-r requirements.txt (line 2)) (3.4)\n",
      "Requirement already satisfied: urllib3<3,>=1.21.1 in /opt/conda/lib/python3.11/site-packages (from requests>=2.18.4->azure-core<2.0.0,>=1.14.0->azure-eventhub->-r requirements.txt (line 2)) (2.0.4)\n",
      "Requirement already satisfied: certifi>=2017.4.17 in /opt/conda/lib/python3.11/site-packages (from requests>=2.18.4->azure-core<2.0.0,>=1.14.0->azure-eventhub->-r requirements.txt (line 2)) (2023.7.22)\n",
      "Downloading azure_eventhub-5.11.3-py3-none-any.whl (308 kB)\n",
      "\u001b[2K   \u001b[90m━━━━━━━━━━━━━━━━━━━━━━━━━━━━━━━━━━━━━━━━\u001b[0m \u001b[32m308.9/308.9 kB\u001b[0m \u001b[31m5.9 MB/s\u001b[0m eta \u001b[36m0:00:00\u001b[0ma \u001b[36m0:00:01\u001b[0m\n",
      "\u001b[?25hDownloading azure_core-1.28.0-py3-none-any.whl (185 kB)\n",
      "\u001b[2K   \u001b[90m━━━━━━━━━━━━━━━━━━━━━━━━━━━━━━━━━━━━━━━━\u001b[0m \u001b[32m185.4/185.4 kB\u001b[0m \u001b[31m5.0 MB/s\u001b[0m eta \u001b[36m0:00:00\u001b[0m00:01\u001b[0m\n",
      "\u001b[?25hBuilding wheels for collected packages: glob2\n",
      "  Building wheel for glob2 (setup.py) ... \u001b[?25ldone\n",
      "\u001b[?25h  Created wheel for glob2: filename=glob2-0.7-py2.py3-none-any.whl size=9299 sha256=01d5b795de1018c44633fad5cf7784286a460c13c503d65c87390f8ec510f478\n",
      "  Stored in directory: /home/jovyan/.cache/pip/wheels/96/41/06/9f8fddc6eb1d75bde63db7f491311a4ae26905212617e06eb2\n",
      "Successfully built glob2\n",
      "Installing collected packages: glob2, findspark, azure-core, azure-eventhub\n",
      "Successfully installed azure-core-1.28.0 azure-eventhub-5.11.3 findspark-2.0.1 glob2-0.7\n"
     ]
    }
   ],
   "source": [
    "!pip install -r requirements.txt"
   ]
  },
  {
   "cell_type": "code",
   "execution_count": 2,
   "id": "5d802c53-4f16-455b-864a-3771687a1e9e",
   "metadata": {},
   "outputs": [],
   "source": [
    "import findspark\n",
    "import pyspark\n",
    "\n",
    "from pyspark.sql import SparkSession\n",
    "from pyspark.sql.functions import *\n",
    "\n",
    "import pandas as pd"
   ]
  },
  {
   "cell_type": "code",
   "execution_count": 3,
   "id": "01260292-e34d-4327-8f16-fa13749d703e",
   "metadata": {},
   "outputs": [],
   "source": [
    "# Create Session\n",
    "findspark.init()\n",
    "\n",
    "spark = SparkSession.builder.appName(\"AmazonReviewsDatathon\").getOrCreate()"
   ]
  },
  {
   "cell_type": "code",
   "execution_count": 4,
   "id": "b2ef4deb-04c1-4c95-a347-7c20b5277009",
   "metadata": {},
   "outputs": [
    {
     "data": {
      "text/html": [
       "\n",
       "            <div>\n",
       "                <p><b>SparkSession - in-memory</b></p>\n",
       "                \n",
       "        <div>\n",
       "            <p><b>SparkContext</b></p>\n",
       "\n",
       "            <p><a href=\"http://c7acb41f92bd:4040\">Spark UI</a></p>\n",
       "\n",
       "            <dl>\n",
       "              <dt>Version</dt>\n",
       "                <dd><code>v3.4.1</code></dd>\n",
       "              <dt>Master</dt>\n",
       "                <dd><code>local[*]</code></dd>\n",
       "              <dt>AppName</dt>\n",
       "                <dd><code>AmazonReviewsDatathon</code></dd>\n",
       "            </dl>\n",
       "        </div>\n",
       "        \n",
       "            </div>\n",
       "        "
      ],
      "text/plain": [
       "<pyspark.sql.session.SparkSession at 0x7f50bfac58d0>"
      ]
     },
     "execution_count": 4,
     "metadata": {},
     "output_type": "execute_result"
    }
   ],
   "source": [
    "spark"
   ]
  },
  {
   "cell_type": "markdown",
   "id": "c0132eb5-5ac0-4474-9f22-d962522489a0",
   "metadata": {},
   "source": [
    "## Loading Amazon Reviews and Metadata (Batch)"
   ]
  },
  {
   "cell_type": "markdown",
   "id": "ab990e95-c02e-4dcb-b099-a1dc9478bff7",
   "metadata": {},
   "source": [
    "#### *General Note*: \n",
    "*We get the Batch Data stored in Azure Data Lake Storage (ADLS), download and store every json gzip file in a local path. Then, we use a docker image https://hub.docker.com/r/jupyter/pyspark-notebook* *to read all data using spark within a container. Datacticos Team decided to choose this additional step in order to reduce costs in this initial phase*"
   ]
  },
  {
   "cell_type": "code",
   "execution_count": 5,
   "id": "924ac6fd-2429-4a4b-be0d-41f50b7aae0e",
   "metadata": {},
   "outputs": [],
   "source": [
    "from glob2 import glob\n",
    "#Read all the json files from both sources of data\n",
    "jsonFiles_reviews = glob('amazon_reviews/source-files/amazon_reviews/**/**/*.json.gz')\n",
    "jsonFiles_meta = glob('amazon_reviews/source-files/amazon_metadata/**/*.json.gz')"
   ]
  },
  {
   "cell_type": "code",
   "execution_count": 6,
   "id": "219b51c4-bec1-47fe-a85c-a1696ff8d645",
   "metadata": {},
   "outputs": [
    {
     "name": "stdout",
     "output_type": "stream",
     "text": [
      "jsonFiles_reviews: \n",
      "['amazon_reviews/source-files/amazon_reviews/partition_1/part-00000-tid-9136122565017344171-3f98196e-e0c5-4bb5-90cc-d523170ef713-86080-1-c000.json.gz', 'amazon_reviews/source-files/amazon_reviews/partition_10/part-00000-tid-698064602200227711-29b88890-b701-4ddb-82cf-535e4b44c9cf-89301-1-c000.json.gz', 'amazon_reviews/source-files/amazon_reviews/partition_10/part-00001-tid-698064602200227711-29b88890-b701-4ddb-82cf-535e4b44c9cf-89302-1-c000.json.gz', 'amazon_reviews/source-files/amazon_reviews/partition_100/part-00000-tid-6076830777214137320-043be143-2d8f-4c2a-a619-bb4ab95fa4bb-121464-1-c000.json.gz', 'amazon_reviews/source-files/amazon_reviews/partition_100/part-00011-tid-6076830777214137320-043be143-2d8f-4c2a-a619-bb4ab95fa4bb-121475-1-c000.json.gz']\n",
      "---------------\n",
      "jsonFiles_meta: \n",
      "['amazon_reviews/source-files/amazon_metadata/json_files/part-00000-tid-1001410877349735942-21bdbaae-698f-415f-9a21-69d6c2866481-1675-1-c000.json.gz', 'amazon_reviews/source-files/amazon_metadata/json_files/part-00000-tid-1002626896584644251-74e4b005-c695-4dd8-91a9-144ad6cb0984-1297-1-c000.json.gz', 'amazon_reviews/source-files/amazon_metadata/json_files/part-00000-tid-1010368383141697086-7d789d7d-88e0-480d-8f3d-c5787eeaa7e6-1985-1-c000.json.gz', 'amazon_reviews/source-files/amazon_metadata/json_files/part-00000-tid-1020888417771452694-2db2ed96-b04d-48b8-8295-4607819e25e5-257-1-c000.json.gz', 'amazon_reviews/source-files/amazon_metadata/json_files/part-00000-tid-1029877596195051816-05a06542-f16c-433b-acab-5a2cbb650eab-1439-1-c000.json.gz']\n"
     ]
    }
   ],
   "source": [
    "#Check the lists of partitioned json files \n",
    "print(\"jsonFiles_reviews: \")\n",
    "print(jsonFiles_reviews[0:5])\n",
    "print(\"---------------\")\n",
    "print(\"jsonFiles_meta: \")\n",
    "print(jsonFiles_meta[0:5])"
   ]
  },
  {
   "cell_type": "code",
   "execution_count": 6,
   "id": "cb1f2c9c-3e81-42af-92c0-329e811417db",
   "metadata": {},
   "outputs": [],
   "source": [
    "#Load the data from Amazon reviews using spark\n",
    "df_reviews = spark.read.option(\"multiline\",\"false\").option(\"compression\", \"gzip\").json(jsonFiles_reviews)"
   ]
  },
  {
   "cell_type": "code",
   "execution_count": 7,
   "id": "c9756987-1a65-40a7-8102-eb136c1aee00",
   "metadata": {},
   "outputs": [],
   "source": [
    "#Load the metadata using spark\n",
    "df_meta = spark.read.option(\"multiline\",\"false\").option(\"compression\", \"gzip\").json(jsonFiles_meta)"
   ]
  },
  {
   "cell_type": "markdown",
   "id": "2c807141-4b4f-40fc-9337-e1a29071893e",
   "metadata": {},
   "source": [
    "## Examining the Data "
   ]
  },
  {
   "cell_type": "markdown",
   "id": "a5efa85f-e1ef-4b98-a2a5-420b3e87bff2",
   "metadata": {},
   "source": [
    "In the following steps, we are going to get closer to the data, this will help us to understand what we can use, see some properties and discard some aspects that we might consider not necessary to fulfill our main business target."
   ]
  },
  {
   "cell_type": "markdown",
   "id": "ea49b136-8c81-4569-8279-f40696641e06",
   "metadata": {},
   "source": [
    "### Amazon Reviews (Batch)"
   ]
  },
  {
   "cell_type": "markdown",
   "id": "eddee4d2-4ed5-425e-891a-dcca1acecf64",
   "metadata": {},
   "source": [
    "#### **Get Familiar with the Data**"
   ]
  },
  {
   "cell_type": "code",
   "execution_count": 9,
   "id": "3a22263f-de97-427a-bd0f-d4d01c12b1ae",
   "metadata": {},
   "outputs": [
    {
     "name": "stdout",
     "output_type": "stream",
     "text": [
      "root\n",
      " |-- asin: string (nullable = true)\n",
      " |-- image: string (nullable = true)\n",
      " |-- overall: string (nullable = true)\n",
      " |-- reviewText: string (nullable = true)\n",
      " |-- reviewerID: string (nullable = true)\n",
      " |-- reviewerName: string (nullable = true)\n",
      " |-- style: string (nullable = true)\n",
      " |-- summary: string (nullable = true)\n",
      " |-- unixReviewTime: string (nullable = true)\n",
      " |-- verified: string (nullable = true)\n",
      " |-- vote: string (nullable = true)\n",
      "\n"
     ]
    }
   ],
   "source": [
    "# Print df_reviews Schema to see what attributes we have and what data type they belong\n",
    "df_reviews.printSchema()"
   ]
  },
  {
   "cell_type": "code",
   "execution_count": 10,
   "id": "7c4f2db9-ecd9-4d01-9045-3dfeff085c1f",
   "metadata": {},
   "outputs": [
    {
     "name": "stdout",
     "output_type": "stream",
     "text": [
      "+----------+-----+-------+--------------------+--------------+---------------+--------------------+--------------------+--------------+--------+----+\n",
      "|      asin|image|overall|          reviewText|    reviewerID|   reviewerName|               style|             summary|unixReviewTime|verified|vote|\n",
      "+----------+-----+-------+--------------------+--------------+---------------+--------------------+--------------------+--------------+--------+----+\n",
      "|B00005QDPX| null|    5.0|Crazy Taxi is by ...|A36TDX8DY2XK5Q|       Some Kid|                null|It's Party Time! ...|    1054252800|   false|null|\n",
      "|B000MXIMKK| null|    4.0|I love these pant...| AZZ1YPRM2FAUH| David Colgrove|{\"Size:\":\" 33W x ...|Durable, good loo...|    1459900800|    true|   6|\n",
      "|B00005QDPX| null|    2.0|Anyone who hasn't...|A3PASG15BRR40D|       SleepyJD|                null|A fun game that g...|    1049414400|   false|null|\n",
      "|B000MXIMKK| null|    5.0|Great pants and n...|A388UHKJN07JJT|            TJK|{\"Size:\":\" 42W x ...|       Great Product|    1459900800|    true|null|\n",
      "|B00005QDPX| null|    4.0|In this game you ...|A29YLR71A42A3N|Amazon Customer|                null|Fun and Entertaining|    1040860800|   false|   3|\n",
      "+----------+-----+-------+--------------------+--------------+---------------+--------------------+--------------------+--------------+--------+----+\n",
      "only showing top 5 rows\n",
      "\n"
     ]
    }
   ],
   "source": [
    "# Check raw data\n",
    "df_reviews.show(5)"
   ]
  },
  {
   "cell_type": "code",
   "execution_count": 10,
   "id": "d8bb90be-0e2a-4aa5-bbde-5975be5a74c5",
   "metadata": {},
   "outputs": [
    {
     "data": {
      "text/plain": [
       "279665000"
      ]
     },
     "execution_count": 10,
     "metadata": {},
     "output_type": "execute_result"
    }
   ],
   "source": [
    "# Count records number \n",
    "df_reviews.count()"
   ]
  },
  {
   "cell_type": "markdown",
   "id": "64008b5a-ae5f-4e5f-a2b0-f28768c2831f",
   "metadata": {},
   "source": [
    "We notice that `df_reviews` is a huge dataset with over 270MM records. We note that some features are categorical so we consider important to make a brief exploration to get the distribution of them (*overall* and *verified*). After that, we consider to drop some columns in order to shorten the shape of data and make our analysis more efficient. "
   ]
  },
  {
   "cell_type": "code",
   "execution_count": 16,
   "id": "67274552-840c-45ad-aa51-f21cb4e9f166",
   "metadata": {},
   "outputs": [],
   "source": [
    "# Register df as Temp table\n",
    "temp_view_name = \"tempvw_reviews\"\n",
    "df_reviews.createOrReplaceTempView(temp_view_name)"
   ]
  },
  {
   "cell_type": "code",
   "execution_count": 12,
   "id": "5a900f6b-edb8-4308-8503-5f075cda2bb9",
   "metadata": {},
   "outputs": [
    {
     "name": "stdout",
     "output_type": "stream",
     "text": [
      "+-------+---------+\n",
      "|overall|    count|\n",
      "+-------+---------+\n",
      "|    5.0|179369728|\n",
      "|    4.0| 46643396|\n",
      "|    3.0| 21573678|\n",
      "|    2.0| 12577806|\n",
      "|    1.0| 19500378|\n",
      "|    0.0|       14|\n",
      "+-------+---------+\n",
      "\n"
     ]
    }
   ],
   "source": [
    "# Check the total rating levels ordered \n",
    "spark.sql(\"\"\"\n",
    "SELECT overall, COUNT(*) as count \n",
    "FROM tempvw_reviews \n",
    "GROUP BY overall \n",
    "ORDER BY overall DESC\n",
    "\"\"\").show()"
   ]
  },
  {
   "cell_type": "markdown",
   "id": "6253c9a1-ed63-4acb-88d8-ec00ab24e099",
   "metadata": {},
   "source": [
    "We note that more than half of the reviews are good, so for our analysis we get that most of the products are well reviewed."
   ]
  },
  {
   "cell_type": "code",
   "execution_count": 13,
   "id": "2d9849fc-725e-486c-89be-56604d51ce16",
   "metadata": {},
   "outputs": [],
   "source": [
    "# Check how many reviewers the dataset has\n",
    "result_query_total_reviewers = spark.sql(\"\"\"\n",
    "SELECT COUNT(DISTINCT reviewerID) as total_reviewers\n",
    "FROM tempvw_reviews \n",
    "\"\"\")"
   ]
  },
  {
   "cell_type": "code",
   "execution_count": 14,
   "id": "63608349-52fb-41d1-a8ce-6c73c235aa2f",
   "metadata": {},
   "outputs": [
    {
     "name": "stdout",
     "output_type": "stream",
     "text": [
      "+---------------+\n",
      "|total_reviewers|\n",
      "+---------------+\n",
      "|       34105431|\n",
      "+---------------+\n",
      "\n"
     ]
    }
   ],
   "source": [
    "result_query_total_reviewers.show()"
   ]
  },
  {
   "cell_type": "code",
   "execution_count": 15,
   "id": "fabd3b50-bf58-4915-a753-73fcb89b66d3",
   "metadata": {},
   "outputs": [
    {
     "name": "stdout",
     "output_type": "stream",
     "text": [
      "+---------------+--------+\n",
      "|total_reviewers|verified|\n",
      "+---------------+--------+\n",
      "|       10954035|   false|\n",
      "|       28705780|    true|\n",
      "+---------------+--------+\n",
      "\n"
     ]
    }
   ],
   "source": [
    "# Check how many verified and not verified reviewers the dataset has\n",
    "spark.sql(\"\"\"\n",
    "SELECT COUNT(DISTINCT reviewerID) as total_reviewers, verified\n",
    "FROM tempvw_reviews \n",
    "GROUP BY verified\n",
    "\"\"\").show()"
   ]
  },
  {
   "cell_type": "markdown",
   "id": "92a8a35c-81c6-4f2e-b8b1-1677113ac15f",
   "metadata": {},
   "source": [
    "We see that most of the reviewers are true, so we focus our analysis only with verified due to the fact that they represent effective orders and an opinion more sensible. (e.g. customer used the product)"
   ]
  },
  {
   "cell_type": "markdown",
   "id": "aa517fab-da4e-4763-a036-869b944c928d",
   "metadata": {},
   "source": [
    "#### **Data Cleaning**"
   ]
  },
  {
   "cell_type": "markdown",
   "id": "18c4c4cf-3ef8-4e2c-b21b-58aabc6c50a2",
   "metadata": {},
   "source": [
    "#### Selecting, Filtering and Casting"
   ]
  },
  {
   "cell_type": "code",
   "execution_count": 9,
   "id": "31cd13ee-ed03-459e-9a5e-d5d9ba370f42",
   "metadata": {},
   "outputs": [],
   "source": [
    "# Get only verified reviews\n",
    "new_df_reviews_filtered = df_reviews.filter(df_reviews[\"verified\"] == \"true\")"
   ]
  },
  {
   "cell_type": "code",
   "execution_count": 10,
   "id": "7fdf5774-d457-404e-97d6-0b41a2bded39",
   "metadata": {},
   "outputs": [],
   "source": [
    "# Get the reviewTime converting from unixtime to datetime \n",
    "new_df_reviews = new_df_reviews_filtered.withColumn(\"reviewTime\", from_unixtime(\"unixReviewTime\", \"yyyy-MM-dd\"))"
   ]
  },
  {
   "cell_type": "code",
   "execution_count": 20,
   "id": "41470ede-b6ce-4c65-9840-0c0c8e65f518",
   "metadata": {},
   "outputs": [
    {
     "name": "stdout",
     "output_type": "stream",
     "text": [
      "+----------+-----+-------+--------------------+--------------+--------------+--------------------+--------------------+--------------+--------+----+----------+\n",
      "|      asin|image|overall|          reviewText|    reviewerID|  reviewerName|               style|             summary|unixReviewTime|verified|vote|reviewTime|\n",
      "+----------+-----+-------+--------------------+--------------+--------------+--------------------+--------------------+--------------+--------+----+----------+\n",
      "|B000MXIMKK| null|    4.0|I love these pant...| AZZ1YPRM2FAUH|David Colgrove|{\"Size:\":\" 33W x ...|Durable, good loo...|    1459900800|    true|   6|2016-04-06|\n",
      "|B000MXIMKK| null|    5.0|Great pants and n...|A388UHKJN07JJT|           TJK|{\"Size:\":\" 42W x ...|       Great Product|    1459900800|    true|null|2016-04-06|\n",
      "|B000MXIMKK| null|    4.0|These are pretty ...|A1361PH7D34W8R|          Kyle|{\"Size:\":\" 36W x ...|  Good Overall Value|    1459900800|    true|null|2016-04-06|\n",
      "|B000MXIMKK| null|    1.0|I purchased two p...| ALBKZQ7DWPMC6|       cecray3|{\"Size:\":\" 36W x ...|but I'm definitel...|    1459900800|    true|null|2016-04-06|\n",
      "|B000MXIMKK| null|    4.0|       great product|A3GBAA7OEESH78|    David Rose|{\"Size:\":\" 40W x ...|          Four Stars|    1459814400|    true|null|2016-04-05|\n",
      "+----------+-----+-------+--------------------+--------------+--------------+--------------------+--------------------+--------------+--------+----+----------+\n",
      "only showing top 5 rows\n",
      "\n"
     ]
    }
   ],
   "source": [
    "new_df_reviews.show(5)"
   ]
  },
  {
   "cell_type": "code",
   "execution_count": 11,
   "id": "85204ae6-1269-458b-a0a4-09f1dc88e7a8",
   "metadata": {},
   "outputs": [],
   "source": [
    "# Drop the attributes that we consider least relevant\n",
    "new_df_reviews_2 = new_df_reviews.drop(\"image\", \"style\", \"unixReviewTime\", \"reviewerName\", \"verified\")"
   ]
  },
  {
   "cell_type": "code",
   "execution_count": 22,
   "id": "7739c554-6656-4381-a086-4b74edddb9ba",
   "metadata": {},
   "outputs": [
    {
     "name": "stdout",
     "output_type": "stream",
     "text": [
      "+----------+-------+--------------------+--------------+--------------------+----+----------+\n",
      "|      asin|overall|          reviewText|    reviewerID|             summary|vote|reviewTime|\n",
      "+----------+-------+--------------------+--------------+--------------------+----+----------+\n",
      "|B000MXIMKK|    4.0|I love these pant...| AZZ1YPRM2FAUH|Durable, good loo...|   6|2016-04-06|\n",
      "|B000MXIMKK|    5.0|Great pants and n...|A388UHKJN07JJT|       Great Product|null|2016-04-06|\n",
      "|B000MXIMKK|    4.0|These are pretty ...|A1361PH7D34W8R|  Good Overall Value|null|2016-04-06|\n",
      "|B000MXIMKK|    1.0|I purchased two p...| ALBKZQ7DWPMC6|but I'm definitel...|null|2016-04-06|\n",
      "|B000MXIMKK|    4.0|       great product|A3GBAA7OEESH78|          Four Stars|null|2016-04-05|\n",
      "+----------+-------+--------------------+--------------+--------------------+----+----------+\n",
      "only showing top 5 rows\n",
      "\n"
     ]
    }
   ],
   "source": [
    "new_df_reviews_2.show(5)"
   ]
  },
  {
   "cell_type": "code",
   "execution_count": 12,
   "id": "de01f542-d936-4955-8d26-6f1cca3190ba",
   "metadata": {},
   "outputs": [],
   "source": [
    "# Convert overall and vote fields to integer and reviewTime to date format\n",
    "new_df_reviews_cast = new_df_reviews_2.withColumn(\"overall\", col(\"overall\").cast(\"integer\"))\\\n",
    ".withColumn(\"vote\", col(\"vote\").cast(\"integer\")).withColumn(\"reviewTime\", to_date(col(\"reviewTime\"), \"yyyy-MM-dd\"))"
   ]
  },
  {
   "cell_type": "code",
   "execution_count": 24,
   "id": "0d79be7a-39ce-4418-91fd-79061d448caf",
   "metadata": {},
   "outputs": [
    {
     "name": "stdout",
     "output_type": "stream",
     "text": [
      "+----------+-------+--------------------+--------------+--------------------+----+----------+\n",
      "|      asin|overall|          reviewText|    reviewerID|             summary|vote|reviewTime|\n",
      "+----------+-------+--------------------+--------------+--------------------+----+----------+\n",
      "|B000MXIMKK|      4|I love these pant...| AZZ1YPRM2FAUH|Durable, good loo...|   6|2016-04-06|\n",
      "|B000MXIMKK|      5|Great pants and n...|A388UHKJN07JJT|       Great Product|null|2016-04-06|\n",
      "|B000MXIMKK|      4|These are pretty ...|A1361PH7D34W8R|  Good Overall Value|null|2016-04-06|\n",
      "|B000MXIMKK|      1|I purchased two p...| ALBKZQ7DWPMC6|but I'm definitel...|null|2016-04-06|\n",
      "|B000MXIMKK|      4|       great product|A3GBAA7OEESH78|          Four Stars|null|2016-04-05|\n",
      "+----------+-------+--------------------+--------------+--------------------+----+----------+\n",
      "only showing top 5 rows\n",
      "\n"
     ]
    }
   ],
   "source": [
    "new_df_reviews_cast.show(5)"
   ]
  },
  {
   "cell_type": "code",
   "execution_count": 19,
   "id": "9ab56a1f-6754-412a-a771-7365874a1dd9",
   "metadata": {},
   "outputs": [
    {
     "name": "stdout",
     "output_type": "stream",
     "text": [
      "root\n",
      " |-- asin: string (nullable = true)\n",
      " |-- overall: integer (nullable = true)\n",
      " |-- reviewText: string (nullable = true)\n",
      " |-- reviewerID: string (nullable = true)\n",
      " |-- summary: string (nullable = true)\n",
      " |-- vote: integer (nullable = true)\n",
      " |-- reviewTime: date (nullable = true)\n",
      "\n"
     ]
    }
   ],
   "source": [
    "new_df_reviews_cast.printSchema()"
   ]
  },
  {
   "cell_type": "code",
   "execution_count": 13,
   "id": "8f134695-80cd-4fca-a6b3-670e06ea4105",
   "metadata": {},
   "outputs": [],
   "source": [
    "# Drop duplicates from our df_reviews \n",
    "new_df_reviews_cast_unique = new_df_reviews_cast.dropDuplicates()"
   ]
  },
  {
   "cell_type": "code",
   "execution_count": 18,
   "id": "160d06e8-acc7-48e8-949e-024c261bedb2",
   "metadata": {},
   "outputs": [],
   "source": [
    "# Register df as Temp table\n",
    "temp_view_name = \"tempvw_df_reviews\"\n",
    "new_df_reviews_cast_unique.createOrReplaceTempView(temp_view_name)"
   ]
  },
  {
   "cell_type": "markdown",
   "id": "95ac01e8-8437-42c0-98cd-3f0cbb55463a",
   "metadata": {},
   "source": [
    "Given the huge amount of reviews available, we determine to shorten the size of data without losing some relevant aspects of data, we pick out one random case with a product to see how many reviews, overall and votes it has to be able to determine if could be better get a mean of the overall rating. "
   ]
  },
  {
   "cell_type": "markdown",
   "id": "03cd5b72-5753-4d59-93c8-c26b9549b494",
   "metadata": {},
   "source": [
    "### One random Case"
   ]
  },
  {
   "cell_type": "code",
   "execution_count": 59,
   "id": "941f2e41-3406-4131-9275-4d082b256a0f",
   "metadata": {},
   "outputs": [],
   "source": [
    "condition_1 = col(\"asin\") == \"0007232535\"\n",
    "new_df_reviews_filtered = new_df_reviews_cast_unique.filter(condition_1)"
   ]
  },
  {
   "cell_type": "code",
   "execution_count": 60,
   "id": "9fe4875e-f7c3-49b7-befd-7474a4b69628",
   "metadata": {},
   "outputs": [
    {
     "name": "stdout",
     "output_type": "stream",
     "text": [
      "+----------+-------+--------------------+--------------+--------------------+----+----------+\n",
      "|      asin|overall|          reviewText|    reviewerID|             summary|vote|reviewTime|\n",
      "+----------+-------+--------------------+--------------+--------------------+----+----------+\n",
      "|0007232535|      1|Just want to issu...|A12JDACBRFSWJ6|Buyer Beware -- T...|  10|2007-04-17|\n",
      "+----------+-------+--------------------+--------------+--------------------+----+----------+\n",
      "\n"
     ]
    }
   ],
   "source": [
    "new_df_reviews_filtered.show()"
   ]
  },
  {
   "cell_type": "markdown",
   "id": "5e44b0f7-2c57-4cec-b5c8-02d948db25ec",
   "metadata": {},
   "source": [
    "As we get deeper in data we note that some products has many reviews nonetheless some reviews are not popular, so in order to get most relevant without losing overall score from reviews that do not have any votes, we decide to make an average per asin and drop reviews that were not voted to keep the most popular ones. Furthermore, we consider they might cause noise to our analysis."
   ]
  },
  {
   "cell_type": "code",
   "execution_count": 14,
   "id": "1170178e-10ce-4b17-88ef-0342fcf005ef",
   "metadata": {},
   "outputs": [],
   "source": [
    "# We get the average overall score and reviews per product before filtering only the most relevant reviews in order to reduce the possible noise in data\n",
    "average_scores_df = new_df_reviews_cast_unique.groupBy(\"asin\").agg(round(avg(col(\"overall\")),3).alias(\"avg_overall\"), count('asin').alias('count_asin'))"
   ]
  },
  {
   "cell_type": "code",
   "execution_count": 19,
   "id": "a3f51201-3d81-4c31-ad39-425c195875a2",
   "metadata": {},
   "outputs": [],
   "source": [
    "# Filtered only reviews with more than two votes\n",
    "df_filtered_relevant_reviews = spark.sql(\"\"\"\n",
    "SELECT asin, reviewText, reviewerID, summary, vote, reviewTime, overall\n",
    "FROM tempvw_df_reviews \n",
    "WHERE vote >= 3\n",
    "\"\"\")"
   ]
  },
  {
   "cell_type": "code",
   "execution_count": 20,
   "id": "027f91d6-1fd5-4796-8378-ecef32f821bd",
   "metadata": {},
   "outputs": [],
   "source": [
    "# Inner Join to combine average overall scores and relevant reviews \n",
    "df_reviews_joined = df_filtered_relevant_reviews.join(average_scores_df, on=[\"asin\"], how=\"inner\")"
   ]
  },
  {
   "cell_type": "code",
   "execution_count": 21,
   "id": "565b0aef-840e-4808-a4e6-f18a9de2bef9",
   "metadata": {},
   "outputs": [],
   "source": [
    "# Register df as Temp table\n",
    "temp_view_name = \"tempvw_df_reviews_joined\"\n",
    "df_reviews_joined.createOrReplaceTempView(temp_view_name)"
   ]
  },
  {
   "cell_type": "markdown",
   "id": "e2a49efa-f438-4cd7-8eb5-b1df9e05efd6",
   "metadata": {},
   "source": [
    "We consider only products with at least 5 reviews in order to have a general overview of any of these, with less reviews we consider that it is not enough data to give a proper outcome."
   ]
  },
  {
   "cell_type": "code",
   "execution_count": 22,
   "id": "605e8e6c-22e9-41bc-baa8-a7a3bf5515c7",
   "metadata": {},
   "outputs": [],
   "source": [
    "# Filtered only reviews with more than two votes\n",
    "df_reviews_final = spark.sql(\"\"\"\n",
    "SELECT *\n",
    "FROM tempvw_df_reviews_joined \n",
    "WHERE count_asin >= 5\n",
    "\"\"\")"
   ]
  },
  {
   "cell_type": "code",
   "execution_count": 27,
   "id": "a379d3eb-c6e6-4e5c-8298-212219703af2",
   "metadata": {},
   "outputs": [
    {
     "name": "stdout",
     "output_type": "stream",
     "text": [
      "+----------+--------------------+--------------+--------------------+----+----------+-------+-----------+----------+\n",
      "|      asin|          reviewText|    reviewerID|             summary|vote|reviewTime|overall|avg_overall|count_asin|\n",
      "+----------+--------------------+--------------+--------------------+----+----------+-------+-----------+----------+\n",
      "|0005111587|My Catholic Faith...|A3GWD4C71EXKU0|A Revival of One ...|  41|2002-02-08|      5|        5.0|        17|\n",
      "|0005111587|VERY INFORMATIVE ...|A3AS7SWOD0PCKK|the CATECHISM OF ...|  25|2003-03-26|      5|        5.0|        17|\n",
      "|0005111587|MY CATHOLIC FAITH...|A1ODC1A64EVC8J|Superb Catechism ...|  15|2006-09-14|      5|        5.0|        17|\n",
      "|0005111587|If you think you ...|A34F2I70FAWOVA|    My Catholic Life|   3|2014-04-26|      5|        5.0|        17|\n",
      "|0005111587|I learned of this...|A1OJ4DADMZNIIM|   My Catholic Faith|  17|2007-11-05|      5|        5.0|        17|\n",
      "|0007148941|This book is goin...|A21YH1OMDSPASA|A pleasing end to...|   8|2008-09-21|      5|      4.148|        27|\n",
      "|0007148941|Kim, another disa...| AZ9N3928BGQ0E|\"Not with A Bang,...|   3|2007-08-31|      3|      4.148|        27|\n",
      "|0007148941|I have been ticki...| AC31II9459P5G|     All About Frank|   4|2008-01-06|      3|      4.148|        27|\n",
      "|0007148941|Robinson's books ...|A2MAB5Q4XA209W|Sixty Days to Now...|  18|2007-08-07|      2|      4.148|        27|\n",
      "|0007148941|I liked this book...|A3LGFJUC82N8TZ|Better than its p...|   9|2007-03-30|      4|      4.148|        27|\n",
      "+----------+--------------------+--------------+--------------------+----+----------+-------+-----------+----------+\n",
      "only showing top 10 rows\n",
      "\n"
     ]
    }
   ],
   "source": [
    "df_reviews_final.show(10)"
   ]
  },
  {
   "cell_type": "markdown",
   "id": "3784a68c-9c32-413e-99be-92474e64e94f",
   "metadata": {},
   "source": [
    "### Amazon Meta (Batch)"
   ]
  },
  {
   "cell_type": "markdown",
   "id": "492c84ba-0667-4965-b4a4-8d648dad82be",
   "metadata": {},
   "source": [
    "#### **Get Familiar with the Data**"
   ]
  },
  {
   "cell_type": "code",
   "execution_count": 25,
   "id": "cd8be724-44f8-4988-99d5-c74a51e15053",
   "metadata": {},
   "outputs": [
    {
     "name": "stdout",
     "output_type": "stream",
     "text": [
      "root\n",
      " |-- also_buy: array (nullable = true)\n",
      " |    |-- element: string (containsNull = true)\n",
      " |-- also_view: array (nullable = true)\n",
      " |    |-- element: string (containsNull = true)\n",
      " |-- asin: string (nullable = true)\n",
      " |-- brand: string (nullable = true)\n",
      " |-- category: array (nullable = true)\n",
      " |    |-- element: string (containsNull = true)\n",
      " |-- date: string (nullable = true)\n",
      " |-- description: array (nullable = true)\n",
      " |    |-- element: string (containsNull = true)\n",
      " |-- details: struct (nullable = true)\n",
      " |    |-- \\n    Item Weight: \\n    : string (nullable = true)\n",
      " |    |-- \\n    Package Dimensions: \\n    : string (nullable = true)\n",
      " |    |-- \\n    Product Dimensions: \\n    : string (nullable = true)\n",
      " |    |--  Date first listed on Amazon:: string (nullable = true)\n",
      " |    |--  UNSPSC Code:: string (nullable = true)\n",
      " |    |-- 3.5\" and 5.25\" disks:: string (nullable = true)\n",
      " |    |-- 3.5\" disk:: string (nullable = true)\n",
      " |    |-- 5.25\" disk:: string (nullable = true)\n",
      " |    |-- ASIN:: string (nullable = true)\n",
      " |    |-- ASIN: : string (nullable = true)\n",
      " |    |-- Accessory:: string (nullable = true)\n",
      " |    |-- Age Range:: string (nullable = true)\n",
      " |    |-- Album:: string (nullable = true)\n",
      " |    |-- Apparel: string (nullable = true)\n",
      " |    |-- Audible.com Release Date:: string (nullable = true)\n",
      " |    |-- Audio CD: string (nullable = true)\n",
      " |    |-- Audio CD Library Binding:: string (nullable = true)\n",
      " |    |-- Audio CD:: string (nullable = true)\n",
      " |    |-- Audio Cassette: string (nullable = true)\n",
      " |    |-- Audio Cassette:: string (nullable = true)\n",
      " |    |-- Audio Description:: string (nullable = true)\n",
      " |    |-- Audio-Video: string (nullable = true)\n",
      " |    |-- Automotive:: string (nullable = true)\n",
      " |    |-- Baby Product:: string (nullable = true)\n",
      " |    |-- Bargain Book:: string (nullable = true)\n",
      " |    |-- Bath Book:: string (nullable = true)\n",
      " |    |-- Batteries: string (nullable = true)\n",
      " |    |-- Blu-ray: string (nullable = true)\n",
      " |    |-- Blu-ray Audio: string (nullable = true)\n",
      " |    |-- Board book:: string (nullable = true)\n",
      " |    |-- Bonded Leather:: string (nullable = true)\n",
      " |    |-- Bookmark:: string (nullable = true)\n",
      " |    |-- CD-R: string (nullable = true)\n",
      " |    |-- CD-ROM: string (nullable = true)\n",
      " |    |-- CD-ROM:: string (nullable = true)\n",
      " |    |-- Calendar: string (nullable = true)\n",
      " |    |-- Calendar:: string (nullable = true)\n",
      " |    |-- Card Book:: string (nullable = true)\n",
      " |    |-- Cards:: string (nullable = true)\n",
      " |    |-- Comic:: string (nullable = true)\n",
      " |    |-- DCC (Digital Compact Cassette):: string (nullable = true)\n",
      " |    |-- DVD: string (nullable = true)\n",
      " |    |-- DVD Audio: string (nullable = true)\n",
      " |    |-- DVD Audio:: string (nullable = true)\n",
      " |    |-- DVD-R:: string (nullable = true)\n",
      " |    |-- DVD-ROM:: string (nullable = true)\n",
      " |    |-- DVD:: string (nullable = true)\n",
      " |    |-- Diary:: string (nullable = true)\n",
      " |    |-- Digital Copy Expiration Date:: string (nullable = true)\n",
      " |    |-- Discontinued by manufacturer:: string (nullable = true)\n",
      " |    |-- Diskette:: string (nullable = true)\n",
      " |    |-- Domestic Shipping: : string (nullable = true)\n",
      " |    |-- Downloading:: string (nullable = true)\n",
      " |    |-- Dubbed:: string (nullable = true)\n",
      " |    |-- Electronics: string (nullable = true)\n",
      " |    |-- Electronics:: string (nullable = true)\n",
      " |    |-- File Size:: string (nullable = true)\n",
      " |    |-- Flexibound:: string (nullable = true)\n",
      " |    |-- Foam Book:: string (nullable = true)\n",
      " |    |-- Format:: string (nullable = true)\n",
      " |    |-- Game:: string (nullable = true)\n",
      " |    |-- Gift:: string (nullable = true)\n",
      " |    |-- Grade Level:: string (nullable = true)\n",
      " |    |-- Hardcover: string (nullable = true)\n",
      " |    |-- Hardcover Comic:: string (nullable = true)\n",
      " |    |-- Hardcover-spiral:: string (nullable = true)\n",
      " |    |-- Hardcover:: string (nullable = true)\n",
      " |    |-- Health and Beauty: string (nullable = true)\n",
      " |    |-- Health and Beauty:: string (nullable = true)\n",
      " |    |-- ISBN-10:: string (nullable = true)\n",
      " |    |-- ISBN-13:: string (nullable = true)\n",
      " |    |-- Imitation Leather:: string (nullable = true)\n",
      " |    |-- International Shipping: : string (nullable = true)\n",
      " |    |-- Item model number:: string (nullable = true)\n",
      " |    |-- JP Oversized:: string (nullable = true)\n",
      " |    |-- Journal:: string (nullable = true)\n",
      " |    |-- Kindle Edition:: string (nullable = true)\n",
      " |    |-- Kitchen:: string (nullable = true)\n",
      " |    |-- Label:: string (nullable = true)\n",
      " |    |-- Language:: string (nullable = true)\n",
      " |    |-- Lawn & Patio:: string (nullable = true)\n",
      " |    |-- Leather Bound:: string (nullable = true)\n",
      " |    |-- Lending:: string (nullable = true)\n",
      " |    |-- Lexile Measure:: string (nullable = true)\n",
      " |    |-- Library Binding:: string (nullable = true)\n",
      " |    |-- Listening Length:: string (nullable = true)\n",
      " |    |-- Loose Leaf:: string (nullable = true)\n",
      " |    |-- MP3 CD:: string (nullable = true)\n",
      " |    |-- MP3 Music: string (nullable = true)\n",
      " |    |-- Map:: string (nullable = true)\n",
      " |    |-- Mass Market Paperback:: string (nullable = true)\n",
      " |    |-- Microfilm:: string (nullable = true)\n",
      " |    |-- Misc. Supplies:: string (nullable = true)\n",
      " |    |-- Misc.:: string (nullable = true)\n",
      " |    |-- Mook:: string (nullable = true)\n",
      " |    |-- Note on Boxed Sets:: string (nullable = true)\n",
      " |    |-- Note:: string (nullable = true)\n",
      " |    |-- Number of Discs:: string (nullable = true)\n",
      " |    |-- Office Product:: string (nullable = true)\n",
      " |    |-- Online Code:: string (nullable = true)\n",
      " |    |-- Online Game Code:: string (nullable = true)\n",
      " |    |-- Online Map Code:: string (nullable = true)\n",
      " |    |-- Original Release Date:: string (nullable = true)\n",
      " |    |-- Page Numbers Source ISBN:: string (nullable = true)\n",
      " |    |-- Pamphlet:: string (nullable = true)\n",
      " |    |-- Paperback: string (nullable = true)\n",
      " |    |-- Paperback Bunko:: string (nullable = true)\n",
      " |    |-- Paperback Shinsho:: string (nullable = true)\n",
      " |    |-- Paperback:: string (nullable = true)\n",
      " |    |-- Perfect Paperback:: string (nullable = true)\n",
      " |    |-- Personal Computers:: string (nullable = true)\n",
      " |    |-- Plastic Comb:: string (nullable = true)\n",
      " |    |-- Please Note:: string (nullable = true)\n",
      " |    |-- Pocket Book:: string (nullable = true)\n",
      " |    |-- Poster:: string (nullable = true)\n",
      " |    |-- Print Length:: string (nullable = true)\n",
      " |    |-- Print Magazine:: string (nullable = true)\n",
      " |    |-- Print on Demand (Paperback):: string (nullable = true)\n",
      " |    |-- Printed Access Code:: string (nullable = true)\n",
      " |    |-- Program Type:: string (nullable = true)\n",
      " |    |-- Publication Date:: string (nullable = true)\n",
      " |    |-- Publisher:: string (nullable = true)\n",
      " |    |-- Rag Book:: string (nullable = true)\n",
      " |    |-- Release Date:: string (nullable = true)\n",
      " |    |-- Ring-bound:: string (nullable = true)\n",
      " |    |-- Run Time:: string (nullable = true)\n",
      " |    |-- SPARS Code:: string (nullable = true)\n",
      " |    |-- School & Library Binding:: string (nullable = true)\n",
      " |    |-- Series:: string (nullable = true)\n",
      " |    |-- Sheet music:: string (nullable = true)\n",
      " |    |-- Shipping Advisory:: string (nullable = true)\n",
      " |    |-- Shipping Weight:: string (nullable = true)\n",
      " |    |-- Shipping: : string (nullable = true)\n",
      " |    |-- Simultaneous Device Usage:: string (nullable = true)\n",
      " |    |-- Single Issue Magazine:: string (nullable = true)\n",
      " |    |-- Slide:: string (nullable = true)\n",
      " |    |-- Spiral-bound:: string (nullable = true)\n",
      " |    |-- Sports: string (nullable = true)\n",
      " |    |-- Sports:: string (nullable = true)\n",
      " |    |-- Staple Bound:: string (nullable = true)\n",
      " |    |-- Stationery:: string (nullable = true)\n",
      " |    |-- Subtitles for the Hearing Impaired:: string (nullable = true)\n",
      " |    |-- Subtitles:: string (nullable = true)\n",
      " |    |-- Tankobon Hardcover:: string (nullable = true)\n",
      " |    |-- Tankobon Softcover:: string (nullable = true)\n",
      " |    |-- Textbook Binding:: string (nullable = true)\n",
      " |    |-- Toy:: string (nullable = true)\n",
      " |    |-- Transparency:: string (nullable = true)\n",
      " |    |-- Turtleback:: string (nullable = true)\n",
      " |    |-- UPC:: string (nullable = true)\n",
      " |    |-- USB Memory Stick: string (nullable = true)\n",
      " |    |-- Unbound:: string (nullable = true)\n",
      " |    |-- Unknown Binding: string (nullable = true)\n",
      " |    |-- Unknown Binding:: string (nullable = true)\n",
      " |    |-- VHS Tape: string (nullable = true)\n",
      " |    |-- VHS Tape:: string (nullable = true)\n",
      " |    |-- Version:: string (nullable = true)\n",
      " |    |-- Video Game:: string (nullable = true)\n",
      " |    |-- Vinyl: string (nullable = true)\n",
      " |    |-- Vinyl Bound: string (nullable = true)\n",
      " |    |-- Vinyl Bound:: string (nullable = true)\n",
      " |    |-- Wall Chart:: string (nullable = true)\n",
      " |    |-- Watch: string (nullable = true)\n",
      " |    |-- Whispersync for Voice:: string (nullable = true)\n",
      " |    |-- Word Wise:: string (nullable = true)\n",
      " |    |-- Workbook:: string (nullable = true)\n",
      " |-- feature: array (nullable = true)\n",
      " |    |-- element: string (containsNull = true)\n",
      " |-- fit: string (nullable = true)\n",
      " |-- image: array (nullable = true)\n",
      " |    |-- element: string (containsNull = true)\n",
      " |-- main_cat: string (nullable = true)\n",
      " |-- price: string (nullable = true)\n",
      " |-- rank: string (nullable = true)\n",
      " |-- similar_item: string (nullable = true)\n",
      " |-- tech1: string (nullable = true)\n",
      " |-- tech2: string (nullable = true)\n",
      " |-- title: string (nullable = true)\n",
      "\n"
     ]
    }
   ],
   "source": [
    "# Print df_meta Schema to see what attributes we have and what data type they belong\n",
    "df_meta.printSchema()"
   ]
  },
  {
   "cell_type": "markdown",
   "id": "cfdaf6ad-70b7-4e4c-8fe8-15082d13a233",
   "metadata": {},
   "source": [
    "We see `df_meta` offers some relevant description about the products and categories such that we can summarize our data in a structured way, so we need to drop the fields that are unnecessary to our analysis "
   ]
  },
  {
   "cell_type": "code",
   "execution_count": 62,
   "id": "b53ac1ae-ecc1-44ad-8e2b-68897bd2d3c4",
   "metadata": {},
   "outputs": [
    {
     "name": "stdout",
     "output_type": "stream",
     "text": [
      "+--------------------+---------+----------+------------+--------------------+------------+--------------------+--------------------+--------------------+---+--------------------+--------------------+-------+--------------------+--------------------+--------------------+-----+--------------------+\n",
      "|            also_buy|also_view|      asin|       brand|            category|        date|         description|             details|             feature|fit|               image|            main_cat|  price|                rank|        similar_item|               tech1|tech2|               title|\n",
      "+--------------------+---------+----------+------------+--------------------+------------+--------------------+--------------------+--------------------+---+--------------------+--------------------+-------+--------------------+--------------------+--------------------+-----+--------------------+\n",
      "|                  []|       []|B01FVYVI00|NAUTICALMART|[Tools & Home Imp...|May 19, 2016|[NAUTICALMART CHR...|{null, null, null...|[DECORATIVE FLOOR...|   |                  []|Tools & Home Impr...|$195.00|[\">#3,449,141 in ...| class=\"a-bordere...| class=\"a-keyvalu...|     |NAUTICALMART CHRO...|\n",
      "|[B00TV26C0U, B075...|       []|B01FVZHGB4|     Daixers|[Tools & Home Imp...|            |[<b>Carrys up to ...|{null, null, null...|[Premium quality:...|   |[https://images-n...|         Amazon Home|  $6.99|[\">#750,363 in Ho...| class=\"a-bordere...|                    |     |Daixers Stainless...|\n",
      "|                  []|       []|B01FVZQZVG|  Rocky Mars|[Tools & Home Imp...|May 19, 2016|[<b>Overview</b><...|{null, null, null...|[Auto-Range digit...|   |[https://images-n...|Tools & Home Impr...| $18.99|[\">#2,323,519 in ...| class=\"a-bordere...| class=\"a-keyvalu...|     |Aimometer Digital...|\n",
      "|                  []|       []|B01FVZHEPM|       DNVEN|[Tools & Home Imp...|            |[<b>IMPORTANT to ...|{null, null, null...|[This wall decal ...|   |[https://images-n...|         Amazon Home|  $7.99|[\">#2,125,215 in ...|                    |                    |     |DNVEN Flower Girl...|\n",
      "|                  []|       []|B01FVZJGN0| World Pride|[Tools & Home Imp...|May 20, 2016|[Durable construc...|{null, null, null...|[Durable construc...|   |[https://images-n...|Tools & Home Impr...|       |[\">#1,440,754 in ...|                    | class=\"a-keyvalu...|     |World Pride Wall-...|\n",
      "+--------------------+---------+----------+------------+--------------------+------------+--------------------+--------------------+--------------------+---+--------------------+--------------------+-------+--------------------+--------------------+--------------------+-----+--------------------+\n",
      "only showing top 5 rows\n",
      "\n"
     ]
    }
   ],
   "source": [
    "# Check the content within df_meta\n",
    "df_meta.show(5)"
   ]
  },
  {
   "cell_type": "markdown",
   "id": "f684e4ef-4cac-43f3-878f-4fab9ec52f3c",
   "metadata": {},
   "source": [
    "#### **Data Cleaning**"
   ]
  },
  {
   "cell_type": "markdown",
   "id": "cab15835-e259-4dac-8a65-8e557073aa8d",
   "metadata": {},
   "source": [
    "#### Selecting, Filtering and Casting"
   ]
  },
  {
   "cell_type": "code",
   "execution_count": 23,
   "id": "b8b7906c-1ff2-43e3-814a-513c905cfc42",
   "metadata": {},
   "outputs": [],
   "source": [
    "# Create temp view to query data\n",
    "temp_view_name = \"tempvw_meta\"\n",
    "df_meta.createOrReplaceTempView(temp_view_name)"
   ]
  },
  {
   "cell_type": "code",
   "execution_count": 24,
   "id": "08573cfb-bfe5-4a25-8938-6ba26fcbeda4",
   "metadata": {},
   "outputs": [],
   "source": [
    "# Filter data to avoid urls and empty records (without category)\n",
    "filtered_df_meta = spark.sql(\"\"\"\n",
    "SELECT DISTINCT asin, brand, main_cat, price, rank, description, category, title\n",
    "FROM tempvw_meta \n",
    "WHERE main_cat NOT LIKE '%https%' AND main_cat NOT LIKE ''\n",
    "\"\"\")"
   ]
  },
  {
   "cell_type": "code",
   "execution_count": 27,
   "id": "221b1eff-1d38-4622-b37c-0e25aeddbbc8",
   "metadata": {},
   "outputs": [],
   "source": [
    "# Replace money sign to cast price to float and clean mistype categories\n",
    "df_meta_clean = filtered_df_meta.withColumn(\"price\", regexp_replace(col(\"price\"), \"\\\\$\", \"\").cast(\"float\")).withColumn(\"main_cat\", regexp_replace(col(\"main_cat\"), \"&amp;\", \"&\"))"
   ]
  },
  {
   "cell_type": "code",
   "execution_count": 74,
   "id": "4537ff2d-4a8c-4659-81b6-b34723434df1",
   "metadata": {},
   "outputs": [
    {
     "name": "stdout",
     "output_type": "stream",
     "text": [
      "+----------+--------------------+----------+-----+--------------------+--------------------+--------------------+--------------------+\n",
      "|      asin|               brand|  main_cat|price|                rank|         description|            category|               title|\n",
      "+----------+--------------------+----------+-----+--------------------+--------------------+--------------------+--------------------+\n",
      "|B000C2E6HE|             Fel-Pro|Automotive| 6.29|[\">#804,748 in Au...|[Fel-Pro gaskets ...|[Automotive, Repl...|Fel-Pro 61093 Thr...|\n",
      "|B000C2EAZW|             Fel-Pro|Automotive|58.99|[\">#743,066 in Au...|[This Fel-Pro hea...|[Automotive, Repl...|Fel-Pro HS9170PT1...|\n",
      "|B000C2GI52|             Fel-Pro|Automotive|14.73|[\">#150,455 in Au...|[Fel-Pro gaskets ...|[Automotive, Repl...|Fel-Pro VS50500R ...|\n",
      "|B000C2M8LA|        Four Seasons|Automotive| 9.06|[\">#397,901 in Au...|[Air Conditioning...|[Automotive, Repl...|Four Seasons 2670...|\n",
      "|B000C2M8VA|Four Seasons/Trumark|Automotive|35.88|[\">#443,626 in Au...|[This product mee...|[Automotive, Repl...|Four Seasons/Trum...|\n",
      "|B000C2MANG|        Four Seasons|Automotive|20.17|[\">#1,175,134 in ...|   [Expansion Valve]|[Automotive, Repl...|Four Seasons 3884...|\n",
      "|B000C2NWS8|              Bendix|Automotive|53.41|[\">#2,274,552 in ...|[Bendix TitaniuMe...|[Automotive, Repl...|Bendix MKD781 Sem...|\n",
      "|B000C2STCM|        Four Seasons|Automotive| 8.18|[\">#1,421,543 in ...|[Suction And Disc...|[Automotive, Repl...|Four Seasons 5643...|\n",
      "|B000C2UJY8|               Gates|Automotive|16.15|[\">#232,054 in Au...|   [Serpentine Belt]|[Automotive, Repl...|Gates K040372 Mul...|\n",
      "|B000C2WEEG|               Gates|Automotive|12.96|[\">#492,052 in Au...|       [Heater Hose]|[Automotive, Repl...|Gates 28472 Heate...|\n",
      "|B000C2WIYW|               Gates|Automotive| 11.8|[\">#154,672 in Au...|[Accessory Drive ...|[Automotive, Repl...|   Gates 7420 V-Belt|\n",
      "|B000C2WLZS|               Gates|Automotive|19.58|[\">#1,565,889 in ...|       [Timing Belt]|[Automotive, Repl...|Gates T303 Timing...|\n",
      "|B000C2YA7K|               Gates|Automotive|30.32|[\">#6,237,811 in ...|[Power Steering P...|[Automotive, Repl...|Gates 369300 Pres...|\n",
      "|B000C34JUM|   Continental Elite|Automotive| null|[\">#2,682,914 in ...|[Continental Elit...|[Automotive, Repl...|Continental Elite...|\n",
      "|B000C36CFC|   Continental Elite|Automotive|14.31|[\">#1,980,516 in ...|[Continental Elit...|[Automotive, Repl...|Continental Elite...|\n",
      "|B000C3PY9M|NuGeon Auto Compo...|Automotive| null|[\">#3,472,619 in ...|[BRAKE CALIPER - ...|[Automotive, Repl...|NuGeon 22-01624L ...|\n",
      "|B000C3ZC8U|                 KYB|Automotive| 8.18|[\">#1,224,737 in ...|[Ride Comfort may...|[Automotive, Repl...|KYB 234024 Excel-...|\n",
      "|B000C3ZDV6|                 KYB|Automotive|37.68|[\">#119,423 in Au...|[The KYB Gas-a-Ju...|[Automotive, Repl...|KYB KG5562 Gas-a-...|\n",
      "|B000C41HJC|          A1 Cardone|Automotive| null|[\">#4,223,933 in ...|[A1 CARDONE Reman...|[Automotive, Repl...|Cardone 21-5887 R...|\n",
      "|B000C42QS8|                 KYB|Automotive| 8.18|[\">#81,540 in Aut...|[Ride Comfort may...|[Automotive, Repl...|KYB 235629 Excel-...|\n",
      "+----------+--------------------+----------+-----+--------------------+--------------------+--------------------+--------------------+\n",
      "only showing top 20 rows\n",
      "\n"
     ]
    }
   ],
   "source": [
    "df_meta_clean.show(5)"
   ]
  },
  {
   "cell_type": "code",
   "execution_count": 25,
   "id": "d7c3810a-ee5a-41db-b4d3-cc812f3edbec",
   "metadata": {},
   "outputs": [
    {
     "name": "stdout",
     "output_type": "stream",
     "text": [
      "root\n",
      " |-- asin: string (nullable = true)\n",
      " |-- brand: string (nullable = true)\n",
      " |-- main_cat: string (nullable = true)\n",
      " |-- price: float (nullable = true)\n",
      " |-- rank: string (nullable = true)\n",
      " |-- description: array (nullable = true)\n",
      " |    |-- element: string (containsNull = true)\n",
      " |-- category: array (nullable = true)\n",
      " |    |-- element: string (containsNull = true)\n",
      " |-- title: string (nullable = true)\n",
      "\n"
     ]
    }
   ],
   "source": [
    "# Print df_meta_clean Schema to see what attributes we have and what data type they belong\n",
    "df_meta_clean.printSchema()"
   ]
  },
  {
   "cell_type": "markdown",
   "id": "a9e6af85-86fb-4314-9b0e-34d48b3182f0",
   "metadata": {},
   "source": [
    "## Combine both Amazon Sources (Batch)"
   ]
  },
  {
   "cell_type": "code",
   "execution_count": 28,
   "id": "e8396c9f-88f3-4aaf-b6d4-91552b3fadb7",
   "metadata": {},
   "outputs": [],
   "source": [
    "# Inner Join to combine Reviews with Meta (Get our master table)\n",
    "df_reviews_master_table = df_reviews_final.join(df_meta_clean, on=[\"asin\"], how=\"inner\")"
   ]
  },
  {
   "cell_type": "code",
   "execution_count": 33,
   "id": "c88f794a-1e78-4150-bdf8-d05b4d4f9d13",
   "metadata": {},
   "outputs": [
    {
     "name": "stdout",
     "output_type": "stream",
     "text": [
      "root\n",
      " |-- asin: string (nullable = true)\n",
      " |-- reviewText: string (nullable = true)\n",
      " |-- reviewerID: string (nullable = true)\n",
      " |-- summary: string (nullable = true)\n",
      " |-- vote: integer (nullable = true)\n",
      " |-- reviewTime: date (nullable = true)\n",
      " |-- overall: integer (nullable = true)\n",
      " |-- avg_overall: double (nullable = true)\n",
      " |-- count_asin: long (nullable = false)\n",
      " |-- brand: string (nullable = true)\n",
      " |-- main_cat: string (nullable = true)\n",
      " |-- price: float (nullable = true)\n",
      " |-- rank: string (nullable = true)\n",
      " |-- description: array (nullable = true)\n",
      " |    |-- element: string (containsNull = true)\n",
      " |-- category: array (nullable = true)\n",
      " |    |-- element: string (containsNull = true)\n",
      " |-- title: string (nullable = true)\n",
      "\n"
     ]
    }
   ],
   "source": [
    "df_reviews_master_table.printSchema()"
   ]
  },
  {
   "cell_type": "code",
   "execution_count": 34,
   "id": "e38e3df4-6b11-4411-8f4c-46d6c264f195",
   "metadata": {},
   "outputs": [
    {
     "name": "stdout",
     "output_type": "stream",
     "text": [
      "+----------+--------------------+--------------+--------------------+----+----------+-------+-----------+----------+--------------------+--------+-----+--------------------+--------------------+--------------------+--------------------+\n",
      "|      asin|          reviewText|    reviewerID|             summary|vote|reviewTime|overall|avg_overall|count_asin|               brand|main_cat|price|                rank|         description|            category|               title|\n",
      "+----------+--------------------+--------------+--------------------+----+----------+-------+-----------+----------+--------------------+--------+-----+--------------------+--------------------+--------------------+--------------------+\n",
      "|0041300033|At the risk of so...| AKEE4Z5O1O1NM|       Life altering|   6|2016-03-29|      5|       4.75|         8|         C.H. Brooks|   Books| 6.03|13,662,400 in Boo...|[Lang:- eng, Page...|[Books, Literatur...|Practice of Autos...|\n",
      "|0091493714|There are two typ...|A22KH6LRBNXCLP|  Not too Effective.|  21|2014-06-06|      3|      4.451|       779|Roger and Ury, Wi...|   Books| 5.58|7,606,562 in Books (|                  []|[Books, Health, F...|Getting To Yes - ...|\n",
      "|0091493714|Fisher and Ury di...|A39H36E9D8NHU7|The Book on Negot...|   4|2000-09-03|      5|      4.451|       779|Roger and Ury, Wi...|   Books| 5.58|7,606,562 in Books (|                  []|[Books, Health, F...|Getting To Yes - ...|\n",
      "|0091493714|This is a very go...|A1AYJY5NBGHPEW|A better way to w...|   6|2003-08-14|      5|      4.451|       779|Roger and Ury, Wi...|   Books| 5.58|7,606,562 in Books (|                  []|[Books, Health, F...|Getting To Yes - ...|\n",
      "|0091493714|I read this book ...|A3T412EEFFJTVW|I found the book ...|   3|2007-01-29|      4|      4.451|       779|Roger and Ury, Wi...|   Books| 5.58|7,606,562 in Books (|                  []|[Books, Health, F...|Getting To Yes - ...|\n",
      "+----------+--------------------+--------------+--------------------+----+----------+-------+-----------+----------+--------------------+--------+-----+--------------------+--------------------+--------------------+--------------------+\n",
      "only showing top 5 rows\n",
      "\n"
     ]
    }
   ],
   "source": [
    "# Check the results \n",
    "df_reviews_master_table.show(5)"
   ]
  },
  {
   "cell_type": "markdown",
   "id": "13645d0d-834b-487d-99a7-a5bbdcaebd75",
   "metadata": {},
   "source": [
    "## Export master table (Batch) to Parquet "
   ]
  },
  {
   "cell_type": "code",
   "execution_count": 29,
   "id": "9535c407-a1f3-4871-8fc5-2fb333b78735",
   "metadata": {},
   "outputs": [],
   "source": [
    "path_parquet = 'reviews_master_parquet'\n",
    "partition_column = 'main_cat'\n",
    "df_reviews_master_table.write.partitionBy(partition_column).option(\"compression\", \"gzip\").parquet(path_parquet)"
   ]
  },
  {
   "cell_type": "markdown",
   "id": "78b22760-1225-458f-b592-4a4ad7667178",
   "metadata": {},
   "source": [
    "## Loading Amazon Reviews (Streaming)"
   ]
  },
  {
   "cell_type": "markdown",
   "id": "d3781d2d-afca-4544-b8ae-5ec7ed5045b9",
   "metadata": {},
   "source": [
    "We are going to implement a function to get data from Streaming using `Azure Event Hub`."
   ]
  },
  {
   "cell_type": "code",
   "execution_count": 6,
   "id": "154ed199-4c9a-4ca3-8dcb-b5d462475eba",
   "metadata": {},
   "outputs": [
    {
     "name": "stderr",
     "output_type": "stream",
     "text": [
      "INFO:azure.eventhub.aio._eventprocessor.event_processor:EventProcessor '1e1d6300-748c-4a94-9026-c5076e687dbc' is being started\n",
      "INFO:azure.eventhub._pyamqp.aio._connection_async:Connection state changed: None -> <ConnectionState.START: 0>\n",
      "INFO:azure.eventhub._pyamqp.aio._connection_async:Connection state changed: <ConnectionState.START: 0> -> <ConnectionState.HDR_SENT: 2>\n",
      "INFO:azure.eventhub._pyamqp.aio._connection_async:Connection state changed: <ConnectionState.HDR_SENT: 2> -> <ConnectionState.HDR_SENT: 2>\n",
      "INFO:azure.eventhub._pyamqp.aio._connection_async:Connection state changed: <ConnectionState.HDR_SENT: 2> -> <ConnectionState.OPEN_PIPE: 4>\n",
      "INFO:azure.eventhub._pyamqp.aio._session_async:Session state changed: <SessionState.UNMAPPED: 0> -> <SessionState.BEGIN_SENT: 1>\n",
      "INFO:azure.eventhub._pyamqp.aio._link_async:Link state changed: <LinkState.DETACHED: 0> -> <LinkState.ATTACH_SENT: 1>\n",
      "INFO:azure.eventhub._pyamqp.aio._management_link_async:Management link receiver state changed: <LinkState.DETACHED: 0> -> <LinkState.ATTACH_SENT: 1>\n",
      "INFO:azure.eventhub._pyamqp.aio._link_async:Link state changed: <LinkState.DETACHED: 0> -> <LinkState.ATTACH_SENT: 1>\n",
      "INFO:azure.eventhub._pyamqp.aio._management_link_async:Management link sender state changed: <LinkState.DETACHED: 0> -> <LinkState.ATTACH_SENT: 1>\n",
      "INFO:azure.eventhub._pyamqp.aio._connection_async:Connection state changed: <ConnectionState.OPEN_PIPE: 4> -> <ConnectionState.OPEN_SENT: 7>\n",
      "INFO:azure.eventhub._pyamqp.aio._connection_async:Connection state changed: <ConnectionState.OPEN_SENT: 7> -> <ConnectionState.OPENED: 9>\n",
      "INFO:azure.eventhub._pyamqp.aio._session_async:Session state changed: <SessionState.BEGIN_SENT: 1> -> <SessionState.MAPPED: 3>\n",
      "INFO:azure.eventhub._pyamqp.aio._link_async:Link state changed: <LinkState.ATTACH_SENT: 1> -> <LinkState.ATTACHED: 3>\n",
      "INFO:azure.eventhub._pyamqp.aio._management_link_async:Management link receiver state changed: <LinkState.ATTACH_SENT: 1> -> <LinkState.ATTACHED: 3>\n",
      "INFO:azure.eventhub._pyamqp.aio._link_async:Link state changed: <LinkState.ATTACH_SENT: 1> -> <LinkState.ATTACHED: 3>\n",
      "INFO:azure.eventhub._pyamqp.aio._management_link_async:Management link sender state changed: <LinkState.ATTACH_SENT: 1> -> <LinkState.ATTACHED: 3>\n",
      "INFO:azure.eventhub._pyamqp.aio._cbs_async:CBS completed opening with status: <ManagementOpenResult.OK: 1>\n",
      "INFO:azure.eventhub._pyamqp.aio._link_async:Link state changed: <LinkState.DETACHED: 0> -> <LinkState.ATTACH_SENT: 1>\n",
      "INFO:azure.eventhub._pyamqp.aio._management_link_async:Management link receiver state changed: <LinkState.DETACHED: 0> -> <LinkState.ATTACH_SENT: 1>\n",
      "INFO:azure.eventhub._pyamqp.aio._link_async:Link state changed: <LinkState.DETACHED: 0> -> <LinkState.ATTACH_SENT: 1>\n",
      "INFO:azure.eventhub._pyamqp.aio._management_link_async:Management link sender state changed: <LinkState.DETACHED: 0> -> <LinkState.ATTACH_SENT: 1>\n",
      "INFO:azure.eventhub._pyamqp.aio._link_async:Link state changed: <LinkState.ATTACH_SENT: 1> -> <LinkState.ATTACHED: 3>\n",
      "INFO:azure.eventhub._pyamqp.aio._management_link_async:Management link receiver state changed: <LinkState.ATTACH_SENT: 1> -> <LinkState.ATTACHED: 3>\n",
      "INFO:azure.eventhub._pyamqp.aio._link_async:Link state changed: <LinkState.ATTACH_SENT: 1> -> <LinkState.ATTACHED: 3>\n",
      "INFO:azure.eventhub._pyamqp.aio._management_link_async:Management link sender state changed: <LinkState.ATTACH_SENT: 1> -> <LinkState.ATTACHED: 3>\n",
      "INFO:azure.eventhub._pyamqp.aio._link_async:Link state changed: <LinkState.ATTACHED: 3> -> <LinkState.DETACH_SENT: 4>\n",
      "INFO:azure.eventhub._pyamqp.aio._management_link_async:Management link receiver state changed: <LinkState.ATTACHED: 3> -> <LinkState.DETACH_SENT: 4>\n",
      "INFO:azure.eventhub._pyamqp.aio._link_async:Link state changed: <LinkState.ATTACHED: 3> -> <LinkState.DETACH_SENT: 4>\n",
      "INFO:azure.eventhub._pyamqp.aio._management_link_async:Management link sender state changed: <LinkState.ATTACHED: 3> -> <LinkState.DETACH_SENT: 4>\n",
      "INFO:azure.eventhub._pyamqp.aio._link_async:Link state changed: <LinkState.ATTACHED: 3> -> <LinkState.DETACH_SENT: 4>\n",
      "INFO:azure.eventhub._pyamqp.aio._management_link_async:Management link sender state changed: <LinkState.ATTACHED: 3> -> <LinkState.DETACH_SENT: 4>\n",
      "INFO:azure.eventhub._pyamqp.aio._link_async:Link state changed: <LinkState.ATTACHED: 3> -> <LinkState.DETACH_SENT: 4>\n",
      "INFO:azure.eventhub._pyamqp.aio._management_link_async:Management link receiver state changed: <LinkState.ATTACHED: 3> -> <LinkState.DETACH_SENT: 4>\n",
      "INFO:azure.eventhub._pyamqp.aio._session_async:Session state changed: <SessionState.MAPPED: 3> -> <SessionState.END_SENT: 4>\n",
      "INFO:azure.eventhub._pyamqp.aio._connection_async:Connection state changed: <ConnectionState.OPENED: 9> -> <ConnectionState.CLOSE_SENT: 11>\n",
      "INFO:azure.eventhub._pyamqp.aio._connection_async:Connection state changed: <ConnectionState.CLOSE_SENT: 11> -> <ConnectionState.END: 13>\n",
      "INFO:azure.eventhub._pyamqp.aio._session_async:Session state changed: <SessionState.END_SENT: 4> -> <SessionState.DISCARDING: 6>\n",
      "INFO:azure.eventhub._pyamqp.aio._link_async:Link state changed: <LinkState.DETACH_SENT: 4> -> <LinkState.DETACHED: 0>\n",
      "INFO:azure.eventhub._pyamqp.aio._management_link_async:Management link sender state changed: <LinkState.DETACH_SENT: 4> -> <LinkState.DETACHED: 0>\n",
      "INFO:azure.eventhub._pyamqp.aio._link_async:Link state changed: <LinkState.DETACH_SENT: 4> -> <LinkState.DETACHED: 0>\n",
      "INFO:azure.eventhub._pyamqp.aio._management_link_async:Management link receiver state changed: <LinkState.DETACH_SENT: 4> -> <LinkState.DETACHED: 0>\n",
      "INFO:azure.eventhub._pyamqp.aio._link_async:Link state changed: <LinkState.DETACH_SENT: 4> -> <LinkState.DETACHED: 0>\n",
      "INFO:azure.eventhub._pyamqp.aio._management_link_async:Management link sender state changed: <LinkState.DETACH_SENT: 4> -> <LinkState.DETACHED: 0>\n",
      "INFO:azure.eventhub._pyamqp.aio._link_async:Link state changed: <LinkState.DETACH_SENT: 4> -> <LinkState.DETACHED: 0>\n",
      "INFO:azure.eventhub._pyamqp.aio._management_link_async:Management link receiver state changed: <LinkState.DETACH_SENT: 4> -> <LinkState.DETACHED: 0>\n",
      "INFO:azure.eventhub.aio._eventprocessor.event_processor:EventProcessor '1e1d6300-748c-4a94-9026-c5076e687dbc' has claimed partition '0'\n",
      "INFO:azure.eventhub.aio._eventprocessor.event_processor:start ownership '0', checkpoint None\n",
      "INFO:azure.eventhub._pyamqp.aio._connection_async:Connection state changed: None -> <ConnectionState.START: 0>\n",
      "INFO:azure.eventhub._pyamqp.aio._connection_async:Connection state changed: <ConnectionState.START: 0> -> <ConnectionState.HDR_SENT: 2>\n",
      "INFO:azure.eventhub._pyamqp.aio._connection_async:Connection state changed: <ConnectionState.HDR_SENT: 2> -> <ConnectionState.HDR_SENT: 2>\n",
      "INFO:azure.eventhub._pyamqp.aio._connection_async:Connection state changed: <ConnectionState.HDR_SENT: 2> -> <ConnectionState.OPEN_PIPE: 4>\n",
      "INFO:azure.eventhub._pyamqp.aio._session_async:Session state changed: <SessionState.UNMAPPED: 0> -> <SessionState.BEGIN_SENT: 1>\n",
      "INFO:azure.eventhub._pyamqp.aio._link_async:Link state changed: <LinkState.DETACHED: 0> -> <LinkState.ATTACH_SENT: 1>\n",
      "INFO:azure.eventhub._pyamqp.aio._management_link_async:Management link receiver state changed: <LinkState.DETACHED: 0> -> <LinkState.ATTACH_SENT: 1>\n",
      "INFO:azure.eventhub._pyamqp.aio._link_async:Link state changed: <LinkState.DETACHED: 0> -> <LinkState.ATTACH_SENT: 1>\n",
      "INFO:azure.eventhub._pyamqp.aio._management_link_async:Management link sender state changed: <LinkState.DETACHED: 0> -> <LinkState.ATTACH_SENT: 1>\n",
      "INFO:azure.eventhub._pyamqp.aio._connection_async:Connection state changed: <ConnectionState.OPEN_PIPE: 4> -> <ConnectionState.OPEN_SENT: 7>\n",
      "INFO:azure.eventhub._pyamqp.aio._connection_async:Connection state changed: <ConnectionState.OPEN_SENT: 7> -> <ConnectionState.OPENED: 9>\n",
      "INFO:azure.eventhub._pyamqp.aio._session_async:Session state changed: <SessionState.BEGIN_SENT: 1> -> <SessionState.MAPPED: 3>\n",
      "INFO:azure.eventhub._pyamqp.aio._link_async:Link state changed: <LinkState.ATTACH_SENT: 1> -> <LinkState.ATTACHED: 3>\n",
      "INFO:azure.eventhub._pyamqp.aio._management_link_async:Management link receiver state changed: <LinkState.ATTACH_SENT: 1> -> <LinkState.ATTACHED: 3>\n",
      "INFO:azure.eventhub._pyamqp.aio._link_async:Link state changed: <LinkState.ATTACH_SENT: 1> -> <LinkState.ATTACHED: 3>\n",
      "INFO:azure.eventhub._pyamqp.aio._management_link_async:Management link sender state changed: <LinkState.ATTACH_SENT: 1> -> <LinkState.ATTACHED: 3>\n",
      "INFO:azure.eventhub._pyamqp.aio._cbs_async:CBS completed opening with status: <ManagementOpenResult.OK: 1>\n",
      "INFO:azure.eventhub._pyamqp.aio._link_async:Link state changed: <LinkState.DETACHED: 0> -> <LinkState.ATTACH_SENT: 1>\n",
      "INFO:azure.eventhub._pyamqp.aio._link_async:Link state changed: <LinkState.ATTACH_SENT: 1> -> <LinkState.ATTACHED: 3>\n",
      "ERROR:asyncio:Task exception was never retrieved\n",
      "future: <Task finished name='Task-3' coro=<stop_reception() done, defined at /tmp/ipykernel_6906/499093517.py:54> exception=NameError(\"name 'client' is not defined\")>\n",
      "Traceback (most recent call last):\n",
      "  File \"/opt/conda/lib/python3.11/asyncio/tasks.py\", line 267, in __step\n",
      "    result = coro.send(None)\n",
      "             ^^^^^^^^^^^^^^^\n",
      "  File \"/tmp/ipykernel_6906/499093517.py\", line 57, in stop_reception\n",
      "    await client.close()\n",
      "          ^^^^^^\n",
      "NameError: name 'client' is not defined\n",
      "ERROR:asyncio:Task exception was never retrieved\n",
      "future: <Task finished name='Task-6' coro=<stop_reception() done, defined at /tmp/ipykernel_6906/2551730272.py:54> exception=NameError(\"name 'client' is not defined\")>\n",
      "Traceback (most recent call last):\n",
      "  File \"/opt/conda/lib/python3.11/asyncio/tasks.py\", line 267, in __step\n",
      "    result = coro.send(None)\n",
      "             ^^^^^^^^^^^^^^^\n",
      "  File \"/tmp/ipykernel_6906/2551730272.py\", line 57, in stop_reception\n",
      "    await client.close()\n",
      "          ^^^^^^\n",
      "NameError: name 'client' is not defined\n",
      "ERROR:asyncio:Task exception was never retrieved\n",
      "future: <Task finished name='Task-9' coro=<stop_reception() done, defined at /tmp/ipykernel_6906/288165528.py:54> exception=NameError(\"name 'client' is not defined\")>\n",
      "Traceback (most recent call last):\n",
      "  File \"/opt/conda/lib/python3.11/asyncio/tasks.py\", line 267, in __step\n",
      "    result = coro.send(None)\n",
      "             ^^^^^^^^^^^^^^^\n",
      "  File \"/tmp/ipykernel_6906/288165528.py\", line 57, in stop_reception\n",
      "    await client.close()\n",
      "          ^^^^^^\n",
      "NameError: name 'client' is not defined\n"
     ]
    },
    {
     "ename": "KeyboardInterrupt",
     "evalue": "",
     "output_type": "error",
     "traceback": [
      "\u001b[0;31m---------------------------------------------------------------------------\u001b[0m",
      "\u001b[0;31mKeyboardInterrupt\u001b[0m                         Traceback (most recent call last)",
      "Cell \u001b[0;32mIn[6], line 57\u001b[0m\n\u001b[1;32m     54\u001b[0m         \u001b[38;5;28;01mpass\u001b[39;00m  \u001b[38;5;66;03m# Create or clear the output file before starting the process\u001b[39;00m\n\u001b[1;32m     56\u001b[0m loop \u001b[38;5;241m=\u001b[39m asyncio\u001b[38;5;241m.\u001b[39mget_event_loop()\n\u001b[0;32m---> 57\u001b[0m \u001b[43mloop\u001b[49m\u001b[38;5;241;43m.\u001b[39;49m\u001b[43mrun_until_complete\u001b[49m\u001b[43m(\u001b[49m\u001b[43mreceive\u001b[49m\u001b[43m(\u001b[49m\u001b[43m)\u001b[49m\u001b[43m)\u001b[49m\n",
      "File \u001b[0;32m/opt/conda/lib/python3.11/site-packages/nest_asyncio.py:84\u001b[0m, in \u001b[0;36m_patch_loop.<locals>.run_until_complete\u001b[0;34m(self, future)\u001b[0m\n\u001b[1;32m     82\u001b[0m     f\u001b[38;5;241m.\u001b[39m_log_destroy_pending \u001b[38;5;241m=\u001b[39m \u001b[38;5;28;01mFalse\u001b[39;00m\n\u001b[1;32m     83\u001b[0m \u001b[38;5;28;01mwhile\u001b[39;00m \u001b[38;5;129;01mnot\u001b[39;00m f\u001b[38;5;241m.\u001b[39mdone():\n\u001b[0;32m---> 84\u001b[0m     \u001b[38;5;28;43mself\u001b[39;49m\u001b[38;5;241;43m.\u001b[39;49m\u001b[43m_run_once\u001b[49m\u001b[43m(\u001b[49m\u001b[43m)\u001b[49m\n\u001b[1;32m     85\u001b[0m     \u001b[38;5;28;01mif\u001b[39;00m \u001b[38;5;28mself\u001b[39m\u001b[38;5;241m.\u001b[39m_stopping:\n\u001b[1;32m     86\u001b[0m         \u001b[38;5;28;01mbreak\u001b[39;00m\n",
      "File \u001b[0;32m/opt/conda/lib/python3.11/site-packages/nest_asyncio.py:107\u001b[0m, in \u001b[0;36m_patch_loop.<locals>._run_once\u001b[0;34m(self)\u001b[0m\n\u001b[1;32m    100\u001b[0m     heappop(scheduled)\n\u001b[1;32m    102\u001b[0m timeout \u001b[38;5;241m=\u001b[39m (\n\u001b[1;32m    103\u001b[0m     \u001b[38;5;241m0\u001b[39m \u001b[38;5;28;01mif\u001b[39;00m ready \u001b[38;5;129;01mor\u001b[39;00m \u001b[38;5;28mself\u001b[39m\u001b[38;5;241m.\u001b[39m_stopping\n\u001b[1;32m    104\u001b[0m     \u001b[38;5;28;01melse\u001b[39;00m \u001b[38;5;28mmin\u001b[39m(\u001b[38;5;28mmax\u001b[39m(\n\u001b[1;32m    105\u001b[0m         scheduled[\u001b[38;5;241m0\u001b[39m]\u001b[38;5;241m.\u001b[39m_when \u001b[38;5;241m-\u001b[39m \u001b[38;5;28mself\u001b[39m\u001b[38;5;241m.\u001b[39mtime(), \u001b[38;5;241m0\u001b[39m), \u001b[38;5;241m86400\u001b[39m) \u001b[38;5;28;01mif\u001b[39;00m scheduled\n\u001b[1;32m    106\u001b[0m     \u001b[38;5;28;01melse\u001b[39;00m \u001b[38;5;28;01mNone\u001b[39;00m)\n\u001b[0;32m--> 107\u001b[0m event_list \u001b[38;5;241m=\u001b[39m \u001b[38;5;28;43mself\u001b[39;49m\u001b[38;5;241;43m.\u001b[39;49m\u001b[43m_selector\u001b[49m\u001b[38;5;241;43m.\u001b[39;49m\u001b[43mselect\u001b[49m\u001b[43m(\u001b[49m\u001b[43mtimeout\u001b[49m\u001b[43m)\u001b[49m\n\u001b[1;32m    108\u001b[0m \u001b[38;5;28mself\u001b[39m\u001b[38;5;241m.\u001b[39m_process_events(event_list)\n\u001b[1;32m    110\u001b[0m end_time \u001b[38;5;241m=\u001b[39m \u001b[38;5;28mself\u001b[39m\u001b[38;5;241m.\u001b[39mtime() \u001b[38;5;241m+\u001b[39m \u001b[38;5;28mself\u001b[39m\u001b[38;5;241m.\u001b[39m_clock_resolution\n",
      "File \u001b[0;32m/opt/conda/lib/python3.11/selectors.py:468\u001b[0m, in \u001b[0;36mEpollSelector.select\u001b[0;34m(self, timeout)\u001b[0m\n\u001b[1;32m    466\u001b[0m ready \u001b[38;5;241m=\u001b[39m []\n\u001b[1;32m    467\u001b[0m \u001b[38;5;28;01mtry\u001b[39;00m:\n\u001b[0;32m--> 468\u001b[0m     fd_event_list \u001b[38;5;241m=\u001b[39m \u001b[38;5;28mself\u001b[39m\u001b[38;5;241m.\u001b[39m_selector\u001b[38;5;241m.\u001b[39mpoll(timeout, max_ev)\n\u001b[1;32m    469\u001b[0m \u001b[38;5;28;01mexcept\u001b[39;00m \u001b[38;5;167;01mInterruptedError\u001b[39;00m:\n\u001b[1;32m    470\u001b[0m     \u001b[38;5;28;01mreturn\u001b[39;00m ready\n",
      "\u001b[0;31mKeyboardInterrupt\u001b[0m: "
     ]
    }
   ],
   "source": [
    "#Saving data as json\n",
    "\n",
    "import datetime\n",
    "\n",
    "output_file = f\"streaming_data/streaming_data_{datetime.datetime.now().strftime('%Y-%m-%d_%H-%M-%S')}.json\"\n",
    "\n",
    "\n",
    "import json\n",
    "import logging\n",
    "import asyncio\n",
    "from azure.eventhub.aio import EventHubConsumerClient\n",
    "\n",
    "import nest_asyncio # to allow for event loop in jupyter notebook\n",
    "nest_asyncio.apply()\n",
    "\n",
    "logger = logging.getLogger(\"azure.eventhub\")\n",
    "logging.basicConfig(level=logging.INFO)\n",
    "\n",
    "#Credentials\n",
    "EVENT_HUB_CONN_STR='Endpoint=sb://factored-datathon.servicebus.windows.net/;SharedAccessKeyName=datathon_group_1;SharedAccessKey=2GETvVt0FxyM0bo0Qau4inlmC/w3t4Uut+AEhAnAEgk=;EntityPath=factored_datathon_amazon_reviews_1'\n",
    "EVENTHUB_NAME=\"factored_datathon_amazon_reviews_1\"\n",
    "CONSUMER_GROUP=\"datacticos\"\n",
    "\n",
    "#Connection to Event Hub\n",
    "async def on_event(partition_context, event):\n",
    "    #logger.info(f\"Received event from partition {partition_context.partition_id} with sequence number {event.sequence_number} and data:\\n {list(event.body)}\")\n",
    "    #print(f\"Received event from partition {partition_context.partition_id} with sequence number {event.sequence_number} and data:\\n {list(event.body)}\")\n",
    "    \n",
    "    with open(output_file, \"a+\") as file:\n",
    "        data_str=list(event.body)[0].decode('utf-8')\n",
    "        #convert string to json\n",
    "        data=json.loads(data_str)\n",
    "        json.dump(data, file)\n",
    "        file.write(\"\\n\")\n",
    "\n",
    "    await partition_context.update_checkpoint(event)\n",
    "\n",
    "async def receive():\n",
    "    client =  EventHubConsumerClient.from_connection_string(conn_str=EVENT_HUB_CONN_STR,consumer_group=CONSUMER_GROUP,eventhub_name=EVENTHUB_NAME,)\n",
    "    async with client:\n",
    "        await client.receive(\n",
    "            on_event=on_event,\n",
    "            starting_position=\"-1\",  # \"-1\" is from the beginning of the partition.\n",
    "            #max_wait_time=5,  # seconds\n",
    "        )\n",
    "        # receive events from specified partition:\n",
    "        # await client.receive(on_event=on_event, partition_id='0')\n",
    "\n",
    "if __name__ == '__main__':\n",
    "    \n",
    "    with open(output_file, \"w\"):\n",
    "            pass  # Create or clear the output file before starting the process\n",
    "\n",
    "    loop = asyncio.get_event_loop()\n",
    "    loop.run_until_complete(receive())"
   ]
  },
  {
   "cell_type": "code",
   "execution_count": 40,
   "id": "a03af27f-ac4f-4dff-be1b-df9d87a9e47d",
   "metadata": {},
   "outputs": [],
   "source": [
    "#Load the data from Amazon reviews streaming using spark\n",
    "df_streaming_reviews = spark.read.json(f\"streaming_data/\")"
   ]
  },
  {
   "cell_type": "code",
   "execution_count": 41,
   "id": "f65950b5-6cbd-4ffb-9c2a-2f73536d371e",
   "metadata": {},
   "outputs": [
    {
     "name": "stdout",
     "output_type": "stream",
     "text": [
      "+----------+--------------------+------------------+-------+----------------+--------------------+--------------+--------------------+--------------------+--------------------+--------+----+\n",
      "|      asin|               image|internal_partition|overall|partition_number|          reviewText|    reviewerID|        reviewerName|               style|             summary|verified|vote|\n",
      "+----------+--------------------+------------------+-------+----------------+--------------------+--------------+--------------------+--------------------+--------------------+--------+----+\n",
      "|B0002F7524|                null|                 0|    5.0|       140010213|this thing is the...| ART43EESRGMNC|             Frauwst|                null|     Huge difference|    true|null|\n",
      "|B015W1VJEW|                null|                 0|    5.0|       140010214|Great quality. Ve...| AL1B1TMCILE5K|                  LM|{\"Size:\":\" 10 by ...|          Five Stars|    true|   5|\n",
      "|B0002F7524|                null|                 0|    4.0|       140010215|I bought this to ...| AA1F8W6QUHBOJ|   thebradleyroberts|                null|Great clutch for ...|    true|null|\n",
      "|B015W1VJEW|                null|                 0|    5.0|       140010216|This is top-notch...| ACSDL76U6MB41|                S.T.|{\"Size:\":\" 10 by ...|Top quality, beau...|    true|   9|\n",
      "|B0002F7524|                null|                 0|    5.0|       140010217|This thing grips ...|A14UOWJ7SMSC6O|            maddog24|                null|So Much Better th...|    true|null|\n",
      "|B015W1VJEW|                null|                 0|    4.0|       140010218|It's a nice looki...|A27VBEK94S3ZI6|              HDWHIT|{\"Size:\":\" 10 by ...|It's a nice looki...|    true|  18|\n",
      "|B0002F7524|                null|                 0|    5.0|       140010219|I was using a ver...| ABPP6J9PWJ25O|Mike Curl aka Red...|                null|Pearl Super Grip ...|    true|null|\n",
      "|B015W1VJEW|                null|                 0|    5.0|       140010220|             Thanks!|A34862RM0B3NQ5|        Kayla Sansom|{\"Size:\":\" 10 by ...|          Five Stars|    true|null|\n",
      "|B0002F7524|                null|                 0|    5.0|       140010221|I bought this pea...|A3AKOKLJ20UFNJ|            A. Sauve|                null|Better than the o...|    true|null|\n",
      "|B015W1VJEW|                null|                 0|    5.0|       140010222|Love the color! L...|A23PZFT5ZKN1NA|                Andy|{\"Size:\":\" 10 by ...|                LOVE|    true|null|\n",
      "|B0002F6TW6|                null|                 0|    5.0|       140010223|I realize it's ju...|A1JFGJSIII8U3E|         Marc Bolger|                null|AA+  The Dry Heav...|   false|null|\n",
      "|B015W1VJEW|                null|                 0|    5.0|       140010224|Exactly as descri...|A22PZ25GW4W3BB|               Susan|{\"Size:\":\" 10 by ...|            Pleased!|    true|  12|\n",
      "|B0002F75F6|                null|                 0|    5.0|       140010225|Truthfully, there...|A3B0XMZRQ1SXBV|Steven Rossellini...|                null|It's The Tuner I ...|    true|null|\n",
      "|B015W2RZZI|                null|                 0|    5.0|       140010226|Only about 6 inch...|A3GE3IO1AS3A8E|               mopps|                null|                  ??|    true|   2|\n",
      "|B0002F75F6|                null|                 0|    5.0|       140010227|i never played an...| A2BWOU506Q4X1|            joojanta|                null|         idiot proof|    true|null|\n",
      "|B015W2RZZI|[\"https://images-...|                 0|    4.0|       140010228|I got them, They ...|A2IB1EFUGPNQTW|        David Winter|                null|so I guess if you...|    true|  15|\n",
      "|B0002F75F6|                null|                 0|    5.0|       140010229|When I recieved t...|A1TGXZB5PLCD6M|           P. Carter|                null|Effective and in ...|   false|null|\n",
      "|B015W2RZZI|                null|                 0|    5.0|       140010230|It arrived in per...| A9OX454E02664|             John FM|                null|Now it is safely ...|    true|null|\n",
      "|B0002F75F6|                null|                 0|    3.0|       140010231|I find this tuner...|A16D8IM5MBS98F|        Kirby Stortz|                null|  Good within limits|   false|   2|\n",
      "|B015W9Z3JQ|                null|                 0|    1.0|       140010232|This is a piece o...|A22IB1M8DRMYOO|                  EW|                null|            One Star|    true|null|\n",
      "+----------+--------------------+------------------+-------+----------------+--------------------+--------------+--------------------+--------------------+--------------------+--------+----+\n",
      "only showing top 20 rows\n",
      "\n"
     ]
    }
   ],
   "source": [
    "df_streaming_reviews.show()"
   ]
  },
  {
   "cell_type": "code",
   "execution_count": 43,
   "id": "2aec6252-64a1-4b99-9163-2ba23327c636",
   "metadata": {},
   "outputs": [
    {
     "data": {
      "text/plain": [
       "60000"
      ]
     },
     "execution_count": 43,
     "metadata": {},
     "output_type": "execute_result"
    }
   ],
   "source": [
    "df_streaming_reviews.count()"
   ]
  },
  {
   "cell_type": "code",
   "execution_count": 51,
   "id": "f50285c3-538e-44ad-ad7b-4c61ac5b918e",
   "metadata": {},
   "outputs": [],
   "source": [
    "# Drop the attributes that we consider least relevant\n",
    "df_streaming_reviews_2 = df_streaming_reviews.drop(\"image\", \"style\", \"reviewerName\", \"verified\", \"internal_partition\")"
   ]
  },
  {
   "cell_type": "code",
   "execution_count": 52,
   "id": "6eb4a511-7910-4722-8492-c17973c95335",
   "metadata": {},
   "outputs": [
    {
     "name": "stdout",
     "output_type": "stream",
     "text": [
      "+----------+-------+----------------+--------------------+--------------+--------------------+----+\n",
      "|      asin|overall|partition_number|          reviewText|    reviewerID|             summary|vote|\n",
      "+----------+-------+----------------+--------------------+--------------+--------------------+----+\n",
      "|B0002F7524|    5.0|       140010213|this thing is the...| ART43EESRGMNC|     Huge difference|null|\n",
      "|B015W1VJEW|    5.0|       140010214|Great quality. Ve...| AL1B1TMCILE5K|          Five Stars|   5|\n",
      "|B0002F7524|    4.0|       140010215|I bought this to ...| AA1F8W6QUHBOJ|Great clutch for ...|null|\n",
      "|B015W1VJEW|    5.0|       140010216|This is top-notch...| ACSDL76U6MB41|Top quality, beau...|   9|\n",
      "|B0002F7524|    5.0|       140010217|This thing grips ...|A14UOWJ7SMSC6O|So Much Better th...|null|\n",
      "|B015W1VJEW|    4.0|       140010218|It's a nice looki...|A27VBEK94S3ZI6|It's a nice looki...|  18|\n",
      "|B0002F7524|    5.0|       140010219|I was using a ver...| ABPP6J9PWJ25O|Pearl Super Grip ...|null|\n",
      "|B015W1VJEW|    5.0|       140010220|             Thanks!|A34862RM0B3NQ5|          Five Stars|null|\n",
      "|B0002F7524|    5.0|       140010221|I bought this pea...|A3AKOKLJ20UFNJ|Better than the o...|null|\n",
      "|B015W1VJEW|    5.0|       140010222|Love the color! L...|A23PZFT5ZKN1NA|                LOVE|null|\n",
      "|B0002F6TW6|    5.0|       140010223|I realize it's ju...|A1JFGJSIII8U3E|AA+  The Dry Heav...|null|\n",
      "|B015W1VJEW|    5.0|       140010224|Exactly as descri...|A22PZ25GW4W3BB|            Pleased!|  12|\n",
      "|B0002F75F6|    5.0|       140010225|Truthfully, there...|A3B0XMZRQ1SXBV|It's The Tuner I ...|null|\n",
      "|B015W2RZZI|    5.0|       140010226|Only about 6 inch...|A3GE3IO1AS3A8E|                  ??|   2|\n",
      "|B0002F75F6|    5.0|       140010227|i never played an...| A2BWOU506Q4X1|         idiot proof|null|\n",
      "|B015W2RZZI|    4.0|       140010228|I got them, They ...|A2IB1EFUGPNQTW|so I guess if you...|  15|\n",
      "|B0002F75F6|    5.0|       140010229|When I recieved t...|A1TGXZB5PLCD6M|Effective and in ...|null|\n",
      "|B015W2RZZI|    5.0|       140010230|It arrived in per...| A9OX454E02664|Now it is safely ...|null|\n",
      "|B0002F75F6|    3.0|       140010231|I find this tuner...|A16D8IM5MBS98F|  Good within limits|   2|\n",
      "|B015W9Z3JQ|    1.0|       140010232|This is a piece o...|A22IB1M8DRMYOO|            One Star|null|\n",
      "+----------+-------+----------------+--------------------+--------------+--------------------+----+\n",
      "only showing top 20 rows\n",
      "\n"
     ]
    }
   ],
   "source": [
    "df_streaming_reviews_2.show()"
   ]
  },
  {
   "cell_type": "code",
   "execution_count": 53,
   "id": "0fbae58c-76b7-4cc7-8b9a-4629f6820633",
   "metadata": {},
   "outputs": [],
   "source": [
    "# Convert overall and vote fields to integer and reviewTime to date format\n",
    "df_streaming_reviews_2 = df_streaming_reviews_2.withColumn(\"overall\", col(\"overall\").cast(\"integer\"))\\\n",
    ".withColumn(\"vote\", col(\"vote\").cast(\"integer\"))"
   ]
  },
  {
   "cell_type": "code",
   "execution_count": 72,
   "id": "bc8b57df-db04-436d-9232-6ee760a00bb9",
   "metadata": {},
   "outputs": [],
   "source": [
    "# Inner Join to combine Streaming Reviews with Meta (Get our master table for streaming data)\n",
    "df_reviews_streaming_master_table = df_streaming_reviews_2.join(df_meta_clean, on=[\"asin\"], how=\"left\")"
   ]
  },
  {
   "cell_type": "markdown",
   "id": "6ed20ad5-a4dc-4959-a4b0-4bfbeb067fe1",
   "metadata": {},
   "source": [
    "## Export Reviews (Streaming) to Parquet "
   ]
  },
  {
   "cell_type": "code",
   "execution_count": 67,
   "id": "a9907678-6ed0-4afa-a3f6-d1deae31d945",
   "metadata": {},
   "outputs": [],
   "source": [
    "## Export master table (Batch) to Parquet \n",
    "path_parquet = 'reviews_streaming_data'\n",
    "df_reviews_streaming_master_table.write.mode(\"overwrite\").option(\"compression\", \"gzip\").parquet(path_parquet)"
   ]
  }
 ],
 "metadata": {
  "kernelspec": {
   "display_name": "Python 3 (ipykernel)",
   "language": "python",
   "name": "python3"
  },
  "language_info": {
   "codemirror_mode": {
    "name": "ipython",
    "version": 3
   },
   "file_extension": ".py",
   "mimetype": "text/x-python",
   "name": "python",
   "nbconvert_exporter": "python",
   "pygments_lexer": "ipython3",
   "version": "3.11.4"
  }
 },
 "nbformat": 4,
 "nbformat_minor": 5
}
